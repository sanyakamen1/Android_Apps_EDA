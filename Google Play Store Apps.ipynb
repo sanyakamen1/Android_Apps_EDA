{
 "cells": [
  {
   "cell_type": "code",
   "execution_count": 1,
   "id": "b90aebae",
   "metadata": {},
   "outputs": [],
   "source": [
    "import numpy as np\n",
    "import pandas as pd\n",
    "pd.options.mode.chained_assignment = None\n",
    "import scipy.stats as stats\n",
    "import matplotlib.pyplot as plt\n",
    "import seaborn as sns"
   ]
  },
  {
   "cell_type": "code",
   "execution_count": 2,
   "id": "e43f94d8",
   "metadata": {},
   "outputs": [],
   "source": [
    "apps = pd.read_csv('googleplaystore.csv')"
   ]
  },
  {
   "cell_type": "code",
   "execution_count": 3,
   "id": "0cea4536",
   "metadata": {},
   "outputs": [
    {
     "data": {
      "text/html": [
       "<div>\n",
       "<style scoped>\n",
       "    .dataframe tbody tr th:only-of-type {\n",
       "        vertical-align: middle;\n",
       "    }\n",
       "\n",
       "    .dataframe tbody tr th {\n",
       "        vertical-align: top;\n",
       "    }\n",
       "\n",
       "    .dataframe thead th {\n",
       "        text-align: right;\n",
       "    }\n",
       "</style>\n",
       "<table border=\"1\" class=\"dataframe\">\n",
       "  <thead>\n",
       "    <tr style=\"text-align: right;\">\n",
       "      <th></th>\n",
       "      <th>App</th>\n",
       "      <th>Category</th>\n",
       "      <th>Rating</th>\n",
       "      <th>Reviews</th>\n",
       "      <th>Size</th>\n",
       "      <th>Installs</th>\n",
       "      <th>Type</th>\n",
       "      <th>Price</th>\n",
       "      <th>Content Rating</th>\n",
       "      <th>Genres</th>\n",
       "      <th>Last Updated</th>\n",
       "      <th>Current Ver</th>\n",
       "      <th>Android Ver</th>\n",
       "    </tr>\n",
       "  </thead>\n",
       "  <tbody>\n",
       "    <tr>\n",
       "      <th>0</th>\n",
       "      <td>Photo Editor &amp; Candy Camera &amp; Grid &amp; ScrapBook</td>\n",
       "      <td>ART_AND_DESIGN</td>\n",
       "      <td>4.1</td>\n",
       "      <td>159</td>\n",
       "      <td>19M</td>\n",
       "      <td>10,000+</td>\n",
       "      <td>Free</td>\n",
       "      <td>0</td>\n",
       "      <td>Everyone</td>\n",
       "      <td>Art &amp; Design</td>\n",
       "      <td>January 7, 2018</td>\n",
       "      <td>1.0.0</td>\n",
       "      <td>4.0.3 and up</td>\n",
       "    </tr>\n",
       "    <tr>\n",
       "      <th>1</th>\n",
       "      <td>Coloring book moana</td>\n",
       "      <td>ART_AND_DESIGN</td>\n",
       "      <td>3.9</td>\n",
       "      <td>967</td>\n",
       "      <td>14M</td>\n",
       "      <td>500,000+</td>\n",
       "      <td>Free</td>\n",
       "      <td>0</td>\n",
       "      <td>Everyone</td>\n",
       "      <td>Art &amp; Design;Pretend Play</td>\n",
       "      <td>January 15, 2018</td>\n",
       "      <td>2.0.0</td>\n",
       "      <td>4.0.3 and up</td>\n",
       "    </tr>\n",
       "    <tr>\n",
       "      <th>2</th>\n",
       "      <td>U Launcher Lite – FREE Live Cool Themes, Hide ...</td>\n",
       "      <td>ART_AND_DESIGN</td>\n",
       "      <td>4.7</td>\n",
       "      <td>87510</td>\n",
       "      <td>8.7M</td>\n",
       "      <td>5,000,000+</td>\n",
       "      <td>Free</td>\n",
       "      <td>0</td>\n",
       "      <td>Everyone</td>\n",
       "      <td>Art &amp; Design</td>\n",
       "      <td>August 1, 2018</td>\n",
       "      <td>1.2.4</td>\n",
       "      <td>4.0.3 and up</td>\n",
       "    </tr>\n",
       "    <tr>\n",
       "      <th>3</th>\n",
       "      <td>Sketch - Draw &amp; Paint</td>\n",
       "      <td>ART_AND_DESIGN</td>\n",
       "      <td>4.5</td>\n",
       "      <td>215644</td>\n",
       "      <td>25M</td>\n",
       "      <td>50,000,000+</td>\n",
       "      <td>Free</td>\n",
       "      <td>0</td>\n",
       "      <td>Teen</td>\n",
       "      <td>Art &amp; Design</td>\n",
       "      <td>June 8, 2018</td>\n",
       "      <td>Varies with device</td>\n",
       "      <td>4.2 and up</td>\n",
       "    </tr>\n",
       "    <tr>\n",
       "      <th>4</th>\n",
       "      <td>Pixel Draw - Number Art Coloring Book</td>\n",
       "      <td>ART_AND_DESIGN</td>\n",
       "      <td>4.3</td>\n",
       "      <td>967</td>\n",
       "      <td>2.8M</td>\n",
       "      <td>100,000+</td>\n",
       "      <td>Free</td>\n",
       "      <td>0</td>\n",
       "      <td>Everyone</td>\n",
       "      <td>Art &amp; Design;Creativity</td>\n",
       "      <td>June 20, 2018</td>\n",
       "      <td>1.1</td>\n",
       "      <td>4.4 and up</td>\n",
       "    </tr>\n",
       "  </tbody>\n",
       "</table>\n",
       "</div>"
      ],
      "text/plain": [
       "                                                 App        Category  Rating  \\\n",
       "0     Photo Editor & Candy Camera & Grid & ScrapBook  ART_AND_DESIGN     4.1   \n",
       "1                                Coloring book moana  ART_AND_DESIGN     3.9   \n",
       "2  U Launcher Lite – FREE Live Cool Themes, Hide ...  ART_AND_DESIGN     4.7   \n",
       "3                              Sketch - Draw & Paint  ART_AND_DESIGN     4.5   \n",
       "4              Pixel Draw - Number Art Coloring Book  ART_AND_DESIGN     4.3   \n",
       "\n",
       "  Reviews  Size     Installs  Type Price Content Rating  \\\n",
       "0     159   19M      10,000+  Free     0       Everyone   \n",
       "1     967   14M     500,000+  Free     0       Everyone   \n",
       "2   87510  8.7M   5,000,000+  Free     0       Everyone   \n",
       "3  215644   25M  50,000,000+  Free     0           Teen   \n",
       "4     967  2.8M     100,000+  Free     0       Everyone   \n",
       "\n",
       "                      Genres      Last Updated         Current Ver  \\\n",
       "0               Art & Design   January 7, 2018               1.0.0   \n",
       "1  Art & Design;Pretend Play  January 15, 2018               2.0.0   \n",
       "2               Art & Design    August 1, 2018               1.2.4   \n",
       "3               Art & Design      June 8, 2018  Varies with device   \n",
       "4    Art & Design;Creativity     June 20, 2018                 1.1   \n",
       "\n",
       "    Android Ver  \n",
       "0  4.0.3 and up  \n",
       "1  4.0.3 and up  \n",
       "2  4.0.3 and up  \n",
       "3    4.2 and up  \n",
       "4    4.4 and up  "
      ]
     },
     "execution_count": 3,
     "metadata": {},
     "output_type": "execute_result"
    }
   ],
   "source": [
    "apps.head()"
   ]
  },
  {
   "cell_type": "markdown",
   "id": "15aae0c2",
   "metadata": {},
   "source": [
    "Let's decide what's important for business"
   ]
  },
  {
   "cell_type": "markdown",
   "id": "9a47ec4d",
   "metadata": {},
   "source": [
    "Firstly, we are interested in rating and installs as target variables. We also would like to get some insights about other features' relations, but rating and installs are the most important for business in the first place. If we realease our app, we'd like to get as much downloads as possible with the highest rating as well."
   ]
  },
  {
   "cell_type": "markdown",
   "id": "709340cc",
   "metadata": {},
   "source": [
    "Thus we will investigate what affects rating and app installs"
   ]
  },
  {
   "cell_type": "markdown",
   "id": "942bcf88",
   "metadata": {},
   "source": [
    "##### Hypotheses:  \n",
    "Category distribution  \n",
    "App ratings across categories - One-Way ANOVA  \n",
    "App prices distribution  \n",
    "Paid and Free apps installs  \n",
    "Explore correlations  \n",
    "Build regression model for rating  \n",
    "Paid vs Free apps rating  \n",
    "Install by Category  \n",
    "Content Rating distribution + installs  \n",
    "Content Rating vs Rating  \n",
    "Most expensive categories  \n",
    "App size vs Rating  \n",
    "Rating vs Installs  \n",
    "Rating vs Reviews"
   ]
  },
  {
   "cell_type": "markdown",
   "id": "35846907",
   "metadata": {},
   "source": [
    "# Cleaning and Formatting Data"
   ]
  },
  {
   "cell_type": "code",
   "execution_count": 4,
   "id": "8e0138f8",
   "metadata": {},
   "outputs": [
    {
     "name": "stdout",
     "output_type": "stream",
     "text": [
      "<class 'pandas.core.frame.DataFrame'>\n",
      "RangeIndex: 10841 entries, 0 to 10840\n",
      "Data columns (total 13 columns):\n",
      " #   Column          Non-Null Count  Dtype  \n",
      "---  ------          --------------  -----  \n",
      " 0   App             10841 non-null  object \n",
      " 1   Category        10841 non-null  object \n",
      " 2   Rating          9367 non-null   float64\n",
      " 3   Reviews         10841 non-null  object \n",
      " 4   Size            10841 non-null  object \n",
      " 5   Installs        10841 non-null  object \n",
      " 6   Type            10840 non-null  object \n",
      " 7   Price           10841 non-null  object \n",
      " 8   Content Rating  10840 non-null  object \n",
      " 9   Genres          10841 non-null  object \n",
      " 10  Last Updated    10841 non-null  object \n",
      " 11  Current Ver     10833 non-null  object \n",
      " 12  Android Ver     10838 non-null  object \n",
      "dtypes: float64(1), object(12)\n",
      "memory usage: 1.1+ MB\n"
     ]
    }
   ],
   "source": [
    "# info about our data\n",
    "apps.info()"
   ]
  },
  {
   "cell_type": "code",
   "execution_count": 5,
   "id": "a4264bad",
   "metadata": {},
   "outputs": [
    {
     "data": {
      "text/plain": [
       "count      10841\n",
       "unique      9660\n",
       "top       ROBLOX\n",
       "freq           9\n",
       "Name: App, dtype: object"
      ]
     },
     "execution_count": 5,
     "metadata": {},
     "output_type": "execute_result"
    }
   ],
   "source": [
    "apps.App.describe()"
   ]
  },
  {
   "cell_type": "markdown",
   "id": "6513e756",
   "metadata": {},
   "source": [
    "Not all apps are unique in this dataset. We have to do smth with this"
   ]
  },
  {
   "cell_type": "code",
   "execution_count": 6,
   "id": "78d22ece",
   "metadata": {},
   "outputs": [
    {
     "data": {
      "text/html": [
       "<div>\n",
       "<style scoped>\n",
       "    .dataframe tbody tr th:only-of-type {\n",
       "        vertical-align: middle;\n",
       "    }\n",
       "\n",
       "    .dataframe tbody tr th {\n",
       "        vertical-align: top;\n",
       "    }\n",
       "\n",
       "    .dataframe thead th {\n",
       "        text-align: right;\n",
       "    }\n",
       "</style>\n",
       "<table border=\"1\" class=\"dataframe\">\n",
       "  <thead>\n",
       "    <tr style=\"text-align: right;\">\n",
       "      <th></th>\n",
       "      <th>App</th>\n",
       "      <th>Count</th>\n",
       "    </tr>\n",
       "  </thead>\n",
       "  <tbody>\n",
       "    <tr>\n",
       "      <th>570</th>\n",
       "      <td>ROBLOX</td>\n",
       "      <td>9</td>\n",
       "    </tr>\n",
       "    <tr>\n",
       "      <th>102</th>\n",
       "      <td>CBS Sports App - Scores, News, Stats &amp; Watch Live</td>\n",
       "      <td>8</td>\n",
       "    </tr>\n",
       "    <tr>\n",
       "      <th>211</th>\n",
       "      <td>Duolingo: Learn Languages Free</td>\n",
       "      <td>7</td>\n",
       "    </tr>\n",
       "    <tr>\n",
       "      <th>218</th>\n",
       "      <td>ESPN</td>\n",
       "      <td>7</td>\n",
       "    </tr>\n",
       "    <tr>\n",
       "      <th>6</th>\n",
       "      <td>8 Ball Pool</td>\n",
       "      <td>7</td>\n",
       "    </tr>\n",
       "    <tr>\n",
       "      <th>...</th>\n",
       "      <td>...</td>\n",
       "      <td>...</td>\n",
       "    </tr>\n",
       "    <tr>\n",
       "      <th>301</th>\n",
       "      <td>Golfshot: Golf GPS + Tee Times</td>\n",
       "      <td>2</td>\n",
       "    </tr>\n",
       "    <tr>\n",
       "      <th>302</th>\n",
       "      <td>Google</td>\n",
       "      <td>2</td>\n",
       "    </tr>\n",
       "    <tr>\n",
       "      <th>305</th>\n",
       "      <td>Google Analytics</td>\n",
       "      <td>2</td>\n",
       "    </tr>\n",
       "    <tr>\n",
       "      <th>311</th>\n",
       "      <td>Google Duo - High Quality Video Calls</td>\n",
       "      <td>2</td>\n",
       "    </tr>\n",
       "    <tr>\n",
       "      <th>797</th>\n",
       "      <td>wetter.com - Weather and Radar</td>\n",
       "      <td>2</td>\n",
       "    </tr>\n",
       "  </tbody>\n",
       "</table>\n",
       "<p>798 rows × 2 columns</p>\n",
       "</div>"
      ],
      "text/plain": [
       "                                                   App  Count\n",
       "570                                             ROBLOX      9\n",
       "102  CBS Sports App - Scores, News, Stats & Watch Live      8\n",
       "211                     Duolingo: Learn Languages Free      7\n",
       "218                                               ESPN      7\n",
       "6                                          8 Ball Pool      7\n",
       "..                                                 ...    ...\n",
       "301                     Golfshot: Golf GPS + Tee Times      2\n",
       "302                                             Google      2\n",
       "305                                   Google Analytics      2\n",
       "311              Google Duo - High Quality Video Calls      2\n",
       "797                     wetter.com - Weather and Radar      2\n",
       "\n",
       "[798 rows x 2 columns]"
      ]
     },
     "execution_count": 6,
     "metadata": {},
     "output_type": "execute_result"
    }
   ],
   "source": [
    "pd.DataFrame(apps.groupby('App').App.count().loc[apps.groupby('App').App.count() > 1])\\\n",
    "    .rename(columns={'App': 'Count'}).reset_index().sort_values(by='Count', ascending=False)"
   ]
  },
  {
   "cell_type": "markdown",
   "id": "978b8268",
   "metadata": {},
   "source": [
    "798 apps with appearing more than 1 time"
   ]
  },
  {
   "cell_type": "code",
   "execution_count": 7,
   "id": "cb6c0eb7",
   "metadata": {},
   "outputs": [
    {
     "data": {
      "text/html": [
       "<div>\n",
       "<style scoped>\n",
       "    .dataframe tbody tr th:only-of-type {\n",
       "        vertical-align: middle;\n",
       "    }\n",
       "\n",
       "    .dataframe tbody tr th {\n",
       "        vertical-align: top;\n",
       "    }\n",
       "\n",
       "    .dataframe thead th {\n",
       "        text-align: right;\n",
       "    }\n",
       "</style>\n",
       "<table border=\"1\" class=\"dataframe\">\n",
       "  <thead>\n",
       "    <tr style=\"text-align: right;\">\n",
       "      <th></th>\n",
       "      <th>App</th>\n",
       "      <th>Category</th>\n",
       "      <th>Rating</th>\n",
       "      <th>Reviews</th>\n",
       "      <th>Size</th>\n",
       "      <th>Installs</th>\n",
       "      <th>Type</th>\n",
       "      <th>Price</th>\n",
       "      <th>Content Rating</th>\n",
       "      <th>Genres</th>\n",
       "      <th>Last Updated</th>\n",
       "      <th>Current Ver</th>\n",
       "      <th>Android Ver</th>\n",
       "    </tr>\n",
       "  </thead>\n",
       "  <tbody>\n",
       "    <tr>\n",
       "      <th>1653</th>\n",
       "      <td>ROBLOX</td>\n",
       "      <td>GAME</td>\n",
       "      <td>4.5</td>\n",
       "      <td>4447388</td>\n",
       "      <td>67M</td>\n",
       "      <td>100,000,000+</td>\n",
       "      <td>Free</td>\n",
       "      <td>0</td>\n",
       "      <td>Everyone 10+</td>\n",
       "      <td>Adventure;Action &amp; Adventure</td>\n",
       "      <td>July 31, 2018</td>\n",
       "      <td>2.347.225742</td>\n",
       "      <td>4.1 and up</td>\n",
       "    </tr>\n",
       "    <tr>\n",
       "      <th>1701</th>\n",
       "      <td>ROBLOX</td>\n",
       "      <td>GAME</td>\n",
       "      <td>4.5</td>\n",
       "      <td>4447346</td>\n",
       "      <td>67M</td>\n",
       "      <td>100,000,000+</td>\n",
       "      <td>Free</td>\n",
       "      <td>0</td>\n",
       "      <td>Everyone 10+</td>\n",
       "      <td>Adventure;Action &amp; Adventure</td>\n",
       "      <td>July 31, 2018</td>\n",
       "      <td>2.347.225742</td>\n",
       "      <td>4.1 and up</td>\n",
       "    </tr>\n",
       "    <tr>\n",
       "      <th>1748</th>\n",
       "      <td>ROBLOX</td>\n",
       "      <td>GAME</td>\n",
       "      <td>4.5</td>\n",
       "      <td>4448791</td>\n",
       "      <td>67M</td>\n",
       "      <td>100,000,000+</td>\n",
       "      <td>Free</td>\n",
       "      <td>0</td>\n",
       "      <td>Everyone 10+</td>\n",
       "      <td>Adventure;Action &amp; Adventure</td>\n",
       "      <td>July 31, 2018</td>\n",
       "      <td>2.347.225742</td>\n",
       "      <td>4.1 and up</td>\n",
       "    </tr>\n",
       "    <tr>\n",
       "      <th>1841</th>\n",
       "      <td>ROBLOX</td>\n",
       "      <td>GAME</td>\n",
       "      <td>4.5</td>\n",
       "      <td>4449882</td>\n",
       "      <td>67M</td>\n",
       "      <td>100,000,000+</td>\n",
       "      <td>Free</td>\n",
       "      <td>0</td>\n",
       "      <td>Everyone 10+</td>\n",
       "      <td>Adventure;Action &amp; Adventure</td>\n",
       "      <td>July 31, 2018</td>\n",
       "      <td>2.347.225742</td>\n",
       "      <td>4.1 and up</td>\n",
       "    </tr>\n",
       "    <tr>\n",
       "      <th>1870</th>\n",
       "      <td>ROBLOX</td>\n",
       "      <td>GAME</td>\n",
       "      <td>4.5</td>\n",
       "      <td>4449910</td>\n",
       "      <td>67M</td>\n",
       "      <td>100,000,000+</td>\n",
       "      <td>Free</td>\n",
       "      <td>0</td>\n",
       "      <td>Everyone 10+</td>\n",
       "      <td>Adventure;Action &amp; Adventure</td>\n",
       "      <td>July 31, 2018</td>\n",
       "      <td>2.347.225742</td>\n",
       "      <td>4.1 and up</td>\n",
       "    </tr>\n",
       "    <tr>\n",
       "      <th>2016</th>\n",
       "      <td>ROBLOX</td>\n",
       "      <td>FAMILY</td>\n",
       "      <td>4.5</td>\n",
       "      <td>4449910</td>\n",
       "      <td>67M</td>\n",
       "      <td>100,000,000+</td>\n",
       "      <td>Free</td>\n",
       "      <td>0</td>\n",
       "      <td>Everyone 10+</td>\n",
       "      <td>Adventure;Action &amp; Adventure</td>\n",
       "      <td>July 31, 2018</td>\n",
       "      <td>2.347.225742</td>\n",
       "      <td>4.1 and up</td>\n",
       "    </tr>\n",
       "    <tr>\n",
       "      <th>2088</th>\n",
       "      <td>ROBLOX</td>\n",
       "      <td>FAMILY</td>\n",
       "      <td>4.5</td>\n",
       "      <td>4450855</td>\n",
       "      <td>67M</td>\n",
       "      <td>100,000,000+</td>\n",
       "      <td>Free</td>\n",
       "      <td>0</td>\n",
       "      <td>Everyone 10+</td>\n",
       "      <td>Adventure;Action &amp; Adventure</td>\n",
       "      <td>July 31, 2018</td>\n",
       "      <td>2.347.225742</td>\n",
       "      <td>4.1 and up</td>\n",
       "    </tr>\n",
       "    <tr>\n",
       "      <th>2206</th>\n",
       "      <td>ROBLOX</td>\n",
       "      <td>FAMILY</td>\n",
       "      <td>4.5</td>\n",
       "      <td>4450890</td>\n",
       "      <td>67M</td>\n",
       "      <td>100,000,000+</td>\n",
       "      <td>Free</td>\n",
       "      <td>0</td>\n",
       "      <td>Everyone 10+</td>\n",
       "      <td>Adventure;Action &amp; Adventure</td>\n",
       "      <td>July 31, 2018</td>\n",
       "      <td>2.347.225742</td>\n",
       "      <td>4.1 and up</td>\n",
       "    </tr>\n",
       "    <tr>\n",
       "      <th>4527</th>\n",
       "      <td>ROBLOX</td>\n",
       "      <td>FAMILY</td>\n",
       "      <td>4.5</td>\n",
       "      <td>4443407</td>\n",
       "      <td>67M</td>\n",
       "      <td>100,000,000+</td>\n",
       "      <td>Free</td>\n",
       "      <td>0</td>\n",
       "      <td>Everyone 10+</td>\n",
       "      <td>Adventure;Action &amp; Adventure</td>\n",
       "      <td>July 31, 2018</td>\n",
       "      <td>2.347.225742</td>\n",
       "      <td>4.1 and up</td>\n",
       "    </tr>\n",
       "  </tbody>\n",
       "</table>\n",
       "</div>"
      ],
      "text/plain": [
       "         App Category  Rating  Reviews Size      Installs  Type Price  \\\n",
       "1653  ROBLOX     GAME     4.5  4447388  67M  100,000,000+  Free     0   \n",
       "1701  ROBLOX     GAME     4.5  4447346  67M  100,000,000+  Free     0   \n",
       "1748  ROBLOX     GAME     4.5  4448791  67M  100,000,000+  Free     0   \n",
       "1841  ROBLOX     GAME     4.5  4449882  67M  100,000,000+  Free     0   \n",
       "1870  ROBLOX     GAME     4.5  4449910  67M  100,000,000+  Free     0   \n",
       "2016  ROBLOX   FAMILY     4.5  4449910  67M  100,000,000+  Free     0   \n",
       "2088  ROBLOX   FAMILY     4.5  4450855  67M  100,000,000+  Free     0   \n",
       "2206  ROBLOX   FAMILY     4.5  4450890  67M  100,000,000+  Free     0   \n",
       "4527  ROBLOX   FAMILY     4.5  4443407  67M  100,000,000+  Free     0   \n",
       "\n",
       "     Content Rating                        Genres   Last Updated  \\\n",
       "1653   Everyone 10+  Adventure;Action & Adventure  July 31, 2018   \n",
       "1701   Everyone 10+  Adventure;Action & Adventure  July 31, 2018   \n",
       "1748   Everyone 10+  Adventure;Action & Adventure  July 31, 2018   \n",
       "1841   Everyone 10+  Adventure;Action & Adventure  July 31, 2018   \n",
       "1870   Everyone 10+  Adventure;Action & Adventure  July 31, 2018   \n",
       "2016   Everyone 10+  Adventure;Action & Adventure  July 31, 2018   \n",
       "2088   Everyone 10+  Adventure;Action & Adventure  July 31, 2018   \n",
       "2206   Everyone 10+  Adventure;Action & Adventure  July 31, 2018   \n",
       "4527   Everyone 10+  Adventure;Action & Adventure  July 31, 2018   \n",
       "\n",
       "       Current Ver Android Ver  \n",
       "1653  2.347.225742  4.1 and up  \n",
       "1701  2.347.225742  4.1 and up  \n",
       "1748  2.347.225742  4.1 and up  \n",
       "1841  2.347.225742  4.1 and up  \n",
       "1870  2.347.225742  4.1 and up  \n",
       "2016  2.347.225742  4.1 and up  \n",
       "2088  2.347.225742  4.1 and up  \n",
       "2206  2.347.225742  4.1 and up  \n",
       "4527  2.347.225742  4.1 and up  "
      ]
     },
     "execution_count": 7,
     "metadata": {},
     "output_type": "execute_result"
    }
   ],
   "source": [
    "apps[apps.App == 'ROBLOX']"
   ]
  },
  {
   "cell_type": "code",
   "execution_count": 8,
   "id": "51aa22b9",
   "metadata": {},
   "outputs": [
    {
     "data": {
      "text/html": [
       "<div>\n",
       "<style scoped>\n",
       "    .dataframe tbody tr th:only-of-type {\n",
       "        vertical-align: middle;\n",
       "    }\n",
       "\n",
       "    .dataframe tbody tr th {\n",
       "        vertical-align: top;\n",
       "    }\n",
       "\n",
       "    .dataframe thead th {\n",
       "        text-align: right;\n",
       "    }\n",
       "</style>\n",
       "<table border=\"1\" class=\"dataframe\">\n",
       "  <thead>\n",
       "    <tr style=\"text-align: right;\">\n",
       "      <th></th>\n",
       "      <th>App</th>\n",
       "      <th>Category</th>\n",
       "      <th>Rating</th>\n",
       "      <th>Reviews</th>\n",
       "      <th>Size</th>\n",
       "      <th>Installs</th>\n",
       "      <th>Type</th>\n",
       "      <th>Price</th>\n",
       "      <th>Content Rating</th>\n",
       "      <th>Genres</th>\n",
       "      <th>Last Updated</th>\n",
       "      <th>Current Ver</th>\n",
       "      <th>Android Ver</th>\n",
       "    </tr>\n",
       "  </thead>\n",
       "  <tbody>\n",
       "    <tr>\n",
       "      <th>3234</th>\n",
       "      <td>Google</td>\n",
       "      <td>TOOLS</td>\n",
       "      <td>4.4</td>\n",
       "      <td>8033493</td>\n",
       "      <td>Varies with device</td>\n",
       "      <td>1,000,000,000+</td>\n",
       "      <td>Free</td>\n",
       "      <td>0</td>\n",
       "      <td>Everyone</td>\n",
       "      <td>Tools</td>\n",
       "      <td>August 3, 2018</td>\n",
       "      <td>Varies with device</td>\n",
       "      <td>Varies with device</td>\n",
       "    </tr>\n",
       "    <tr>\n",
       "      <th>4150</th>\n",
       "      <td>Google</td>\n",
       "      <td>TOOLS</td>\n",
       "      <td>4.4</td>\n",
       "      <td>8021623</td>\n",
       "      <td>Varies with device</td>\n",
       "      <td>1,000,000,000+</td>\n",
       "      <td>Free</td>\n",
       "      <td>0</td>\n",
       "      <td>Everyone</td>\n",
       "      <td>Tools</td>\n",
       "      <td>August 3, 2018</td>\n",
       "      <td>Varies with device</td>\n",
       "      <td>Varies with device</td>\n",
       "    </tr>\n",
       "  </tbody>\n",
       "</table>\n",
       "</div>"
      ],
      "text/plain": [
       "         App Category  Rating  Reviews                Size        Installs  \\\n",
       "3234  Google    TOOLS     4.4  8033493  Varies with device  1,000,000,000+   \n",
       "4150  Google    TOOLS     4.4  8021623  Varies with device  1,000,000,000+   \n",
       "\n",
       "      Type Price Content Rating Genres    Last Updated         Current Ver  \\\n",
       "3234  Free     0       Everyone  Tools  August 3, 2018  Varies with device   \n",
       "4150  Free     0       Everyone  Tools  August 3, 2018  Varies with device   \n",
       "\n",
       "             Android Ver  \n",
       "3234  Varies with device  \n",
       "4150  Varies with device  "
      ]
     },
     "execution_count": 8,
     "metadata": {},
     "output_type": "execute_result"
    }
   ],
   "source": [
    "apps[apps.App == 'Google']"
   ]
  },
  {
   "cell_type": "markdown",
   "id": "3a7f7801",
   "metadata": {},
   "source": [
    "We can see that duplicates differ only in number of reviews, and on a small amount. So I'll drop duplicates leaving the version with the most reviews"
   ]
  },
  {
   "cell_type": "code",
   "execution_count": 9,
   "id": "447ec6e8",
   "metadata": {},
   "outputs": [],
   "source": [
    "apps.drop_duplicates(subset=['App'], keep='first', inplace=True)"
   ]
  },
  {
   "cell_type": "code",
   "execution_count": 10,
   "id": "5316a460",
   "metadata": {},
   "outputs": [
    {
     "data": {
      "text/html": [
       "<div>\n",
       "<style scoped>\n",
       "    .dataframe tbody tr th:only-of-type {\n",
       "        vertical-align: middle;\n",
       "    }\n",
       "\n",
       "    .dataframe tbody tr th {\n",
       "        vertical-align: top;\n",
       "    }\n",
       "\n",
       "    .dataframe thead th {\n",
       "        text-align: right;\n",
       "    }\n",
       "</style>\n",
       "<table border=\"1\" class=\"dataframe\">\n",
       "  <thead>\n",
       "    <tr style=\"text-align: right;\">\n",
       "      <th></th>\n",
       "      <th>App</th>\n",
       "      <th>Category</th>\n",
       "      <th>Rating</th>\n",
       "      <th>Reviews</th>\n",
       "      <th>Size</th>\n",
       "      <th>Installs</th>\n",
       "      <th>Type</th>\n",
       "      <th>Price</th>\n",
       "      <th>Content Rating</th>\n",
       "      <th>Genres</th>\n",
       "      <th>Last Updated</th>\n",
       "      <th>Current Ver</th>\n",
       "      <th>Android Ver</th>\n",
       "    </tr>\n",
       "  </thead>\n",
       "  <tbody>\n",
       "    <tr>\n",
       "      <th>1653</th>\n",
       "      <td>ROBLOX</td>\n",
       "      <td>GAME</td>\n",
       "      <td>4.5</td>\n",
       "      <td>4447388</td>\n",
       "      <td>67M</td>\n",
       "      <td>100,000,000+</td>\n",
       "      <td>Free</td>\n",
       "      <td>0</td>\n",
       "      <td>Everyone 10+</td>\n",
       "      <td>Adventure;Action &amp; Adventure</td>\n",
       "      <td>July 31, 2018</td>\n",
       "      <td>2.347.225742</td>\n",
       "      <td>4.1 and up</td>\n",
       "    </tr>\n",
       "  </tbody>\n",
       "</table>\n",
       "</div>"
      ],
      "text/plain": [
       "         App Category  Rating  Reviews Size      Installs  Type Price  \\\n",
       "1653  ROBLOX     GAME     4.5  4447388  67M  100,000,000+  Free     0   \n",
       "\n",
       "     Content Rating                        Genres   Last Updated  \\\n",
       "1653   Everyone 10+  Adventure;Action & Adventure  July 31, 2018   \n",
       "\n",
       "       Current Ver Android Ver  \n",
       "1653  2.347.225742  4.1 and up  "
      ]
     },
     "execution_count": 10,
     "metadata": {},
     "output_type": "execute_result"
    }
   ],
   "source": [
    "apps[apps.App == 'ROBLOX']"
   ]
  },
  {
   "cell_type": "code",
   "execution_count": 11,
   "id": "6bfd1802",
   "metadata": {},
   "outputs": [
    {
     "data": {
      "text/plain": [
       "count                                               9660\n",
       "unique                                              9660\n",
       "top       Photo Editor & Candy Camera & Grid & ScrapBook\n",
       "freq                                                   1\n",
       "Name: App, dtype: object"
      ]
     },
     "execution_count": 11,
     "metadata": {},
     "output_type": "execute_result"
    }
   ],
   "source": [
    "apps.App.describe()"
   ]
  },
  {
   "cell_type": "code",
   "execution_count": 12,
   "id": "66e27bd4",
   "metadata": {},
   "outputs": [
    {
     "data": {
      "text/plain": [
       "count           9657\n",
       "unique            33\n",
       "top       4.1 and up\n",
       "freq            2202\n",
       "Name: Android Ver, dtype: object"
      ]
     },
     "execution_count": 12,
     "metadata": {},
     "output_type": "execute_result"
    }
   ],
   "source": [
    "apps['Android Ver'].describe()"
   ]
  },
  {
   "cell_type": "markdown",
   "id": "bd3b63b1",
   "metadata": {},
   "source": [
    "I'll drop \"Current Ver\", \"Last Updated\", and \"Android Ver\" columns. Version of app and Last Updated are useless, Android Ver is not very informative"
   ]
  },
  {
   "cell_type": "code",
   "execution_count": 13,
   "id": "a6496a07",
   "metadata": {},
   "outputs": [],
   "source": [
    "apps.drop(columns=['Current Ver', 'Android Ver', 'Last Updated'], inplace=True)"
   ]
  },
  {
   "cell_type": "markdown",
   "id": "148e99c7",
   "metadata": {},
   "source": [
    "As for Reviews, we could create Reviews/Installs feature to check which apps have more reviews, but since we don't know anything about reviews content, this information seems useless for business, thus I'll remove Reviews column"
   ]
  },
  {
   "cell_type": "code",
   "execution_count": 14,
   "id": "a3a61998",
   "metadata": {},
   "outputs": [],
   "source": [
    "apps.drop(columns=['Reviews'], inplace=True)"
   ]
  },
  {
   "cell_type": "code",
   "execution_count": 15,
   "id": "e3b5e9b4",
   "metadata": {},
   "outputs": [
    {
     "name": "stdout",
     "output_type": "stream",
     "text": [
      "<class 'pandas.core.frame.DataFrame'>\n",
      "Int64Index: 9660 entries, 0 to 10840\n",
      "Data columns (total 9 columns):\n",
      " #   Column          Non-Null Count  Dtype  \n",
      "---  ------          --------------  -----  \n",
      " 0   App             9660 non-null   object \n",
      " 1   Category        9660 non-null   object \n",
      " 2   Rating          8197 non-null   float64\n",
      " 3   Size            9660 non-null   object \n",
      " 4   Installs        9660 non-null   object \n",
      " 5   Type            9659 non-null   object \n",
      " 6   Price           9660 non-null   object \n",
      " 7   Content Rating  9659 non-null   object \n",
      " 8   Genres          9660 non-null   object \n",
      "dtypes: float64(1), object(8)\n",
      "memory usage: 754.7+ KB\n"
     ]
    }
   ],
   "source": [
    "apps.info()"
   ]
  },
  {
   "cell_type": "markdown",
   "id": "9aa335c4",
   "metadata": {},
   "source": [
    "Looks like Rating, Type, and Content Rating have null values"
   ]
  },
  {
   "cell_type": "code",
   "execution_count": 16,
   "id": "75bacc7f",
   "metadata": {},
   "outputs": [
    {
     "data": {
      "text/plain": [
       "1463"
      ]
     },
     "execution_count": 16,
     "metadata": {},
     "output_type": "execute_result"
    }
   ],
   "source": [
    "apps.Rating.isnull().sum()"
   ]
  },
  {
   "cell_type": "code",
   "execution_count": 17,
   "id": "3752dd58",
   "metadata": {
    "scrolled": false
   },
   "outputs": [
    {
     "data": {
      "text/html": [
       "<div>\n",
       "<style scoped>\n",
       "    .dataframe tbody tr th:only-of-type {\n",
       "        vertical-align: middle;\n",
       "    }\n",
       "\n",
       "    .dataframe tbody tr th {\n",
       "        vertical-align: top;\n",
       "    }\n",
       "\n",
       "    .dataframe thead th {\n",
       "        text-align: right;\n",
       "    }\n",
       "</style>\n",
       "<table border=\"1\" class=\"dataframe\">\n",
       "  <thead>\n",
       "    <tr style=\"text-align: right;\">\n",
       "      <th></th>\n",
       "      <th>App</th>\n",
       "      <th>Category</th>\n",
       "      <th>Rating</th>\n",
       "      <th>Size</th>\n",
       "      <th>Installs</th>\n",
       "      <th>Type</th>\n",
       "      <th>Price</th>\n",
       "      <th>Content Rating</th>\n",
       "      <th>Genres</th>\n",
       "    </tr>\n",
       "  </thead>\n",
       "  <tbody>\n",
       "    <tr>\n",
       "      <th>23</th>\n",
       "      <td>Mcqueen Coloring pages</td>\n",
       "      <td>ART_AND_DESIGN</td>\n",
       "      <td>NaN</td>\n",
       "      <td>7.0M</td>\n",
       "      <td>100,000+</td>\n",
       "      <td>Free</td>\n",
       "      <td>0</td>\n",
       "      <td>Everyone</td>\n",
       "      <td>Art &amp; Design;Action &amp; Adventure</td>\n",
       "    </tr>\n",
       "    <tr>\n",
       "      <th>113</th>\n",
       "      <td>Wrinkles and rejuvenation</td>\n",
       "      <td>BEAUTY</td>\n",
       "      <td>NaN</td>\n",
       "      <td>5.7M</td>\n",
       "      <td>100,000+</td>\n",
       "      <td>Free</td>\n",
       "      <td>0</td>\n",
       "      <td>Everyone 10+</td>\n",
       "      <td>Beauty</td>\n",
       "    </tr>\n",
       "    <tr>\n",
       "      <th>123</th>\n",
       "      <td>Manicure - nail design</td>\n",
       "      <td>BEAUTY</td>\n",
       "      <td>NaN</td>\n",
       "      <td>3.7M</td>\n",
       "      <td>50,000+</td>\n",
       "      <td>Free</td>\n",
       "      <td>0</td>\n",
       "      <td>Everyone</td>\n",
       "      <td>Beauty</td>\n",
       "    </tr>\n",
       "    <tr>\n",
       "      <th>126</th>\n",
       "      <td>Skin Care and Natural Beauty</td>\n",
       "      <td>BEAUTY</td>\n",
       "      <td>NaN</td>\n",
       "      <td>7.4M</td>\n",
       "      <td>100,000+</td>\n",
       "      <td>Free</td>\n",
       "      <td>0</td>\n",
       "      <td>Teen</td>\n",
       "      <td>Beauty</td>\n",
       "    </tr>\n",
       "    <tr>\n",
       "      <th>129</th>\n",
       "      <td>Secrets of beauty, youth and health</td>\n",
       "      <td>BEAUTY</td>\n",
       "      <td>NaN</td>\n",
       "      <td>2.9M</td>\n",
       "      <td>10,000+</td>\n",
       "      <td>Free</td>\n",
       "      <td>0</td>\n",
       "      <td>Mature 17+</td>\n",
       "      <td>Beauty</td>\n",
       "    </tr>\n",
       "    <tr>\n",
       "      <th>...</th>\n",
       "      <td>...</td>\n",
       "      <td>...</td>\n",
       "      <td>...</td>\n",
       "      <td>...</td>\n",
       "      <td>...</td>\n",
       "      <td>...</td>\n",
       "      <td>...</td>\n",
       "      <td>...</td>\n",
       "      <td>...</td>\n",
       "    </tr>\n",
       "    <tr>\n",
       "      <th>10824</th>\n",
       "      <td>Cardio-FR</td>\n",
       "      <td>MEDICAL</td>\n",
       "      <td>NaN</td>\n",
       "      <td>82M</td>\n",
       "      <td>10,000+</td>\n",
       "      <td>Free</td>\n",
       "      <td>0</td>\n",
       "      <td>Everyone</td>\n",
       "      <td>Medical</td>\n",
       "    </tr>\n",
       "    <tr>\n",
       "      <th>10825</th>\n",
       "      <td>Naruto &amp; Boruto FR</td>\n",
       "      <td>SOCIAL</td>\n",
       "      <td>NaN</td>\n",
       "      <td>7.7M</td>\n",
       "      <td>100+</td>\n",
       "      <td>Free</td>\n",
       "      <td>0</td>\n",
       "      <td>Teen</td>\n",
       "      <td>Social</td>\n",
       "    </tr>\n",
       "    <tr>\n",
       "      <th>10831</th>\n",
       "      <td>payermonstationnement.fr</td>\n",
       "      <td>MAPS_AND_NAVIGATION</td>\n",
       "      <td>NaN</td>\n",
       "      <td>9.8M</td>\n",
       "      <td>5,000+</td>\n",
       "      <td>Free</td>\n",
       "      <td>0</td>\n",
       "      <td>Everyone</td>\n",
       "      <td>Maps &amp; Navigation</td>\n",
       "    </tr>\n",
       "    <tr>\n",
       "      <th>10835</th>\n",
       "      <td>FR Forms</td>\n",
       "      <td>BUSINESS</td>\n",
       "      <td>NaN</td>\n",
       "      <td>9.6M</td>\n",
       "      <td>10+</td>\n",
       "      <td>Free</td>\n",
       "      <td>0</td>\n",
       "      <td>Everyone</td>\n",
       "      <td>Business</td>\n",
       "    </tr>\n",
       "    <tr>\n",
       "      <th>10838</th>\n",
       "      <td>Parkinson Exercices FR</td>\n",
       "      <td>MEDICAL</td>\n",
       "      <td>NaN</td>\n",
       "      <td>9.5M</td>\n",
       "      <td>1,000+</td>\n",
       "      <td>Free</td>\n",
       "      <td>0</td>\n",
       "      <td>Everyone</td>\n",
       "      <td>Medical</td>\n",
       "    </tr>\n",
       "  </tbody>\n",
       "</table>\n",
       "<p>1463 rows × 9 columns</p>\n",
       "</div>"
      ],
      "text/plain": [
       "                                       App             Category  Rating  Size  \\\n",
       "23                  Mcqueen Coloring pages       ART_AND_DESIGN     NaN  7.0M   \n",
       "113              Wrinkles and rejuvenation               BEAUTY     NaN  5.7M   \n",
       "123                 Manicure - nail design               BEAUTY     NaN  3.7M   \n",
       "126           Skin Care and Natural Beauty               BEAUTY     NaN  7.4M   \n",
       "129    Secrets of beauty, youth and health               BEAUTY     NaN  2.9M   \n",
       "...                                    ...                  ...     ...   ...   \n",
       "10824                            Cardio-FR              MEDICAL     NaN   82M   \n",
       "10825                   Naruto & Boruto FR               SOCIAL     NaN  7.7M   \n",
       "10831             payermonstationnement.fr  MAPS_AND_NAVIGATION     NaN  9.8M   \n",
       "10835                             FR Forms             BUSINESS     NaN  9.6M   \n",
       "10838               Parkinson Exercices FR              MEDICAL     NaN  9.5M   \n",
       "\n",
       "       Installs  Type Price Content Rating                           Genres  \n",
       "23     100,000+  Free     0       Everyone  Art & Design;Action & Adventure  \n",
       "113    100,000+  Free     0   Everyone 10+                           Beauty  \n",
       "123     50,000+  Free     0       Everyone                           Beauty  \n",
       "126    100,000+  Free     0           Teen                           Beauty  \n",
       "129     10,000+  Free     0     Mature 17+                           Beauty  \n",
       "...         ...   ...   ...            ...                              ...  \n",
       "10824   10,000+  Free     0       Everyone                          Medical  \n",
       "10825      100+  Free     0           Teen                           Social  \n",
       "10831    5,000+  Free     0       Everyone                Maps & Navigation  \n",
       "10835       10+  Free     0       Everyone                         Business  \n",
       "10838    1,000+  Free     0       Everyone                          Medical  \n",
       "\n",
       "[1463 rows x 9 columns]"
      ]
     },
     "execution_count": 17,
     "metadata": {},
     "output_type": "execute_result"
    }
   ],
   "source": [
    "apps[apps.Rating.isnull()]"
   ]
  },
  {
   "cell_type": "markdown",
   "id": "1d3a48c9",
   "metadata": {},
   "source": [
    "More than 10% of our data has NaN rating. Will will predict these samples' rating later"
   ]
  },
  {
   "cell_type": "code",
   "execution_count": 18,
   "id": "62fdb9d4",
   "metadata": {},
   "outputs": [],
   "source": [
    "test = apps[apps.Rating.isnull()]"
   ]
  },
  {
   "cell_type": "code",
   "execution_count": 19,
   "id": "25ab67b5",
   "metadata": {},
   "outputs": [
    {
     "data": {
      "text/html": [
       "<div>\n",
       "<style scoped>\n",
       "    .dataframe tbody tr th:only-of-type {\n",
       "        vertical-align: middle;\n",
       "    }\n",
       "\n",
       "    .dataframe tbody tr th {\n",
       "        vertical-align: top;\n",
       "    }\n",
       "\n",
       "    .dataframe thead th {\n",
       "        text-align: right;\n",
       "    }\n",
       "</style>\n",
       "<table border=\"1\" class=\"dataframe\">\n",
       "  <thead>\n",
       "    <tr style=\"text-align: right;\">\n",
       "      <th></th>\n",
       "      <th>App</th>\n",
       "      <th>Category</th>\n",
       "      <th>Rating</th>\n",
       "      <th>Size</th>\n",
       "      <th>Installs</th>\n",
       "      <th>Type</th>\n",
       "      <th>Price</th>\n",
       "      <th>Content Rating</th>\n",
       "      <th>Genres</th>\n",
       "    </tr>\n",
       "  </thead>\n",
       "  <tbody>\n",
       "    <tr>\n",
       "      <th>23</th>\n",
       "      <td>Mcqueen Coloring pages</td>\n",
       "      <td>ART_AND_DESIGN</td>\n",
       "      <td>NaN</td>\n",
       "      <td>7.0M</td>\n",
       "      <td>100,000+</td>\n",
       "      <td>Free</td>\n",
       "      <td>0</td>\n",
       "      <td>Everyone</td>\n",
       "      <td>Art &amp; Design;Action &amp; Adventure</td>\n",
       "    </tr>\n",
       "    <tr>\n",
       "      <th>113</th>\n",
       "      <td>Wrinkles and rejuvenation</td>\n",
       "      <td>BEAUTY</td>\n",
       "      <td>NaN</td>\n",
       "      <td>5.7M</td>\n",
       "      <td>100,000+</td>\n",
       "      <td>Free</td>\n",
       "      <td>0</td>\n",
       "      <td>Everyone 10+</td>\n",
       "      <td>Beauty</td>\n",
       "    </tr>\n",
       "    <tr>\n",
       "      <th>123</th>\n",
       "      <td>Manicure - nail design</td>\n",
       "      <td>BEAUTY</td>\n",
       "      <td>NaN</td>\n",
       "      <td>3.7M</td>\n",
       "      <td>50,000+</td>\n",
       "      <td>Free</td>\n",
       "      <td>0</td>\n",
       "      <td>Everyone</td>\n",
       "      <td>Beauty</td>\n",
       "    </tr>\n",
       "    <tr>\n",
       "      <th>126</th>\n",
       "      <td>Skin Care and Natural Beauty</td>\n",
       "      <td>BEAUTY</td>\n",
       "      <td>NaN</td>\n",
       "      <td>7.4M</td>\n",
       "      <td>100,000+</td>\n",
       "      <td>Free</td>\n",
       "      <td>0</td>\n",
       "      <td>Teen</td>\n",
       "      <td>Beauty</td>\n",
       "    </tr>\n",
       "    <tr>\n",
       "      <th>129</th>\n",
       "      <td>Secrets of beauty, youth and health</td>\n",
       "      <td>BEAUTY</td>\n",
       "      <td>NaN</td>\n",
       "      <td>2.9M</td>\n",
       "      <td>10,000+</td>\n",
       "      <td>Free</td>\n",
       "      <td>0</td>\n",
       "      <td>Mature 17+</td>\n",
       "      <td>Beauty</td>\n",
       "    </tr>\n",
       "  </tbody>\n",
       "</table>\n",
       "</div>"
      ],
      "text/plain": [
       "                                     App        Category  Rating  Size  \\\n",
       "23                Mcqueen Coloring pages  ART_AND_DESIGN     NaN  7.0M   \n",
       "113            Wrinkles and rejuvenation          BEAUTY     NaN  5.7M   \n",
       "123               Manicure - nail design          BEAUTY     NaN  3.7M   \n",
       "126         Skin Care and Natural Beauty          BEAUTY     NaN  7.4M   \n",
       "129  Secrets of beauty, youth and health          BEAUTY     NaN  2.9M   \n",
       "\n",
       "     Installs  Type Price Content Rating                           Genres  \n",
       "23   100,000+  Free     0       Everyone  Art & Design;Action & Adventure  \n",
       "113  100,000+  Free     0   Everyone 10+                           Beauty  \n",
       "123   50,000+  Free     0       Everyone                           Beauty  \n",
       "126  100,000+  Free     0           Teen                           Beauty  \n",
       "129   10,000+  Free     0     Mature 17+                           Beauty  "
      ]
     },
     "execution_count": 19,
     "metadata": {},
     "output_type": "execute_result"
    }
   ],
   "source": [
    "test.head()"
   ]
  },
  {
   "cell_type": "code",
   "execution_count": 20,
   "id": "b7661ccd",
   "metadata": {},
   "outputs": [],
   "source": [
    "apps.drop(apps[apps.Rating.isnull()].index, inplace=True)"
   ]
  },
  {
   "cell_type": "code",
   "execution_count": 21,
   "id": "eba6d5f9",
   "metadata": {},
   "outputs": [
    {
     "data": {
      "text/html": [
       "<div>\n",
       "<style scoped>\n",
       "    .dataframe tbody tr th:only-of-type {\n",
       "        vertical-align: middle;\n",
       "    }\n",
       "\n",
       "    .dataframe tbody tr th {\n",
       "        vertical-align: top;\n",
       "    }\n",
       "\n",
       "    .dataframe thead th {\n",
       "        text-align: right;\n",
       "    }\n",
       "</style>\n",
       "<table border=\"1\" class=\"dataframe\">\n",
       "  <thead>\n",
       "    <tr style=\"text-align: right;\">\n",
       "      <th></th>\n",
       "      <th>App</th>\n",
       "      <th>Category</th>\n",
       "      <th>Rating</th>\n",
       "      <th>Size</th>\n",
       "      <th>Installs</th>\n",
       "      <th>Type</th>\n",
       "      <th>Price</th>\n",
       "      <th>Content Rating</th>\n",
       "      <th>Genres</th>\n",
       "    </tr>\n",
       "  </thead>\n",
       "  <tbody>\n",
       "  </tbody>\n",
       "</table>\n",
       "</div>"
      ],
      "text/plain": [
       "Empty DataFrame\n",
       "Columns: [App, Category, Rating, Size, Installs, Type, Price, Content Rating, Genres]\n",
       "Index: []"
      ]
     },
     "execution_count": 21,
     "metadata": {},
     "output_type": "execute_result"
    }
   ],
   "source": [
    "apps[apps.Type.isnull()]"
   ]
  },
  {
   "cell_type": "markdown",
   "id": "9370a326",
   "metadata": {},
   "source": [
    "Since the price is 0, I'll replace Nan with \"Free\""
   ]
  },
  {
   "cell_type": "code",
   "execution_count": 22,
   "id": "09923e8a",
   "metadata": {},
   "outputs": [],
   "source": [
    "apps.loc[apps.Type.isnull(), 'Type'] = 'Free'"
   ]
  },
  {
   "cell_type": "code",
   "execution_count": 23,
   "id": "fe833910",
   "metadata": {},
   "outputs": [
    {
     "data": {
      "text/html": [
       "<div>\n",
       "<style scoped>\n",
       "    .dataframe tbody tr th:only-of-type {\n",
       "        vertical-align: middle;\n",
       "    }\n",
       "\n",
       "    .dataframe tbody tr th {\n",
       "        vertical-align: top;\n",
       "    }\n",
       "\n",
       "    .dataframe thead th {\n",
       "        text-align: right;\n",
       "    }\n",
       "</style>\n",
       "<table border=\"1\" class=\"dataframe\">\n",
       "  <thead>\n",
       "    <tr style=\"text-align: right;\">\n",
       "      <th></th>\n",
       "      <th>App</th>\n",
       "      <th>Category</th>\n",
       "      <th>Rating</th>\n",
       "      <th>Size</th>\n",
       "      <th>Installs</th>\n",
       "      <th>Type</th>\n",
       "      <th>Price</th>\n",
       "      <th>Content Rating</th>\n",
       "      <th>Genres</th>\n",
       "    </tr>\n",
       "  </thead>\n",
       "  <tbody>\n",
       "    <tr>\n",
       "      <th>10472</th>\n",
       "      <td>Life Made WI-Fi Touchscreen Photo Frame</td>\n",
       "      <td>1.9</td>\n",
       "      <td>19.0</td>\n",
       "      <td>1,000+</td>\n",
       "      <td>Free</td>\n",
       "      <td>0</td>\n",
       "      <td>Everyone</td>\n",
       "      <td>NaN</td>\n",
       "      <td>February 11, 2018</td>\n",
       "    </tr>\n",
       "  </tbody>\n",
       "</table>\n",
       "</div>"
      ],
      "text/plain": [
       "                                           App Category  Rating    Size  \\\n",
       "10472  Life Made WI-Fi Touchscreen Photo Frame      1.9    19.0  1,000+   \n",
       "\n",
       "      Installs Type     Price Content Rating             Genres  \n",
       "10472     Free    0  Everyone            NaN  February 11, 2018  "
      ]
     },
     "execution_count": 23,
     "metadata": {},
     "output_type": "execute_result"
    }
   ],
   "source": [
    "apps[apps['Content Rating'].isnull()]"
   ]
  },
  {
   "cell_type": "markdown",
   "id": "286eec8a",
   "metadata": {},
   "source": [
    "App's category is missing and features' values are all in wrong columns. I'll just delete this app"
   ]
  },
  {
   "cell_type": "code",
   "execution_count": 24,
   "id": "00cce10e",
   "metadata": {},
   "outputs": [],
   "source": [
    "apps.drop(apps.loc[apps.App == 'Life Made WI-Fi Touchscreen Photo Frame'].index, inplace=True)"
   ]
  },
  {
   "cell_type": "code",
   "execution_count": 25,
   "id": "30816794",
   "metadata": {},
   "outputs": [
    {
     "name": "stdout",
     "output_type": "stream",
     "text": [
      "<class 'pandas.core.frame.DataFrame'>\n",
      "Int64Index: 8196 entries, 0 to 10840\n",
      "Data columns (total 9 columns):\n",
      " #   Column          Non-Null Count  Dtype  \n",
      "---  ------          --------------  -----  \n",
      " 0   App             8196 non-null   object \n",
      " 1   Category        8196 non-null   object \n",
      " 2   Rating          8196 non-null   float64\n",
      " 3   Size            8196 non-null   object \n",
      " 4   Installs        8196 non-null   object \n",
      " 5   Type            8196 non-null   object \n",
      " 6   Price           8196 non-null   object \n",
      " 7   Content Rating  8196 non-null   object \n",
      " 8   Genres          8196 non-null   object \n",
      "dtypes: float64(1), object(8)\n",
      "memory usage: 640.3+ KB\n"
     ]
    }
   ],
   "source": [
    "apps.info()"
   ]
  },
  {
   "cell_type": "code",
   "execution_count": 26,
   "id": "69379892",
   "metadata": {},
   "outputs": [
    {
     "data": {
      "text/plain": [
       "array(['ART_AND_DESIGN', 'AUTO_AND_VEHICLES', 'BEAUTY',\n",
       "       'BOOKS_AND_REFERENCE', 'BUSINESS', 'COMICS', 'COMMUNICATION',\n",
       "       'DATING', 'EDUCATION', 'ENTERTAINMENT', 'EVENTS', 'FINANCE',\n",
       "       'FOOD_AND_DRINK', 'HEALTH_AND_FITNESS', 'HOUSE_AND_HOME',\n",
       "       'LIBRARIES_AND_DEMO', 'LIFESTYLE', 'GAME', 'FAMILY', 'MEDICAL',\n",
       "       'SOCIAL', 'SHOPPING', 'PHOTOGRAPHY', 'SPORTS', 'TRAVEL_AND_LOCAL',\n",
       "       'TOOLS', 'PERSONALIZATION', 'PRODUCTIVITY', 'PARENTING', 'WEATHER',\n",
       "       'VIDEO_PLAYERS', 'NEWS_AND_MAGAZINES', 'MAPS_AND_NAVIGATION'],\n",
       "      dtype=object)"
      ]
     },
     "execution_count": 26,
     "metadata": {},
     "output_type": "execute_result"
    }
   ],
   "source": [
    "# Checking categories for mistakes and typos\n",
    "apps.Category.unique()"
   ]
  },
  {
   "cell_type": "code",
   "execution_count": 27,
   "id": "9eee9b2c",
   "metadata": {},
   "outputs": [
    {
     "data": {
      "text/plain": [
       "Varies with device    1169\n",
       "14M                    149\n",
       "12M                    146\n",
       "11M                    144\n",
       "13M                    143\n",
       "Name: Size, dtype: int64"
      ]
     },
     "execution_count": 27,
     "metadata": {},
     "output_type": "execute_result"
    }
   ],
   "source": [
    "apps.Size.value_counts().head()"
   ]
  },
  {
   "cell_type": "markdown",
   "id": "c6a70025",
   "metadata": {},
   "source": [
    "Have to do smth with \"Varies from device\" value, and also convert all to Mb. I suppose replacing 'Varies' with the mean value"
   ]
  },
  {
   "cell_type": "code",
   "execution_count": 28,
   "id": "68390036",
   "metadata": {},
   "outputs": [],
   "source": [
    "# Replace with 0 for a while\n",
    "apps.loc[apps.Size == 'Varies with device', 'Size'] = 'NaN'"
   ]
  },
  {
   "cell_type": "code",
   "execution_count": 29,
   "id": "3cf77b8e",
   "metadata": {},
   "outputs": [],
   "source": [
    "apps.Size=apps.Size.str.replace('k','e+3')\n",
    "apps.Size=apps.Size.str.replace('M','e+6')"
   ]
  },
  {
   "cell_type": "code",
   "execution_count": 30,
   "id": "6584b11e",
   "metadata": {},
   "outputs": [
    {
     "data": {
      "text/plain": [
       "NaN       1169\n",
       "14e+6      149\n",
       "12e+6      146\n",
       "11e+6      144\n",
       "13e+6      143\n",
       "          ... \n",
       "383e+3       1\n",
       "454e+3       1\n",
       "812e+3       1\n",
       "442e+3       1\n",
       "619e+3       1\n",
       "Name: Size, Length: 414, dtype: int64"
      ]
     },
     "execution_count": 30,
     "metadata": {},
     "output_type": "execute_result"
    }
   ],
   "source": [
    "apps.Size.value_counts()"
   ]
  },
  {
   "cell_type": "code",
   "execution_count": 31,
   "id": "b8e7e42c",
   "metadata": {},
   "outputs": [],
   "source": [
    "apps.Size = apps.Size.apply(lambda x: float(x))"
   ]
  },
  {
   "cell_type": "code",
   "execution_count": 32,
   "id": "0c492625",
   "metadata": {},
   "outputs": [
    {
     "data": {
      "text/plain": [
       "1169"
      ]
     },
     "execution_count": 32,
     "metadata": {},
     "output_type": "execute_result"
    }
   ],
   "source": [
    "apps.Size.isnull().sum()"
   ]
  },
  {
   "cell_type": "code",
   "execution_count": 33,
   "id": "ca15ba07",
   "metadata": {},
   "outputs": [],
   "source": [
    "apps['Size'].fillna(apps.groupby('Category')['Size'].transform('mean'),inplace = True)"
   ]
  },
  {
   "cell_type": "code",
   "execution_count": 34,
   "id": "5ffd0c3d",
   "metadata": {},
   "outputs": [
    {
     "data": {
      "text/plain": [
       "0"
      ]
     },
     "execution_count": 34,
     "metadata": {},
     "output_type": "execute_result"
    }
   ],
   "source": [
    "apps.Size.isnull().sum()"
   ]
  },
  {
   "cell_type": "code",
   "execution_count": 35,
   "id": "0dc9dc8d",
   "metadata": {},
   "outputs": [
    {
     "data": {
      "text/html": [
       "<div>\n",
       "<style scoped>\n",
       "    .dataframe tbody tr th:only-of-type {\n",
       "        vertical-align: middle;\n",
       "    }\n",
       "\n",
       "    .dataframe tbody tr th {\n",
       "        vertical-align: top;\n",
       "    }\n",
       "\n",
       "    .dataframe thead th {\n",
       "        text-align: right;\n",
       "    }\n",
       "</style>\n",
       "<table border=\"1\" class=\"dataframe\">\n",
       "  <thead>\n",
       "    <tr style=\"text-align: right;\">\n",
       "      <th></th>\n",
       "      <th>App</th>\n",
       "      <th>Category</th>\n",
       "      <th>Rating</th>\n",
       "      <th>Size</th>\n",
       "      <th>Installs</th>\n",
       "      <th>Type</th>\n",
       "      <th>Price</th>\n",
       "      <th>Content Rating</th>\n",
       "      <th>Genres</th>\n",
       "    </tr>\n",
       "  </thead>\n",
       "  <tbody>\n",
       "  </tbody>\n",
       "</table>\n",
       "</div>"
      ],
      "text/plain": [
       "Empty DataFrame\n",
       "Columns: [App, Category, Rating, Size, Installs, Type, Price, Content Rating, Genres]\n",
       "Index: []"
      ]
     },
     "execution_count": 35,
     "metadata": {},
     "output_type": "execute_result"
    }
   ],
   "source": [
    "apps[apps.Size == 0]"
   ]
  },
  {
   "cell_type": "code",
   "execution_count": 36,
   "id": "20ccec01",
   "metadata": {},
   "outputs": [],
   "source": [
    "apps.Size = apps.Size.apply(lambda x: round(x / 1000000, 2))"
   ]
  },
  {
   "cell_type": "code",
   "execution_count": 37,
   "id": "43c562f7",
   "metadata": {},
   "outputs": [],
   "source": [
    "apps.rename(columns={'Size': 'Size_Mb'}, inplace=True)"
   ]
  },
  {
   "cell_type": "code",
   "execution_count": 38,
   "id": "6a448ef3",
   "metadata": {},
   "outputs": [
    {
     "data": {
      "text/plain": [
       "1,000,000+        1415\n",
       "100,000+          1094\n",
       "10,000+            987\n",
       "10,000,000+        937\n",
       "1,000+             697\n",
       "5,000,000+         607\n",
       "500,000+           504\n",
       "50,000+            457\n",
       "5,000+             425\n",
       "100+               303\n",
       "50,000,000+        202\n",
       "500+               199\n",
       "100,000,000+       188\n",
       "10+                 69\n",
       "50+                 56\n",
       "500,000,000+        24\n",
       "1,000,000,000+      20\n",
       "5+                   9\n",
       "1+                   3\n",
       "Name: Installs, dtype: int64"
      ]
     },
     "execution_count": 38,
     "metadata": {},
     "output_type": "execute_result"
    }
   ],
   "source": [
    "apps.Installs.value_counts()"
   ]
  },
  {
   "cell_type": "markdown",
   "id": "15a3ef1d",
   "metadata": {},
   "source": [
    "Have to convert number of installs to make it comparable numbers"
   ]
  },
  {
   "cell_type": "code",
   "execution_count": 39,
   "id": "36daed1a",
   "metadata": {},
   "outputs": [],
   "source": [
    "apps.Installs=apps.Installs.apply(lambda x: x.strip('+'))\n",
    "apps.Installs=apps.Installs.apply(lambda x: x.replace(',',''))"
   ]
  },
  {
   "cell_type": "code",
   "execution_count": 40,
   "id": "490ea3e1",
   "metadata": {},
   "outputs": [],
   "source": [
    "apps.Installs=pd.to_numeric(apps.Installs)"
   ]
  },
  {
   "cell_type": "code",
   "execution_count": 41,
   "id": "7b51feff",
   "metadata": {},
   "outputs": [
    {
     "data": {
      "text/plain": [
       "1000000       1415\n",
       "100000        1094\n",
       "10000          987\n",
       "10000000       937\n",
       "1000           697\n",
       "5000000        607\n",
       "500000         504\n",
       "50000          457\n",
       "5000           425\n",
       "100            303\n",
       "50000000       202\n",
       "500            199\n",
       "100000000      188\n",
       "10              69\n",
       "50              56\n",
       "500000000       24\n",
       "1000000000      20\n",
       "5                9\n",
       "1                3\n",
       "Name: Installs, dtype: int64"
      ]
     },
     "execution_count": 41,
     "metadata": {},
     "output_type": "execute_result"
    }
   ],
   "source": [
    "apps.Installs.value_counts()"
   ]
  },
  {
   "cell_type": "code",
   "execution_count": 42,
   "id": "1324eaae",
   "metadata": {},
   "outputs": [
    {
     "data": {
      "text/plain": [
       "Free    7592\n",
       "Paid     604\n",
       "Name: Type, dtype: int64"
      ]
     },
     "execution_count": 42,
     "metadata": {},
     "output_type": "execute_result"
    }
   ],
   "source": [
    "apps.Type.value_counts()"
   ]
  },
  {
   "cell_type": "code",
   "execution_count": 43,
   "id": "db063053",
   "metadata": {},
   "outputs": [
    {
     "data": {
      "text/plain": [
       "0          7592\n",
       "$2.99       109\n",
       "$0.99       104\n",
       "$4.99        68\n",
       "$1.99        59\n",
       "           ... \n",
       "$1.59         1\n",
       "$6.49         1\n",
       "$1.29         1\n",
       "$299.99       1\n",
       "$1.20         1\n",
       "Name: Price, Length: 73, dtype: int64"
      ]
     },
     "execution_count": 43,
     "metadata": {},
     "output_type": "execute_result"
    }
   ],
   "source": [
    "apps.Price.value_counts()"
   ]
  },
  {
   "cell_type": "code",
   "execution_count": 44,
   "id": "b65d86f6",
   "metadata": {},
   "outputs": [],
   "source": [
    "apps.Price=apps.Price.apply(lambda x: x.strip('$'))"
   ]
  },
  {
   "cell_type": "code",
   "execution_count": 45,
   "id": "d20d82b3",
   "metadata": {},
   "outputs": [],
   "source": [
    "apps.Price=pd.to_numeric(apps.Price)"
   ]
  },
  {
   "cell_type": "markdown",
   "id": "81680320",
   "metadata": {},
   "source": [
    "Check if we have Free type apps with price > 0 and vise versa"
   ]
  },
  {
   "cell_type": "code",
   "execution_count": 46,
   "id": "d9aed67d",
   "metadata": {},
   "outputs": [
    {
     "data": {
      "text/html": [
       "<div>\n",
       "<style scoped>\n",
       "    .dataframe tbody tr th:only-of-type {\n",
       "        vertical-align: middle;\n",
       "    }\n",
       "\n",
       "    .dataframe tbody tr th {\n",
       "        vertical-align: top;\n",
       "    }\n",
       "\n",
       "    .dataframe thead th {\n",
       "        text-align: right;\n",
       "    }\n",
       "</style>\n",
       "<table border=\"1\" class=\"dataframe\">\n",
       "  <thead>\n",
       "    <tr style=\"text-align: right;\">\n",
       "      <th></th>\n",
       "      <th>App</th>\n",
       "      <th>Category</th>\n",
       "      <th>Rating</th>\n",
       "      <th>Size_Mb</th>\n",
       "      <th>Installs</th>\n",
       "      <th>Type</th>\n",
       "      <th>Price</th>\n",
       "      <th>Content Rating</th>\n",
       "      <th>Genres</th>\n",
       "    </tr>\n",
       "  </thead>\n",
       "  <tbody>\n",
       "  </tbody>\n",
       "</table>\n",
       "</div>"
      ],
      "text/plain": [
       "Empty DataFrame\n",
       "Columns: [App, Category, Rating, Size_Mb, Installs, Type, Price, Content Rating, Genres]\n",
       "Index: []"
      ]
     },
     "execution_count": 46,
     "metadata": {},
     "output_type": "execute_result"
    }
   ],
   "source": [
    "apps[(apps.Type == 'Free') & (apps.Price > 0)]"
   ]
  },
  {
   "cell_type": "code",
   "execution_count": 47,
   "id": "9475f0b2",
   "metadata": {},
   "outputs": [
    {
     "data": {
      "text/html": [
       "<div>\n",
       "<style scoped>\n",
       "    .dataframe tbody tr th:only-of-type {\n",
       "        vertical-align: middle;\n",
       "    }\n",
       "\n",
       "    .dataframe tbody tr th {\n",
       "        vertical-align: top;\n",
       "    }\n",
       "\n",
       "    .dataframe thead th {\n",
       "        text-align: right;\n",
       "    }\n",
       "</style>\n",
       "<table border=\"1\" class=\"dataframe\">\n",
       "  <thead>\n",
       "    <tr style=\"text-align: right;\">\n",
       "      <th></th>\n",
       "      <th>App</th>\n",
       "      <th>Category</th>\n",
       "      <th>Rating</th>\n",
       "      <th>Size_Mb</th>\n",
       "      <th>Installs</th>\n",
       "      <th>Type</th>\n",
       "      <th>Price</th>\n",
       "      <th>Content Rating</th>\n",
       "      <th>Genres</th>\n",
       "    </tr>\n",
       "  </thead>\n",
       "  <tbody>\n",
       "  </tbody>\n",
       "</table>\n",
       "</div>"
      ],
      "text/plain": [
       "Empty DataFrame\n",
       "Columns: [App, Category, Rating, Size_Mb, Installs, Type, Price, Content Rating, Genres]\n",
       "Index: []"
      ]
     },
     "execution_count": 47,
     "metadata": {},
     "output_type": "execute_result"
    }
   ],
   "source": [
    "apps[(apps.Type == 'Paid') & (apps.Price == 0)]"
   ]
  },
  {
   "cell_type": "code",
   "execution_count": 48,
   "id": "f1e5c177",
   "metadata": {},
   "outputs": [
    {
     "data": {
      "text/plain": [
       "Everyone           6618\n",
       "Teen                912\n",
       "Mature 17+          357\n",
       "Everyone 10+        305\n",
       "Adults only 18+       3\n",
       "Unrated               1\n",
       "Name: Content Rating, dtype: int64"
      ]
     },
     "execution_count": 48,
     "metadata": {},
     "output_type": "execute_result"
    }
   ],
   "source": [
    "apps['Content Rating'].value_counts()"
   ]
  },
  {
   "cell_type": "code",
   "execution_count": 49,
   "id": "7a47142c",
   "metadata": {},
   "outputs": [],
   "source": [
    "apps.rename(columns={'Content Rating' : 'Content_Rating'}, inplace=True)"
   ]
  },
  {
   "cell_type": "code",
   "execution_count": 50,
   "id": "fb17d76c",
   "metadata": {},
   "outputs": [
    {
     "data": {
      "text/plain": [
       "array(['Art & Design', 'Art & Design;Pretend Play',\n",
       "       'Art & Design;Creativity', 'Auto & Vehicles', 'Beauty',\n",
       "       'Books & Reference', 'Business', 'Comics', 'Comics;Creativity',\n",
       "       'Communication', 'Dating', 'Education;Education', 'Education',\n",
       "       'Education;Creativity', 'Education;Music & Video',\n",
       "       'Education;Action & Adventure', 'Education;Pretend Play',\n",
       "       'Education;Brain Games', 'Entertainment',\n",
       "       'Entertainment;Music & Video', 'Entertainment;Brain Games',\n",
       "       'Entertainment;Creativity', 'Events', 'Finance', 'Food & Drink',\n",
       "       'Health & Fitness', 'House & Home', 'Libraries & Demo',\n",
       "       'Lifestyle', 'Lifestyle;Pretend Play',\n",
       "       'Adventure;Action & Adventure', 'Arcade', 'Casual', 'Card',\n",
       "       'Casual;Pretend Play', 'Action', 'Strategy', 'Puzzle', 'Sports',\n",
       "       'Music', 'Word', 'Racing', 'Casual;Creativity',\n",
       "       'Casual;Action & Adventure', 'Simulation', 'Adventure', 'Board',\n",
       "       'Trivia', 'Role Playing', 'Simulation;Education',\n",
       "       'Action;Action & Adventure', 'Casual;Brain Games',\n",
       "       'Simulation;Action & Adventure', 'Educational;Creativity',\n",
       "       'Puzzle;Brain Games', 'Educational;Education',\n",
       "       'Educational;Brain Games', 'Educational;Pretend Play',\n",
       "       'Entertainment;Education', 'Casual;Education',\n",
       "       'Music;Music & Video', 'Racing;Action & Adventure',\n",
       "       'Arcade;Pretend Play', 'Role Playing;Action & Adventure',\n",
       "       'Simulation;Pretend Play', 'Puzzle;Creativity',\n",
       "       'Sports;Action & Adventure', 'Educational;Action & Adventure',\n",
       "       'Arcade;Action & Adventure', 'Entertainment;Action & Adventure',\n",
       "       'Puzzle;Action & Adventure', 'Strategy;Action & Adventure',\n",
       "       'Music & Audio;Music & Video', 'Health & Fitness;Education',\n",
       "       'Adventure;Education', 'Board;Brain Games',\n",
       "       'Board;Action & Adventure', 'Board;Pretend Play',\n",
       "       'Casual;Music & Video', 'Role Playing;Pretend Play',\n",
       "       'Entertainment;Pretend Play', 'Video Players & Editors;Creativity',\n",
       "       'Card;Action & Adventure', 'Medical', 'Social', 'Shopping',\n",
       "       'Photography', 'Travel & Local',\n",
       "       'Travel & Local;Action & Adventure', 'Tools', 'Tools;Education',\n",
       "       'Personalization', 'Productivity', 'Parenting',\n",
       "       'Parenting;Music & Video', 'Parenting;Brain Games',\n",
       "       'Parenting;Education', 'Weather', 'Video Players & Editors',\n",
       "       'Video Players & Editors;Music & Video', 'News & Magazines',\n",
       "       'Maps & Navigation', 'Health & Fitness;Action & Adventure',\n",
       "       'Educational', 'Casino', 'Adventure;Brain Games',\n",
       "       'Lifestyle;Education', 'Books & Reference;Education',\n",
       "       'Puzzle;Education', 'Role Playing;Brain Games',\n",
       "       'Strategy;Education', 'Racing;Pretend Play',\n",
       "       'Communication;Creativity', 'Strategy;Creativity'], dtype=object)"
      ]
     },
     "execution_count": 50,
     "metadata": {},
     "output_type": "execute_result"
    }
   ],
   "source": [
    "apps.Genres.unique()"
   ]
  },
  {
   "cell_type": "code",
   "execution_count": 51,
   "id": "9220b59b",
   "metadata": {},
   "outputs": [],
   "source": [
    "primary = apps.Genres.apply(lambda x: x.split(';')[0])\n",
    "apps['Primary_Genres'] = primary"
   ]
  },
  {
   "cell_type": "code",
   "execution_count": 52,
   "id": "bdc58cf6",
   "metadata": {},
   "outputs": [],
   "source": [
    "secondary = apps.Genres.apply(lambda x: x.split(';')[-1])\n",
    "apps['Secondary_Genres'] = secondary"
   ]
  },
  {
   "cell_type": "code",
   "execution_count": 53,
   "id": "f86fd00d",
   "metadata": {},
   "outputs": [],
   "source": [
    "apps.drop(columns=['Genres'], inplace=True)"
   ]
  },
  {
   "cell_type": "code",
   "execution_count": 54,
   "id": "a4818db3",
   "metadata": {},
   "outputs": [
    {
     "data": {
      "text/html": [
       "<div>\n",
       "<style scoped>\n",
       "    .dataframe tbody tr th:only-of-type {\n",
       "        vertical-align: middle;\n",
       "    }\n",
       "\n",
       "    .dataframe tbody tr th {\n",
       "        vertical-align: top;\n",
       "    }\n",
       "\n",
       "    .dataframe thead th {\n",
       "        text-align: right;\n",
       "    }\n",
       "</style>\n",
       "<table border=\"1\" class=\"dataframe\">\n",
       "  <thead>\n",
       "    <tr style=\"text-align: right;\">\n",
       "      <th></th>\n",
       "      <th>App</th>\n",
       "      <th>Category</th>\n",
       "      <th>Rating</th>\n",
       "      <th>Size_Mb</th>\n",
       "      <th>Installs</th>\n",
       "      <th>Type</th>\n",
       "      <th>Price</th>\n",
       "      <th>Content_Rating</th>\n",
       "      <th>Primary_Genres</th>\n",
       "      <th>Secondary_Genres</th>\n",
       "    </tr>\n",
       "  </thead>\n",
       "  <tbody>\n",
       "    <tr>\n",
       "      <th>0</th>\n",
       "      <td>Photo Editor &amp; Candy Camera &amp; Grid &amp; ScrapBook</td>\n",
       "      <td>ART_AND_DESIGN</td>\n",
       "      <td>4.1</td>\n",
       "      <td>19.0</td>\n",
       "      <td>10000</td>\n",
       "      <td>Free</td>\n",
       "      <td>0.0</td>\n",
       "      <td>Everyone</td>\n",
       "      <td>Art &amp; Design</td>\n",
       "      <td>Art &amp; Design</td>\n",
       "    </tr>\n",
       "    <tr>\n",
       "      <th>1</th>\n",
       "      <td>Coloring book moana</td>\n",
       "      <td>ART_AND_DESIGN</td>\n",
       "      <td>3.9</td>\n",
       "      <td>14.0</td>\n",
       "      <td>500000</td>\n",
       "      <td>Free</td>\n",
       "      <td>0.0</td>\n",
       "      <td>Everyone</td>\n",
       "      <td>Art &amp; Design</td>\n",
       "      <td>Pretend Play</td>\n",
       "    </tr>\n",
       "    <tr>\n",
       "      <th>2</th>\n",
       "      <td>U Launcher Lite – FREE Live Cool Themes, Hide ...</td>\n",
       "      <td>ART_AND_DESIGN</td>\n",
       "      <td>4.7</td>\n",
       "      <td>8.7</td>\n",
       "      <td>5000000</td>\n",
       "      <td>Free</td>\n",
       "      <td>0.0</td>\n",
       "      <td>Everyone</td>\n",
       "      <td>Art &amp; Design</td>\n",
       "      <td>Art &amp; Design</td>\n",
       "    </tr>\n",
       "    <tr>\n",
       "      <th>3</th>\n",
       "      <td>Sketch - Draw &amp; Paint</td>\n",
       "      <td>ART_AND_DESIGN</td>\n",
       "      <td>4.5</td>\n",
       "      <td>25.0</td>\n",
       "      <td>50000000</td>\n",
       "      <td>Free</td>\n",
       "      <td>0.0</td>\n",
       "      <td>Teen</td>\n",
       "      <td>Art &amp; Design</td>\n",
       "      <td>Art &amp; Design</td>\n",
       "    </tr>\n",
       "    <tr>\n",
       "      <th>4</th>\n",
       "      <td>Pixel Draw - Number Art Coloring Book</td>\n",
       "      <td>ART_AND_DESIGN</td>\n",
       "      <td>4.3</td>\n",
       "      <td>2.8</td>\n",
       "      <td>100000</td>\n",
       "      <td>Free</td>\n",
       "      <td>0.0</td>\n",
       "      <td>Everyone</td>\n",
       "      <td>Art &amp; Design</td>\n",
       "      <td>Creativity</td>\n",
       "    </tr>\n",
       "  </tbody>\n",
       "</table>\n",
       "</div>"
      ],
      "text/plain": [
       "                                                 App        Category  Rating  \\\n",
       "0     Photo Editor & Candy Camera & Grid & ScrapBook  ART_AND_DESIGN     4.1   \n",
       "1                                Coloring book moana  ART_AND_DESIGN     3.9   \n",
       "2  U Launcher Lite – FREE Live Cool Themes, Hide ...  ART_AND_DESIGN     4.7   \n",
       "3                              Sketch - Draw & Paint  ART_AND_DESIGN     4.5   \n",
       "4              Pixel Draw - Number Art Coloring Book  ART_AND_DESIGN     4.3   \n",
       "\n",
       "   Size_Mb  Installs  Type  Price Content_Rating Primary_Genres  \\\n",
       "0     19.0     10000  Free    0.0       Everyone   Art & Design   \n",
       "1     14.0    500000  Free    0.0       Everyone   Art & Design   \n",
       "2      8.7   5000000  Free    0.0       Everyone   Art & Design   \n",
       "3     25.0  50000000  Free    0.0           Teen   Art & Design   \n",
       "4      2.8    100000  Free    0.0       Everyone   Art & Design   \n",
       "\n",
       "  Secondary_Genres  \n",
       "0     Art & Design  \n",
       "1     Pretend Play  \n",
       "2     Art & Design  \n",
       "3     Art & Design  \n",
       "4       Creativity  "
      ]
     },
     "execution_count": 54,
     "metadata": {},
     "output_type": "execute_result"
    }
   ],
   "source": [
    "apps.head()"
   ]
  },
  {
   "cell_type": "code",
   "execution_count": 55,
   "id": "cb9fe439",
   "metadata": {},
   "outputs": [
    {
     "data": {
      "text/plain": [
       "Tools                      718\n",
       "Entertainment              502\n",
       "Education                  498\n",
       "Action                     304\n",
       "Lifestyle                  302\n",
       "Finance                    302\n",
       "Productivity               301\n",
       "Personalization            298\n",
       "Medical                    290\n",
       "Sports                     270\n",
       "Business                   263\n",
       "Photography                263\n",
       "Communication              257\n",
       "Health & Fitness           246\n",
       "Casual                     217\n",
       "News & Magazines           204\n",
       "Social                     203\n",
       "Simulation                 200\n",
       "Travel & Local             187\n",
       "Arcade                     185\n",
       "Shopping                   180\n",
       "Books & Reference          171\n",
       "Video Players & Editors    150\n",
       "Dating                     134\n",
       "Puzzle                     123\n",
       "Maps & Navigation          118\n",
       "Role Playing               111\n",
       "Racing                     103\n",
       "Strategy                    95\n",
       "Food & Drink                94\n",
       "Educational                 93\n",
       "Adventure                   78\n",
       "Auto & Vehicles             73\n",
       "Weather                     72\n",
       "Libraries & Demo            64\n",
       "Art & Design                62\n",
       "House & Home                62\n",
       "Board                       57\n",
       "Comics                      54\n",
       "Parenting                   50\n",
       "Card                        46\n",
       "Events                      45\n",
       "Beauty                      42\n",
       "Casino                      37\n",
       "Trivia                      28\n",
       "Word                        22\n",
       "Music                       21\n",
       "Music & Audio                1\n",
       "Name: Primary_Genres, dtype: int64"
      ]
     },
     "execution_count": 55,
     "metadata": {},
     "output_type": "execute_result"
    }
   ],
   "source": [
    "apps.Primary_Genres.value_counts()"
   ]
  },
  {
   "cell_type": "code",
   "execution_count": 56,
   "id": "a9089269",
   "metadata": {},
   "outputs": [
    {
     "data": {
      "text/html": [
       "<div>\n",
       "<style scoped>\n",
       "    .dataframe tbody tr th:only-of-type {\n",
       "        vertical-align: middle;\n",
       "    }\n",
       "\n",
       "    .dataframe tbody tr th {\n",
       "        vertical-align: top;\n",
       "    }\n",
       "\n",
       "    .dataframe thead th {\n",
       "        text-align: right;\n",
       "    }\n",
       "</style>\n",
       "<table border=\"1\" class=\"dataframe\">\n",
       "  <thead>\n",
       "    <tr style=\"text-align: right;\">\n",
       "      <th></th>\n",
       "      <th>App</th>\n",
       "      <th>Category</th>\n",
       "      <th>Rating</th>\n",
       "      <th>Size_Mb</th>\n",
       "      <th>Installs</th>\n",
       "      <th>Type</th>\n",
       "      <th>Price</th>\n",
       "      <th>Content_Rating</th>\n",
       "      <th>Primary_Genres</th>\n",
       "      <th>Secondary_Genres</th>\n",
       "    </tr>\n",
       "  </thead>\n",
       "  <tbody>\n",
       "    <tr>\n",
       "      <th>2142</th>\n",
       "      <td>Toy Guitar with songs for kids</td>\n",
       "      <td>FAMILY</td>\n",
       "      <td>4.3</td>\n",
       "      <td>9.8</td>\n",
       "      <td>500000</td>\n",
       "      <td>Free</td>\n",
       "      <td>0.0</td>\n",
       "      <td>Everyone</td>\n",
       "      <td>Music &amp; Audio</td>\n",
       "      <td>Music &amp; Video</td>\n",
       "    </tr>\n",
       "  </tbody>\n",
       "</table>\n",
       "</div>"
      ],
      "text/plain": [
       "                                 App Category  Rating  Size_Mb  Installs  \\\n",
       "2142  Toy Guitar with songs for kids   FAMILY     4.3      9.8    500000   \n",
       "\n",
       "      Type  Price Content_Rating Primary_Genres Secondary_Genres  \n",
       "2142  Free    0.0       Everyone  Music & Audio    Music & Video  "
      ]
     },
     "execution_count": 56,
     "metadata": {},
     "output_type": "execute_result"
    }
   ],
   "source": [
    "apps[apps.Primary_Genres == 'Music & Audio']"
   ]
  },
  {
   "cell_type": "code",
   "execution_count": 57,
   "id": "4be36cc0",
   "metadata": {},
   "outputs": [],
   "source": [
    "apps.loc[apps.Primary_Genres == 'Music & Audio', 'Primary_Genres'] = 'Music'"
   ]
  },
  {
   "cell_type": "code",
   "execution_count": 58,
   "id": "4d11d7cb",
   "metadata": {},
   "outputs": [
    {
     "data": {
      "text/plain": [
       "Tools                      718\n",
       "Entertainment              502\n",
       "Education                  498\n",
       "Action                     304\n",
       "Lifestyle                  302\n",
       "Finance                    302\n",
       "Productivity               301\n",
       "Personalization            298\n",
       "Medical                    290\n",
       "Sports                     270\n",
       "Business                   263\n",
       "Photography                263\n",
       "Communication              257\n",
       "Health & Fitness           246\n",
       "Casual                     217\n",
       "News & Magazines           204\n",
       "Social                     203\n",
       "Simulation                 200\n",
       "Travel & Local             187\n",
       "Arcade                     185\n",
       "Shopping                   180\n",
       "Books & Reference          171\n",
       "Video Players & Editors    150\n",
       "Dating                     134\n",
       "Puzzle                     123\n",
       "Maps & Navigation          118\n",
       "Role Playing               111\n",
       "Racing                     103\n",
       "Strategy                    95\n",
       "Food & Drink                94\n",
       "Educational                 93\n",
       "Adventure                   78\n",
       "Auto & Vehicles             73\n",
       "Weather                     72\n",
       "Libraries & Demo            64\n",
       "Art & Design                62\n",
       "House & Home                62\n",
       "Board                       57\n",
       "Comics                      54\n",
       "Parenting                   50\n",
       "Card                        46\n",
       "Events                      45\n",
       "Beauty                      42\n",
       "Casino                      37\n",
       "Trivia                      28\n",
       "Word                        22\n",
       "Music                       22\n",
       "Name: Primary_Genres, dtype: int64"
      ]
     },
     "execution_count": 58,
     "metadata": {},
     "output_type": "execute_result"
    }
   ],
   "source": [
    "apps.Primary_Genres.value_counts()"
   ]
  },
  {
   "cell_type": "code",
   "execution_count": 59,
   "id": "55682150",
   "metadata": {},
   "outputs": [
    {
     "data": {
      "text/plain": [
       "Tools                      717\n",
       "Education                  518\n",
       "Entertainment              471\n",
       "Finance                    302\n",
       "Productivity               301\n",
       "Lifestyle                  300\n",
       "Personalization            298\n",
       "Action                     292\n",
       "Medical                    290\n",
       "Sports                     266\n",
       "Business                   263\n",
       "Photography                263\n",
       "Communication              256\n",
       "Health & Fitness           244\n",
       "News & Magazines           204\n",
       "Social                     203\n",
       "Simulation                 187\n",
       "Travel & Local             186\n",
       "Shopping                   180\n",
       "Arcade                     171\n",
       "Books & Reference          169\n",
       "Casual                     157\n",
       "Video Players & Editors    147\n",
       "Dating                     134\n",
       "Maps & Navigation          118\n",
       "Role Playing               102\n",
       "Puzzle                     100\n",
       "Action & Adventure          96\n",
       "Food & Drink                94\n",
       "Strategy                    91\n",
       "Racing                      86\n",
       "Auto & Vehicles             73\n",
       "Weather                     72\n",
       "Adventure                   71\n",
       "Pretend Play                68\n",
       "Libraries & Demo            64\n",
       "Brain Games                 63\n",
       "House & Home                62\n",
       "Art & Design                55\n",
       "Comics                      53\n",
       "Events                      45\n",
       "Card                        44\n",
       "Beauty                      42\n",
       "Parenting                   40\n",
       "Board                       38\n",
       "Casino                      37\n",
       "Creativity                  32\n",
       "Educational                 32\n",
       "Music & Video               31\n",
       "Trivia                      28\n",
       "Word                        22\n",
       "Music                       18\n",
       "Name: Secondary_Genres, dtype: int64"
      ]
     },
     "execution_count": 59,
     "metadata": {},
     "output_type": "execute_result"
    }
   ],
   "source": [
    "apps.Secondary_Genres.value_counts()"
   ]
  },
  {
   "cell_type": "code",
   "execution_count": 60,
   "id": "49c6bf6a",
   "metadata": {},
   "outputs": [
    {
     "data": {
      "text/html": [
       "<div>\n",
       "<style scoped>\n",
       "    .dataframe tbody tr th:only-of-type {\n",
       "        vertical-align: middle;\n",
       "    }\n",
       "\n",
       "    .dataframe tbody tr th {\n",
       "        vertical-align: top;\n",
       "    }\n",
       "\n",
       "    .dataframe thead th {\n",
       "        text-align: right;\n",
       "    }\n",
       "</style>\n",
       "<table border=\"1\" class=\"dataframe\">\n",
       "  <thead>\n",
       "    <tr style=\"text-align: right;\">\n",
       "      <th></th>\n",
       "      <th>App</th>\n",
       "      <th>Category</th>\n",
       "      <th>Rating</th>\n",
       "      <th>Size_Mb</th>\n",
       "      <th>Installs</th>\n",
       "      <th>Type</th>\n",
       "      <th>Price</th>\n",
       "      <th>Content_Rating</th>\n",
       "      <th>Primary_Genres</th>\n",
       "      <th>Secondary_Genres</th>\n",
       "    </tr>\n",
       "  </thead>\n",
       "  <tbody>\n",
       "    <tr>\n",
       "      <th>0</th>\n",
       "      <td>Photo Editor &amp; Candy Camera &amp; Grid &amp; ScrapBook</td>\n",
       "      <td>ART_AND_DESIGN</td>\n",
       "      <td>4.1</td>\n",
       "      <td>19.0</td>\n",
       "      <td>10000</td>\n",
       "      <td>Free</td>\n",
       "      <td>0.0</td>\n",
       "      <td>Everyone</td>\n",
       "      <td>Art &amp; Design</td>\n",
       "      <td>Art &amp; Design</td>\n",
       "    </tr>\n",
       "    <tr>\n",
       "      <th>1</th>\n",
       "      <td>Coloring book moana</td>\n",
       "      <td>ART_AND_DESIGN</td>\n",
       "      <td>3.9</td>\n",
       "      <td>14.0</td>\n",
       "      <td>500000</td>\n",
       "      <td>Free</td>\n",
       "      <td>0.0</td>\n",
       "      <td>Everyone</td>\n",
       "      <td>Art &amp; Design</td>\n",
       "      <td>Pretend Play</td>\n",
       "    </tr>\n",
       "    <tr>\n",
       "      <th>2</th>\n",
       "      <td>U Launcher Lite – FREE Live Cool Themes, Hide ...</td>\n",
       "      <td>ART_AND_DESIGN</td>\n",
       "      <td>4.7</td>\n",
       "      <td>8.7</td>\n",
       "      <td>5000000</td>\n",
       "      <td>Free</td>\n",
       "      <td>0.0</td>\n",
       "      <td>Everyone</td>\n",
       "      <td>Art &amp; Design</td>\n",
       "      <td>Art &amp; Design</td>\n",
       "    </tr>\n",
       "    <tr>\n",
       "      <th>3</th>\n",
       "      <td>Sketch - Draw &amp; Paint</td>\n",
       "      <td>ART_AND_DESIGN</td>\n",
       "      <td>4.5</td>\n",
       "      <td>25.0</td>\n",
       "      <td>50000000</td>\n",
       "      <td>Free</td>\n",
       "      <td>0.0</td>\n",
       "      <td>Teen</td>\n",
       "      <td>Art &amp; Design</td>\n",
       "      <td>Art &amp; Design</td>\n",
       "    </tr>\n",
       "    <tr>\n",
       "      <th>4</th>\n",
       "      <td>Pixel Draw - Number Art Coloring Book</td>\n",
       "      <td>ART_AND_DESIGN</td>\n",
       "      <td>4.3</td>\n",
       "      <td>2.8</td>\n",
       "      <td>100000</td>\n",
       "      <td>Free</td>\n",
       "      <td>0.0</td>\n",
       "      <td>Everyone</td>\n",
       "      <td>Art &amp; Design</td>\n",
       "      <td>Creativity</td>\n",
       "    </tr>\n",
       "    <tr>\n",
       "      <th>5</th>\n",
       "      <td>Paper flowers instructions</td>\n",
       "      <td>ART_AND_DESIGN</td>\n",
       "      <td>4.4</td>\n",
       "      <td>5.6</td>\n",
       "      <td>50000</td>\n",
       "      <td>Free</td>\n",
       "      <td>0.0</td>\n",
       "      <td>Everyone</td>\n",
       "      <td>Art &amp; Design</td>\n",
       "      <td>Art &amp; Design</td>\n",
       "    </tr>\n",
       "    <tr>\n",
       "      <th>6</th>\n",
       "      <td>Smoke Effect Photo Maker - Smoke Editor</td>\n",
       "      <td>ART_AND_DESIGN</td>\n",
       "      <td>3.8</td>\n",
       "      <td>19.0</td>\n",
       "      <td>50000</td>\n",
       "      <td>Free</td>\n",
       "      <td>0.0</td>\n",
       "      <td>Everyone</td>\n",
       "      <td>Art &amp; Design</td>\n",
       "      <td>Art &amp; Design</td>\n",
       "    </tr>\n",
       "    <tr>\n",
       "      <th>7</th>\n",
       "      <td>Infinite Painter</td>\n",
       "      <td>ART_AND_DESIGN</td>\n",
       "      <td>4.1</td>\n",
       "      <td>29.0</td>\n",
       "      <td>1000000</td>\n",
       "      <td>Free</td>\n",
       "      <td>0.0</td>\n",
       "      <td>Everyone</td>\n",
       "      <td>Art &amp; Design</td>\n",
       "      <td>Art &amp; Design</td>\n",
       "    </tr>\n",
       "    <tr>\n",
       "      <th>8</th>\n",
       "      <td>Garden Coloring Book</td>\n",
       "      <td>ART_AND_DESIGN</td>\n",
       "      <td>4.4</td>\n",
       "      <td>33.0</td>\n",
       "      <td>1000000</td>\n",
       "      <td>Free</td>\n",
       "      <td>0.0</td>\n",
       "      <td>Everyone</td>\n",
       "      <td>Art &amp; Design</td>\n",
       "      <td>Art &amp; Design</td>\n",
       "    </tr>\n",
       "    <tr>\n",
       "      <th>9</th>\n",
       "      <td>Kids Paint Free - Drawing Fun</td>\n",
       "      <td>ART_AND_DESIGN</td>\n",
       "      <td>4.7</td>\n",
       "      <td>3.1</td>\n",
       "      <td>10000</td>\n",
       "      <td>Free</td>\n",
       "      <td>0.0</td>\n",
       "      <td>Everyone</td>\n",
       "      <td>Art &amp; Design</td>\n",
       "      <td>Creativity</td>\n",
       "    </tr>\n",
       "  </tbody>\n",
       "</table>\n",
       "</div>"
      ],
      "text/plain": [
       "                                                 App        Category  Rating  \\\n",
       "0     Photo Editor & Candy Camera & Grid & ScrapBook  ART_AND_DESIGN     4.1   \n",
       "1                                Coloring book moana  ART_AND_DESIGN     3.9   \n",
       "2  U Launcher Lite – FREE Live Cool Themes, Hide ...  ART_AND_DESIGN     4.7   \n",
       "3                              Sketch - Draw & Paint  ART_AND_DESIGN     4.5   \n",
       "4              Pixel Draw - Number Art Coloring Book  ART_AND_DESIGN     4.3   \n",
       "5                         Paper flowers instructions  ART_AND_DESIGN     4.4   \n",
       "6            Smoke Effect Photo Maker - Smoke Editor  ART_AND_DESIGN     3.8   \n",
       "7                                   Infinite Painter  ART_AND_DESIGN     4.1   \n",
       "8                               Garden Coloring Book  ART_AND_DESIGN     4.4   \n",
       "9                      Kids Paint Free - Drawing Fun  ART_AND_DESIGN     4.7   \n",
       "\n",
       "   Size_Mb  Installs  Type  Price Content_Rating Primary_Genres  \\\n",
       "0     19.0     10000  Free    0.0       Everyone   Art & Design   \n",
       "1     14.0    500000  Free    0.0       Everyone   Art & Design   \n",
       "2      8.7   5000000  Free    0.0       Everyone   Art & Design   \n",
       "3     25.0  50000000  Free    0.0           Teen   Art & Design   \n",
       "4      2.8    100000  Free    0.0       Everyone   Art & Design   \n",
       "5      5.6     50000  Free    0.0       Everyone   Art & Design   \n",
       "6     19.0     50000  Free    0.0       Everyone   Art & Design   \n",
       "7     29.0   1000000  Free    0.0       Everyone   Art & Design   \n",
       "8     33.0   1000000  Free    0.0       Everyone   Art & Design   \n",
       "9      3.1     10000  Free    0.0       Everyone   Art & Design   \n",
       "\n",
       "  Secondary_Genres  \n",
       "0     Art & Design  \n",
       "1     Pretend Play  \n",
       "2     Art & Design  \n",
       "3     Art & Design  \n",
       "4       Creativity  \n",
       "5     Art & Design  \n",
       "6     Art & Design  \n",
       "7     Art & Design  \n",
       "8     Art & Design  \n",
       "9       Creativity  "
      ]
     },
     "execution_count": 60,
     "metadata": {},
     "output_type": "execute_result"
    }
   ],
   "source": [
    "# Finally our table looks fine\n",
    "apps.head(10)"
   ]
  },
  {
   "cell_type": "code",
   "execution_count": 61,
   "id": "0e68ffb3",
   "metadata": {},
   "outputs": [
    {
     "data": {
      "text/html": [
       "<div>\n",
       "<style scoped>\n",
       "    .dataframe tbody tr th:only-of-type {\n",
       "        vertical-align: middle;\n",
       "    }\n",
       "\n",
       "    .dataframe tbody tr th {\n",
       "        vertical-align: top;\n",
       "    }\n",
       "\n",
       "    .dataframe thead th {\n",
       "        text-align: right;\n",
       "    }\n",
       "</style>\n",
       "<table border=\"1\" class=\"dataframe\">\n",
       "  <thead>\n",
       "    <tr style=\"text-align: right;\">\n",
       "      <th></th>\n",
       "      <th>App</th>\n",
       "      <th>Category</th>\n",
       "      <th>Rating</th>\n",
       "      <th>Size</th>\n",
       "      <th>Installs</th>\n",
       "      <th>Type</th>\n",
       "      <th>Price</th>\n",
       "      <th>Content Rating</th>\n",
       "      <th>Genres</th>\n",
       "    </tr>\n",
       "  </thead>\n",
       "  <tbody>\n",
       "    <tr>\n",
       "      <th>23</th>\n",
       "      <td>Mcqueen Coloring pages</td>\n",
       "      <td>ART_AND_DESIGN</td>\n",
       "      <td>NaN</td>\n",
       "      <td>7.0M</td>\n",
       "      <td>100,000+</td>\n",
       "      <td>Free</td>\n",
       "      <td>0</td>\n",
       "      <td>Everyone</td>\n",
       "      <td>Art &amp; Design;Action &amp; Adventure</td>\n",
       "    </tr>\n",
       "    <tr>\n",
       "      <th>113</th>\n",
       "      <td>Wrinkles and rejuvenation</td>\n",
       "      <td>BEAUTY</td>\n",
       "      <td>NaN</td>\n",
       "      <td>5.7M</td>\n",
       "      <td>100,000+</td>\n",
       "      <td>Free</td>\n",
       "      <td>0</td>\n",
       "      <td>Everyone 10+</td>\n",
       "      <td>Beauty</td>\n",
       "    </tr>\n",
       "    <tr>\n",
       "      <th>123</th>\n",
       "      <td>Manicure - nail design</td>\n",
       "      <td>BEAUTY</td>\n",
       "      <td>NaN</td>\n",
       "      <td>3.7M</td>\n",
       "      <td>50,000+</td>\n",
       "      <td>Free</td>\n",
       "      <td>0</td>\n",
       "      <td>Everyone</td>\n",
       "      <td>Beauty</td>\n",
       "    </tr>\n",
       "    <tr>\n",
       "      <th>126</th>\n",
       "      <td>Skin Care and Natural Beauty</td>\n",
       "      <td>BEAUTY</td>\n",
       "      <td>NaN</td>\n",
       "      <td>7.4M</td>\n",
       "      <td>100,000+</td>\n",
       "      <td>Free</td>\n",
       "      <td>0</td>\n",
       "      <td>Teen</td>\n",
       "      <td>Beauty</td>\n",
       "    </tr>\n",
       "    <tr>\n",
       "      <th>129</th>\n",
       "      <td>Secrets of beauty, youth and health</td>\n",
       "      <td>BEAUTY</td>\n",
       "      <td>NaN</td>\n",
       "      <td>2.9M</td>\n",
       "      <td>10,000+</td>\n",
       "      <td>Free</td>\n",
       "      <td>0</td>\n",
       "      <td>Mature 17+</td>\n",
       "      <td>Beauty</td>\n",
       "    </tr>\n",
       "  </tbody>\n",
       "</table>\n",
       "</div>"
      ],
      "text/plain": [
       "                                     App        Category  Rating  Size  \\\n",
       "23                Mcqueen Coloring pages  ART_AND_DESIGN     NaN  7.0M   \n",
       "113            Wrinkles and rejuvenation          BEAUTY     NaN  5.7M   \n",
       "123               Manicure - nail design          BEAUTY     NaN  3.7M   \n",
       "126         Skin Care and Natural Beauty          BEAUTY     NaN  7.4M   \n",
       "129  Secrets of beauty, youth and health          BEAUTY     NaN  2.9M   \n",
       "\n",
       "     Installs  Type Price Content Rating                           Genres  \n",
       "23   100,000+  Free     0       Everyone  Art & Design;Action & Adventure  \n",
       "113  100,000+  Free     0   Everyone 10+                           Beauty  \n",
       "123   50,000+  Free     0       Everyone                           Beauty  \n",
       "126  100,000+  Free     0           Teen                           Beauty  \n",
       "129   10,000+  Free     0     Mature 17+                           Beauty  "
      ]
     },
     "execution_count": 61,
     "metadata": {},
     "output_type": "execute_result"
    }
   ],
   "source": [
    "# Do same transformations to test table\n",
    "test.head()"
   ]
  },
  {
   "cell_type": "code",
   "execution_count": 62,
   "id": "5292f88b",
   "metadata": {},
   "outputs": [
    {
     "name": "stdout",
     "output_type": "stream",
     "text": [
      "<class 'pandas.core.frame.DataFrame'>\n",
      "Int64Index: 1463 entries, 23 to 10838\n",
      "Data columns (total 9 columns):\n",
      " #   Column          Non-Null Count  Dtype  \n",
      "---  ------          --------------  -----  \n",
      " 0   App             1463 non-null   object \n",
      " 1   Category        1463 non-null   object \n",
      " 2   Rating          0 non-null      float64\n",
      " 3   Size            1463 non-null   object \n",
      " 4   Installs        1463 non-null   object \n",
      " 5   Type            1462 non-null   object \n",
      " 6   Price           1463 non-null   object \n",
      " 7   Content Rating  1463 non-null   object \n",
      " 8   Genres          1463 non-null   object \n",
      "dtypes: float64(1), object(8)\n",
      "memory usage: 114.3+ KB\n"
     ]
    }
   ],
   "source": [
    "test.info()"
   ]
  },
  {
   "cell_type": "code",
   "execution_count": 63,
   "id": "39c0f5bf",
   "metadata": {},
   "outputs": [],
   "source": [
    "test.drop(columns=['Rating'], inplace=True)"
   ]
  },
  {
   "cell_type": "code",
   "execution_count": 64,
   "id": "3e5b7493",
   "metadata": {},
   "outputs": [
    {
     "data": {
      "text/html": [
       "<div>\n",
       "<style scoped>\n",
       "    .dataframe tbody tr th:only-of-type {\n",
       "        vertical-align: middle;\n",
       "    }\n",
       "\n",
       "    .dataframe tbody tr th {\n",
       "        vertical-align: top;\n",
       "    }\n",
       "\n",
       "    .dataframe thead th {\n",
       "        text-align: right;\n",
       "    }\n",
       "</style>\n",
       "<table border=\"1\" class=\"dataframe\">\n",
       "  <thead>\n",
       "    <tr style=\"text-align: right;\">\n",
       "      <th></th>\n",
       "      <th>App</th>\n",
       "      <th>Category</th>\n",
       "      <th>Size</th>\n",
       "      <th>Installs</th>\n",
       "      <th>Type</th>\n",
       "      <th>Price</th>\n",
       "      <th>Content Rating</th>\n",
       "      <th>Genres</th>\n",
       "    </tr>\n",
       "  </thead>\n",
       "  <tbody>\n",
       "    <tr>\n",
       "      <th>23</th>\n",
       "      <td>Mcqueen Coloring pages</td>\n",
       "      <td>ART_AND_DESIGN</td>\n",
       "      <td>7.0M</td>\n",
       "      <td>100,000+</td>\n",
       "      <td>Free</td>\n",
       "      <td>0</td>\n",
       "      <td>Everyone</td>\n",
       "      <td>Art &amp; Design;Action &amp; Adventure</td>\n",
       "    </tr>\n",
       "    <tr>\n",
       "      <th>113</th>\n",
       "      <td>Wrinkles and rejuvenation</td>\n",
       "      <td>BEAUTY</td>\n",
       "      <td>5.7M</td>\n",
       "      <td>100,000+</td>\n",
       "      <td>Free</td>\n",
       "      <td>0</td>\n",
       "      <td>Everyone 10+</td>\n",
       "      <td>Beauty</td>\n",
       "    </tr>\n",
       "    <tr>\n",
       "      <th>123</th>\n",
       "      <td>Manicure - nail design</td>\n",
       "      <td>BEAUTY</td>\n",
       "      <td>3.7M</td>\n",
       "      <td>50,000+</td>\n",
       "      <td>Free</td>\n",
       "      <td>0</td>\n",
       "      <td>Everyone</td>\n",
       "      <td>Beauty</td>\n",
       "    </tr>\n",
       "    <tr>\n",
       "      <th>126</th>\n",
       "      <td>Skin Care and Natural Beauty</td>\n",
       "      <td>BEAUTY</td>\n",
       "      <td>7.4M</td>\n",
       "      <td>100,000+</td>\n",
       "      <td>Free</td>\n",
       "      <td>0</td>\n",
       "      <td>Teen</td>\n",
       "      <td>Beauty</td>\n",
       "    </tr>\n",
       "    <tr>\n",
       "      <th>129</th>\n",
       "      <td>Secrets of beauty, youth and health</td>\n",
       "      <td>BEAUTY</td>\n",
       "      <td>2.9M</td>\n",
       "      <td>10,000+</td>\n",
       "      <td>Free</td>\n",
       "      <td>0</td>\n",
       "      <td>Mature 17+</td>\n",
       "      <td>Beauty</td>\n",
       "    </tr>\n",
       "  </tbody>\n",
       "</table>\n",
       "</div>"
      ],
      "text/plain": [
       "                                     App        Category  Size  Installs  \\\n",
       "23                Mcqueen Coloring pages  ART_AND_DESIGN  7.0M  100,000+   \n",
       "113            Wrinkles and rejuvenation          BEAUTY  5.7M  100,000+   \n",
       "123               Manicure - nail design          BEAUTY  3.7M   50,000+   \n",
       "126         Skin Care and Natural Beauty          BEAUTY  7.4M  100,000+   \n",
       "129  Secrets of beauty, youth and health          BEAUTY  2.9M   10,000+   \n",
       "\n",
       "     Type Price Content Rating                           Genres  \n",
       "23   Free     0       Everyone  Art & Design;Action & Adventure  \n",
       "113  Free     0   Everyone 10+                           Beauty  \n",
       "123  Free     0       Everyone                           Beauty  \n",
       "126  Free     0           Teen                           Beauty  \n",
       "129  Free     0     Mature 17+                           Beauty  "
      ]
     },
     "execution_count": 64,
     "metadata": {},
     "output_type": "execute_result"
    }
   ],
   "source": [
    "test.head()"
   ]
  },
  {
   "cell_type": "code",
   "execution_count": 65,
   "id": "692d72f4",
   "metadata": {},
   "outputs": [],
   "source": [
    "test.loc[test.Size == 'Varies with device', 'Size'] = 'NaN'\n",
    "test.Size=test.Size.str.replace('k','e+3')\n",
    "test.Size=test.Size.str.replace('M','e+6')\n",
    "test.Size = test.Size.apply(lambda x: float(x))\n",
    "test['Size'].fillna(test.groupby('Category')['Size'].transform('mean'),inplace = True)\n",
    "test.Size = test.Size.apply(lambda x: round(x / 1000000, 2))\n",
    "test.rename(columns={'Size': 'Size_Mb'}, inplace=True)"
   ]
  },
  {
   "cell_type": "code",
   "execution_count": 66,
   "id": "9b3f275a",
   "metadata": {},
   "outputs": [],
   "source": [
    "test.Installs=test.Installs.apply(lambda x: x.strip('+'))\n",
    "test.Installs=test.Installs.apply(lambda x: x.replace(',',''))"
   ]
  },
  {
   "cell_type": "code",
   "execution_count": 67,
   "id": "86935b7b",
   "metadata": {},
   "outputs": [],
   "source": [
    "test.Installs=pd.to_numeric(test.Installs)"
   ]
  },
  {
   "cell_type": "code",
   "execution_count": 68,
   "id": "9d7f7f14",
   "metadata": {},
   "outputs": [
    {
     "data": {
      "text/html": [
       "<div>\n",
       "<style scoped>\n",
       "    .dataframe tbody tr th:only-of-type {\n",
       "        vertical-align: middle;\n",
       "    }\n",
       "\n",
       "    .dataframe tbody tr th {\n",
       "        vertical-align: top;\n",
       "    }\n",
       "\n",
       "    .dataframe thead th {\n",
       "        text-align: right;\n",
       "    }\n",
       "</style>\n",
       "<table border=\"1\" class=\"dataframe\">\n",
       "  <thead>\n",
       "    <tr style=\"text-align: right;\">\n",
       "      <th></th>\n",
       "      <th>App</th>\n",
       "      <th>Category</th>\n",
       "      <th>Size_Mb</th>\n",
       "      <th>Installs</th>\n",
       "      <th>Type</th>\n",
       "      <th>Price</th>\n",
       "      <th>Content Rating</th>\n",
       "      <th>Genres</th>\n",
       "    </tr>\n",
       "  </thead>\n",
       "  <tbody>\n",
       "    <tr>\n",
       "      <th>9148</th>\n",
       "      <td>Command &amp; Conquer: Rivals</td>\n",
       "      <td>FAMILY</td>\n",
       "      <td>14.56</td>\n",
       "      <td>0</td>\n",
       "      <td>NaN</td>\n",
       "      <td>0</td>\n",
       "      <td>Everyone 10+</td>\n",
       "      <td>Strategy</td>\n",
       "    </tr>\n",
       "  </tbody>\n",
       "</table>\n",
       "</div>"
      ],
      "text/plain": [
       "                            App Category  Size_Mb  Installs Type Price  \\\n",
       "9148  Command & Conquer: Rivals   FAMILY    14.56         0  NaN     0   \n",
       "\n",
       "     Content Rating    Genres  \n",
       "9148   Everyone 10+  Strategy  "
      ]
     },
     "execution_count": 68,
     "metadata": {},
     "output_type": "execute_result"
    }
   ],
   "source": [
    "test[test.Type.isnull()]"
   ]
  },
  {
   "cell_type": "code",
   "execution_count": 69,
   "id": "c2f67b06",
   "metadata": {},
   "outputs": [],
   "source": [
    "test.drop(test[test.Type.isnull()].index, inplace=True)"
   ]
  },
  {
   "cell_type": "code",
   "execution_count": 70,
   "id": "908f4043",
   "metadata": {},
   "outputs": [
    {
     "data": {
      "text/html": [
       "<div>\n",
       "<style scoped>\n",
       "    .dataframe tbody tr th:only-of-type {\n",
       "        vertical-align: middle;\n",
       "    }\n",
       "\n",
       "    .dataframe tbody tr th {\n",
       "        vertical-align: top;\n",
       "    }\n",
       "\n",
       "    .dataframe thead th {\n",
       "        text-align: right;\n",
       "    }\n",
       "</style>\n",
       "<table border=\"1\" class=\"dataframe\">\n",
       "  <thead>\n",
       "    <tr style=\"text-align: right;\">\n",
       "      <th></th>\n",
       "      <th>App</th>\n",
       "      <th>Category</th>\n",
       "      <th>Size_Mb</th>\n",
       "      <th>Installs</th>\n",
       "      <th>Type</th>\n",
       "      <th>Price</th>\n",
       "      <th>Content Rating</th>\n",
       "      <th>Genres</th>\n",
       "    </tr>\n",
       "  </thead>\n",
       "  <tbody>\n",
       "  </tbody>\n",
       "</table>\n",
       "</div>"
      ],
      "text/plain": [
       "Empty DataFrame\n",
       "Columns: [App, Category, Size_Mb, Installs, Type, Price, Content Rating, Genres]\n",
       "Index: []"
      ]
     },
     "execution_count": 70,
     "metadata": {},
     "output_type": "execute_result"
    }
   ],
   "source": [
    "test[test.Type.isnull()]"
   ]
  },
  {
   "cell_type": "code",
   "execution_count": 71,
   "id": "bdc1f019",
   "metadata": {},
   "outputs": [],
   "source": [
    "test.Price=test.Price.apply(lambda x: x.strip('$'))\n",
    "test.Price=pd.to_numeric(test.Price)"
   ]
  },
  {
   "cell_type": "code",
   "execution_count": 72,
   "id": "071d99f6",
   "metadata": {},
   "outputs": [
    {
     "data": {
      "text/html": [
       "<div>\n",
       "<style scoped>\n",
       "    .dataframe tbody tr th:only-of-type {\n",
       "        vertical-align: middle;\n",
       "    }\n",
       "\n",
       "    .dataframe tbody tr th {\n",
       "        vertical-align: top;\n",
       "    }\n",
       "\n",
       "    .dataframe thead th {\n",
       "        text-align: right;\n",
       "    }\n",
       "</style>\n",
       "<table border=\"1\" class=\"dataframe\">\n",
       "  <thead>\n",
       "    <tr style=\"text-align: right;\">\n",
       "      <th></th>\n",
       "      <th>App</th>\n",
       "      <th>Category</th>\n",
       "      <th>Size_Mb</th>\n",
       "      <th>Installs</th>\n",
       "      <th>Type</th>\n",
       "      <th>Price</th>\n",
       "      <th>Content Rating</th>\n",
       "      <th>Genres</th>\n",
       "    </tr>\n",
       "  </thead>\n",
       "  <tbody>\n",
       "  </tbody>\n",
       "</table>\n",
       "</div>"
      ],
      "text/plain": [
       "Empty DataFrame\n",
       "Columns: [App, Category, Size_Mb, Installs, Type, Price, Content Rating, Genres]\n",
       "Index: []"
      ]
     },
     "execution_count": 72,
     "metadata": {},
     "output_type": "execute_result"
    }
   ],
   "source": [
    "test[(test.Type == 'Free') & (test.Price > 0)]"
   ]
  },
  {
   "cell_type": "code",
   "execution_count": 73,
   "id": "a7a130a6",
   "metadata": {},
   "outputs": [
    {
     "data": {
      "text/html": [
       "<div>\n",
       "<style scoped>\n",
       "    .dataframe tbody tr th:only-of-type {\n",
       "        vertical-align: middle;\n",
       "    }\n",
       "\n",
       "    .dataframe tbody tr th {\n",
       "        vertical-align: top;\n",
       "    }\n",
       "\n",
       "    .dataframe thead th {\n",
       "        text-align: right;\n",
       "    }\n",
       "</style>\n",
       "<table border=\"1\" class=\"dataframe\">\n",
       "  <thead>\n",
       "    <tr style=\"text-align: right;\">\n",
       "      <th></th>\n",
       "      <th>App</th>\n",
       "      <th>Category</th>\n",
       "      <th>Size_Mb</th>\n",
       "      <th>Installs</th>\n",
       "      <th>Type</th>\n",
       "      <th>Price</th>\n",
       "      <th>Content Rating</th>\n",
       "      <th>Genres</th>\n",
       "    </tr>\n",
       "  </thead>\n",
       "  <tbody>\n",
       "  </tbody>\n",
       "</table>\n",
       "</div>"
      ],
      "text/plain": [
       "Empty DataFrame\n",
       "Columns: [App, Category, Size_Mb, Installs, Type, Price, Content Rating, Genres]\n",
       "Index: []"
      ]
     },
     "execution_count": 73,
     "metadata": {},
     "output_type": "execute_result"
    }
   ],
   "source": [
    "test[(test.Type == 'Paid') & (test.Price == 0)]"
   ]
  },
  {
   "cell_type": "code",
   "execution_count": 74,
   "id": "b23ad30c",
   "metadata": {},
   "outputs": [],
   "source": [
    "test.rename(columns={'Content Rating':'Content_Rating'}, inplace=True)"
   ]
  },
  {
   "cell_type": "code",
   "execution_count": 75,
   "id": "477e428c",
   "metadata": {},
   "outputs": [],
   "source": [
    "primary = test.Genres.apply(lambda x: x.split(';')[0])\n",
    "test['Primary_Genres'] = primary\n",
    "secondary = test.Genres.apply(lambda x: x.split(';')[-1])\n",
    "test['Secondary_Genres'] = secondary"
   ]
  },
  {
   "cell_type": "code",
   "execution_count": 76,
   "id": "c5b6f28a",
   "metadata": {},
   "outputs": [],
   "source": [
    "test.drop(columns=['Genres'], inplace=True)"
   ]
  },
  {
   "cell_type": "code",
   "execution_count": 77,
   "id": "3d564301",
   "metadata": {},
   "outputs": [],
   "source": [
    "# Let's place \n",
    "apps = apps.iloc[:, [0, 1, 3, 4, 5, 6, 7, 8, 9, 2]]"
   ]
  },
  {
   "cell_type": "code",
   "execution_count": 78,
   "id": "10c805c1",
   "metadata": {},
   "outputs": [
    {
     "data": {
      "text/html": [
       "<div>\n",
       "<style scoped>\n",
       "    .dataframe tbody tr th:only-of-type {\n",
       "        vertical-align: middle;\n",
       "    }\n",
       "\n",
       "    .dataframe tbody tr th {\n",
       "        vertical-align: top;\n",
       "    }\n",
       "\n",
       "    .dataframe thead th {\n",
       "        text-align: right;\n",
       "    }\n",
       "</style>\n",
       "<table border=\"1\" class=\"dataframe\">\n",
       "  <thead>\n",
       "    <tr style=\"text-align: right;\">\n",
       "      <th></th>\n",
       "      <th>App</th>\n",
       "      <th>Category</th>\n",
       "      <th>Size_Mb</th>\n",
       "      <th>Installs</th>\n",
       "      <th>Type</th>\n",
       "      <th>Price</th>\n",
       "      <th>Content_Rating</th>\n",
       "      <th>Primary_Genres</th>\n",
       "      <th>Secondary_Genres</th>\n",
       "      <th>Rating</th>\n",
       "    </tr>\n",
       "  </thead>\n",
       "  <tbody>\n",
       "    <tr>\n",
       "      <th>0</th>\n",
       "      <td>Photo Editor &amp; Candy Camera &amp; Grid &amp; ScrapBook</td>\n",
       "      <td>ART_AND_DESIGN</td>\n",
       "      <td>19.0</td>\n",
       "      <td>10000</td>\n",
       "      <td>Free</td>\n",
       "      <td>0.0</td>\n",
       "      <td>Everyone</td>\n",
       "      <td>Art &amp; Design</td>\n",
       "      <td>Art &amp; Design</td>\n",
       "      <td>4.1</td>\n",
       "    </tr>\n",
       "    <tr>\n",
       "      <th>1</th>\n",
       "      <td>Coloring book moana</td>\n",
       "      <td>ART_AND_DESIGN</td>\n",
       "      <td>14.0</td>\n",
       "      <td>500000</td>\n",
       "      <td>Free</td>\n",
       "      <td>0.0</td>\n",
       "      <td>Everyone</td>\n",
       "      <td>Art &amp; Design</td>\n",
       "      <td>Pretend Play</td>\n",
       "      <td>3.9</td>\n",
       "    </tr>\n",
       "    <tr>\n",
       "      <th>2</th>\n",
       "      <td>U Launcher Lite – FREE Live Cool Themes, Hide ...</td>\n",
       "      <td>ART_AND_DESIGN</td>\n",
       "      <td>8.7</td>\n",
       "      <td>5000000</td>\n",
       "      <td>Free</td>\n",
       "      <td>0.0</td>\n",
       "      <td>Everyone</td>\n",
       "      <td>Art &amp; Design</td>\n",
       "      <td>Art &amp; Design</td>\n",
       "      <td>4.7</td>\n",
       "    </tr>\n",
       "    <tr>\n",
       "      <th>3</th>\n",
       "      <td>Sketch - Draw &amp; Paint</td>\n",
       "      <td>ART_AND_DESIGN</td>\n",
       "      <td>25.0</td>\n",
       "      <td>50000000</td>\n",
       "      <td>Free</td>\n",
       "      <td>0.0</td>\n",
       "      <td>Teen</td>\n",
       "      <td>Art &amp; Design</td>\n",
       "      <td>Art &amp; Design</td>\n",
       "      <td>4.5</td>\n",
       "    </tr>\n",
       "    <tr>\n",
       "      <th>4</th>\n",
       "      <td>Pixel Draw - Number Art Coloring Book</td>\n",
       "      <td>ART_AND_DESIGN</td>\n",
       "      <td>2.8</td>\n",
       "      <td>100000</td>\n",
       "      <td>Free</td>\n",
       "      <td>0.0</td>\n",
       "      <td>Everyone</td>\n",
       "      <td>Art &amp; Design</td>\n",
       "      <td>Creativity</td>\n",
       "      <td>4.3</td>\n",
       "    </tr>\n",
       "  </tbody>\n",
       "</table>\n",
       "</div>"
      ],
      "text/plain": [
       "                                                 App        Category  Size_Mb  \\\n",
       "0     Photo Editor & Candy Camera & Grid & ScrapBook  ART_AND_DESIGN     19.0   \n",
       "1                                Coloring book moana  ART_AND_DESIGN     14.0   \n",
       "2  U Launcher Lite – FREE Live Cool Themes, Hide ...  ART_AND_DESIGN      8.7   \n",
       "3                              Sketch - Draw & Paint  ART_AND_DESIGN     25.0   \n",
       "4              Pixel Draw - Number Art Coloring Book  ART_AND_DESIGN      2.8   \n",
       "\n",
       "   Installs  Type  Price Content_Rating Primary_Genres Secondary_Genres  \\\n",
       "0     10000  Free    0.0       Everyone   Art & Design     Art & Design   \n",
       "1    500000  Free    0.0       Everyone   Art & Design     Pretend Play   \n",
       "2   5000000  Free    0.0       Everyone   Art & Design     Art & Design   \n",
       "3  50000000  Free    0.0           Teen   Art & Design     Art & Design   \n",
       "4    100000  Free    0.0       Everyone   Art & Design       Creativity   \n",
       "\n",
       "   Rating  \n",
       "0     4.1  \n",
       "1     3.9  \n",
       "2     4.7  \n",
       "3     4.5  \n",
       "4     4.3  "
      ]
     },
     "execution_count": 78,
     "metadata": {},
     "output_type": "execute_result"
    }
   ],
   "source": [
    "apps.head()"
   ]
  },
  {
   "cell_type": "code",
   "execution_count": 79,
   "id": "d76c46c9",
   "metadata": {},
   "outputs": [
    {
     "data": {
      "text/html": [
       "<div>\n",
       "<style scoped>\n",
       "    .dataframe tbody tr th:only-of-type {\n",
       "        vertical-align: middle;\n",
       "    }\n",
       "\n",
       "    .dataframe tbody tr th {\n",
       "        vertical-align: top;\n",
       "    }\n",
       "\n",
       "    .dataframe thead th {\n",
       "        text-align: right;\n",
       "    }\n",
       "</style>\n",
       "<table border=\"1\" class=\"dataframe\">\n",
       "  <thead>\n",
       "    <tr style=\"text-align: right;\">\n",
       "      <th></th>\n",
       "      <th>App</th>\n",
       "      <th>Category</th>\n",
       "      <th>Size_Mb</th>\n",
       "      <th>Installs</th>\n",
       "      <th>Type</th>\n",
       "      <th>Price</th>\n",
       "      <th>Content_Rating</th>\n",
       "      <th>Primary_Genres</th>\n",
       "      <th>Secondary_Genres</th>\n",
       "    </tr>\n",
       "  </thead>\n",
       "  <tbody>\n",
       "    <tr>\n",
       "      <th>23</th>\n",
       "      <td>Mcqueen Coloring pages</td>\n",
       "      <td>ART_AND_DESIGN</td>\n",
       "      <td>7.0</td>\n",
       "      <td>100000</td>\n",
       "      <td>Free</td>\n",
       "      <td>0.0</td>\n",
       "      <td>Everyone</td>\n",
       "      <td>Art &amp; Design</td>\n",
       "      <td>Action &amp; Adventure</td>\n",
       "    </tr>\n",
       "    <tr>\n",
       "      <th>113</th>\n",
       "      <td>Wrinkles and rejuvenation</td>\n",
       "      <td>BEAUTY</td>\n",
       "      <td>5.7</td>\n",
       "      <td>100000</td>\n",
       "      <td>Free</td>\n",
       "      <td>0.0</td>\n",
       "      <td>Everyone 10+</td>\n",
       "      <td>Beauty</td>\n",
       "      <td>Beauty</td>\n",
       "    </tr>\n",
       "    <tr>\n",
       "      <th>123</th>\n",
       "      <td>Manicure - nail design</td>\n",
       "      <td>BEAUTY</td>\n",
       "      <td>3.7</td>\n",
       "      <td>50000</td>\n",
       "      <td>Free</td>\n",
       "      <td>0.0</td>\n",
       "      <td>Everyone</td>\n",
       "      <td>Beauty</td>\n",
       "      <td>Beauty</td>\n",
       "    </tr>\n",
       "    <tr>\n",
       "      <th>126</th>\n",
       "      <td>Skin Care and Natural Beauty</td>\n",
       "      <td>BEAUTY</td>\n",
       "      <td>7.4</td>\n",
       "      <td>100000</td>\n",
       "      <td>Free</td>\n",
       "      <td>0.0</td>\n",
       "      <td>Teen</td>\n",
       "      <td>Beauty</td>\n",
       "      <td>Beauty</td>\n",
       "    </tr>\n",
       "    <tr>\n",
       "      <th>129</th>\n",
       "      <td>Secrets of beauty, youth and health</td>\n",
       "      <td>BEAUTY</td>\n",
       "      <td>2.9</td>\n",
       "      <td>10000</td>\n",
       "      <td>Free</td>\n",
       "      <td>0.0</td>\n",
       "      <td>Mature 17+</td>\n",
       "      <td>Beauty</td>\n",
       "      <td>Beauty</td>\n",
       "    </tr>\n",
       "  </tbody>\n",
       "</table>\n",
       "</div>"
      ],
      "text/plain": [
       "                                     App        Category  Size_Mb  Installs  \\\n",
       "23                Mcqueen Coloring pages  ART_AND_DESIGN      7.0    100000   \n",
       "113            Wrinkles and rejuvenation          BEAUTY      5.7    100000   \n",
       "123               Manicure - nail design          BEAUTY      3.7     50000   \n",
       "126         Skin Care and Natural Beauty          BEAUTY      7.4    100000   \n",
       "129  Secrets of beauty, youth and health          BEAUTY      2.9     10000   \n",
       "\n",
       "     Type  Price Content_Rating Primary_Genres    Secondary_Genres  \n",
       "23   Free    0.0       Everyone   Art & Design  Action & Adventure  \n",
       "113  Free    0.0   Everyone 10+         Beauty              Beauty  \n",
       "123  Free    0.0       Everyone         Beauty              Beauty  \n",
       "126  Free    0.0           Teen         Beauty              Beauty  \n",
       "129  Free    0.0     Mature 17+         Beauty              Beauty  "
      ]
     },
     "execution_count": 79,
     "metadata": {},
     "output_type": "execute_result"
    }
   ],
   "source": [
    "test.head()"
   ]
  },
  {
   "cell_type": "markdown",
   "id": "d9e793cb",
   "metadata": {},
   "source": [
    "# EDA"
   ]
  },
  {
   "cell_type": "markdown",
   "id": "b607a634",
   "metadata": {},
   "source": [
    "### Rating"
   ]
  },
  {
   "cell_type": "code",
   "execution_count": 80,
   "id": "4e20bcc0",
   "metadata": {},
   "outputs": [
    {
     "data": {
      "text/plain": [
       "<seaborn.axisgrid.FacetGrid at 0x1f8a3a95780>"
      ]
     },
     "execution_count": 80,
     "metadata": {},
     "output_type": "execute_result"
    },
    {
     "data": {
      "image/png": "[encoded data removed]",
      "text/plain": [
       "<Figure size 500x500 with 1 Axes>"
      ]
     },
     "metadata": {},
     "output_type": "display_data"
    }
   ],
   "source": [
    "sns.displot(apps.Rating)"
   ]
  },
  {
   "cell_type": "markdown",
   "id": "e2f03e99",
   "metadata": {},
   "source": [
    "### Pairplot"
   ]
  },
  {
   "cell_type": "code",
   "execution_count": 81,
   "id": "ba29e189",
   "metadata": {},
   "outputs": [
    {
     "data": {
      "text/plain": [
       "<seaborn.axisgrid.PairGrid at 0x1f8a5c53040>"
      ]
     },
     "execution_count": 81,
     "metadata": {},
     "output_type": "execute_result"
    },
    {
     "data": {
      "image/png": "[encoded data removed]",
      "text/plain": [
       "<Figure size 1000x1000 with 14 Axes>"
      ]
     },
     "metadata": {},
     "output_type": "display_data"
    }
   ],
   "source": [
    "sns.pairplot(apps, corner=True, diag_kind='kde')"
   ]
  },
  {
   "cell_type": "markdown",
   "id": "75fc2de1",
   "metadata": {},
   "source": [
    "### Installs vs Rating"
   ]
  },
  {
   "cell_type": "code",
   "execution_count": 82,
   "id": "f5fe155d",
   "metadata": {},
   "outputs": [
    {
     "data": {
      "text/plain": [
       "<AxesSubplot: xlabel='Installs', ylabel='Rating'>"
      ]
     },
     "execution_count": 82,
     "metadata": {},
     "output_type": "execute_result"
    },
    {
     "data": {
      "image/png": "[encoded data removed]",
      "text/plain": [
       "<Figure size 640x480 with 1 Axes>"
      ]
     },
     "metadata": {},
     "output_type": "display_data"
    }
   ],
   "source": [
    "sns.regplot(x=\"Installs\", y=\"Rating\", color = 'teal',data=apps)"
   ]
  },
  {
   "cell_type": "markdown",
   "id": "0cdc4c2a",
   "metadata": {},
   "source": [
    "Looks like apps with more installs have higher rating. But there is not much apps with >= 10^5 installs so I think this fact is not necessary. TODO: Explore more, run some stat tests"
   ]
  },
  {
   "cell_type": "markdown",
   "id": "08ab0624",
   "metadata": {},
   "source": [
    "### Type vs Rating"
   ]
  },
  {
   "cell_type": "code",
   "execution_count": 83,
   "id": "fb5dc4e8",
   "metadata": {},
   "outputs": [
    {
     "data": {
      "text/plain": [
       "<matplotlib.lines.Line2D at 0x1f8a9bb2a40>"
      ]
     },
     "execution_count": 83,
     "metadata": {},
     "output_type": "execute_result"
    },
    {
     "data": {
      "image/png": "[encoded data removed]",
      "text/plain": [
       "<Figure size 500x500 with 1 Axes>"
      ]
     },
     "metadata": {},
     "output_type": "display_data"
    },
    {
     "data": {
      "image/png": "[encoded data removed]",
      "text/plain": [
       "<Figure size 500x500 with 1 Axes>"
      ]
     },
     "metadata": {},
     "output_type": "display_data"
    }
   ],
   "source": [
    "sns.displot(apps[apps.Type == 'Free']['Rating'], bins=15)\n",
    "plt.axvline(apps[apps.Type == 'Free']['Rating'].mean(), color='red')\n",
    "sns.displot(apps[apps.Type == 'Paid']['Rating'], bins=15)\n",
    "plt.axvline(apps[apps.Type == 'Paid']['Rating'].mean(), color='red')"
   ]
  },
  {
   "cell_type": "code",
   "execution_count": 84,
   "id": "7c82c36f",
   "metadata": {},
   "outputs": [
    {
     "data": {
      "text/plain": [
       "(4.166372497365648, 4.259602649006623)"
      ]
     },
     "execution_count": 84,
     "metadata": {},
     "output_type": "execute_result"
    }
   ],
   "source": [
    "apps[apps.Type == 'Free']['Rating'].mean(), apps[apps.Type == 'Paid']['Rating'].mean()"
   ]
  },
  {
   "cell_type": "markdown",
   "id": "ce1cb425",
   "metadata": {},
   "source": [
    "TODO: Run a statistical test to check whether there is a statistically significant difference between Free and Paid apps' rating"
   ]
  },
  {
   "cell_type": "markdown",
   "id": "0262605c",
   "metadata": {},
   "source": [
    "### Type"
   ]
  },
  {
   "cell_type": "code",
   "execution_count": 85,
   "id": "388a51e1",
   "metadata": {},
   "outputs": [
    {
     "data": {
      "text/plain": [
       "([<matplotlib.patches.Wedge at 0x1f8a9ca1300>,\n",
       "  <matplotlib.patches.Wedge at 0x1f8a9ca1990>],\n",
       " [Text(-1.070651124323107, 0.2524008121731531, 'Free'),\n",
       "  Text(1.0706511361388402, -0.2524007620523571, 'Paid')],\n",
       " [Text(-0.5839915223580582, 0.1376731702762653, '92.6%'),\n",
       "  Text(0.5839915288030038, -0.13767314293764932, '7.4%')])"
      ]
     },
     "execution_count": 85,
     "metadata": {},
     "output_type": "execute_result"
    },
    {
     "data": {
      "image/png": "[encoded data removed]",
      "text/plain": [
       "<Figure size 640x480 with 1 Axes>"
      ]
     },
     "metadata": {},
     "output_type": "display_data"
    }
   ],
   "source": [
    "plt.pie(apps['Type'].value_counts(sort=True), labels=apps['Type'].value_counts(sort=True).index, autopct='%1.1f%%')"
   ]
  },
  {
   "cell_type": "code",
   "execution_count": 86,
   "id": "abb49f61",
   "metadata": {},
   "outputs": [
    {
     "data": {
      "image/png": "[encoded data removed]",
      "text/plain": [
       "<Figure size 640x480 with 1 Axes>"
      ]
     },
     "metadata": {},
     "output_type": "display_data"
    }
   ],
   "source": [
    "# Obviously, Free apps has much more installs on average\n",
    "sns.barplot(x=apps.Type, y=apps.Installs)\n",
    "plt.yscale('log')"
   ]
  },
  {
   "cell_type": "markdown",
   "id": "93df9b3b",
   "metadata": {},
   "source": [
    "### Price vs Rating"
   ]
  },
  {
   "cell_type": "code",
   "execution_count": 87,
   "id": "c691bc30",
   "metadata": {},
   "outputs": [
    {
     "data": {
      "text/plain": [
       "<AxesSubplot: xlabel='Price', ylabel='Rating'>"
      ]
     },
     "execution_count": 87,
     "metadata": {},
     "output_type": "execute_result"
    },
    {
     "data": {
      "image/png": "[encoded data removed]",
      "text/plain": [
       "<Figure size 640x480 with 1 Axes>"
      ]
     },
     "metadata": {},
     "output_type": "display_data"
    }
   ],
   "source": [
    "sns.regplot(x=\"Price\", y=\"Rating\", color = 'darkorange',data=apps)"
   ]
  },
  {
   "cell_type": "markdown",
   "id": "cd0da62d",
   "metadata": {},
   "source": [
    "Not sure about significance of this correlation. TODO: Run some stat tests"
   ]
  },
  {
   "cell_type": "markdown",
   "id": "613f174c",
   "metadata": {},
   "source": [
    "### Category"
   ]
  },
  {
   "cell_type": "code",
   "execution_count": 88,
   "id": "44c65ba9",
   "metadata": {},
   "outputs": [
    {
     "data": {
      "text/plain": [
       "<AxesSubplot: xlabel='count', ylabel='Category'>"
      ]
     },
     "execution_count": 88,
     "metadata": {},
     "output_type": "execute_result"
    },
    {
     "data": {
      "image/png": "[encoded data removed]",
      "text/plain": [
       "<Figure size 640x480 with 1 Axes>"
      ]
     },
     "metadata": {},
     "output_type": "display_data"
    }
   ],
   "source": [
    "# Most popular categories are family, game, and tools\n",
    "sns.countplot(y=apps.Category, order=apps['Category'].value_counts().index)"
   ]
  },
  {
   "cell_type": "markdown",
   "id": "467ed28e",
   "metadata": {},
   "source": [
    "### Rating vs Category"
   ]
  },
  {
   "cell_type": "code",
   "execution_count": 89,
   "id": "cfa90b5e",
   "metadata": {},
   "outputs": [
    {
     "data": {
      "text/plain": [
       "<AxesSubplot: xlabel='Rating', ylabel='Category'>"
      ]
     },
     "execution_count": 89,
     "metadata": {},
     "output_type": "execute_result"
    },
    {
     "data": {
      "image/png": "[encoded data removed]",
      "text/plain": [
       "<Figure size 640x480 with 1 Axes>"
      ]
     },
     "metadata": {},
     "output_type": "display_data"
    }
   ],
   "source": [
    "sns.barplot(x=apps.Rating, y=apps.Category)"
   ]
  },
  {
   "cell_type": "code",
   "execution_count": 90,
   "id": "b2edcebc",
   "metadata": {},
   "outputs": [
    {
     "data": {
      "text/plain": [
       "Category\n",
       "ART_AND_DESIGN         4.357377\n",
       "AUTO_AND_VEHICLES      4.190411\n",
       "BEAUTY                 4.278571\n",
       "BOOKS_AND_REFERENCE    4.344970\n",
       "BUSINESS               4.098479\n",
       "COMICS                 4.181481\n",
       "COMMUNICATION          4.121484\n",
       "DATING                 3.970149\n",
       "EDUCATION              4.364407\n",
       "ENTERTAINMENT          4.135294\n",
       "EVENTS                 4.435556\n",
       "FAMILY                 4.179664\n",
       "FINANCE                4.115563\n",
       "FOOD_AND_DRINK         4.172340\n",
       "GAME                   4.247368\n",
       "HEALTH_AND_FITNESS     4.243033\n",
       "HOUSE_AND_HOME         4.150000\n",
       "LIBRARIES_AND_DEMO     4.178125\n",
       "LIFESTYLE              4.093355\n",
       "MAPS_AND_NAVIGATION    4.036441\n",
       "MEDICAL                4.166552\n",
       "NEWS_AND_MAGAZINES     4.121569\n",
       "PARENTING              4.300000\n",
       "PERSONALIZATION        4.332215\n",
       "PHOTOGRAPHY            4.157414\n",
       "PRODUCTIVITY           4.183389\n",
       "SHOPPING               4.230000\n",
       "SOCIAL                 4.247291\n",
       "SPORTS                 4.216154\n",
       "TOOLS                  4.039554\n",
       "TRAVEL_AND_LOCAL       4.069519\n",
       "VIDEO_PLAYERS          4.044595\n",
       "WEATHER                4.243056\n",
       "Name: Rating, dtype: float64"
      ]
     },
     "execution_count": 90,
     "metadata": {},
     "output_type": "execute_result"
    }
   ],
   "source": [
    "apps.groupby('Category')['Rating'].mean()"
   ]
  },
  {
   "cell_type": "code",
   "execution_count": 92,
   "id": "1eeb3230",
   "metadata": {},
   "outputs": [
    {
     "name": "stderr",
     "output_type": "stream",
     "text": [
      "C:\\Users\\Александр\\AppData\\Local\\Temp\\ipykernel_7176\\718645409.py:1: FutureWarning: The default value of numeric_only in DataFrame.corr is deprecated. In a future version, it will default to False. Select only valid columns or specify the value of numeric_only to silence this warning.\n",
      "  sns.heatmap(apps.corr(), annot=True)\n"
     ]
    },
    {
     "data": {
      "text/plain": [
       "<AxesSubplot: >"
      ]
     },
     "execution_count": 92,
     "metadata": {},
     "output_type": "execute_result"
    },
    {
     "data": {
      "image/png": "[encoded data removed]",
      "text/plain": [
       "<Figure size 640x480 with 2 Axes>"
      ]
     },
     "metadata": {},
     "output_type": "display_data"
    }
   ],
   "source": [
    "sns.heatmap(apps.corr(), annot=True)"
   ]
  },
  {
   "cell_type": "code",
   "execution_count": null,
   "id": "651ef491",
   "metadata": {},
   "outputs": [],
   "source": []
  }
 ],
 "metadata": {
  "kernelspec": {
   "display_name": "Python 3 (ipykernel)",
   "language": "python",
   "name": "python3"
  },
  "language_info": {
   "codemirror_mode": {
    "name": "ipython",
    "version": 3
   },
   "file_extension": ".py",
   "mimetype": "text/x-python",
   "name": "python",
   "nbconvert_exporter": "python",
   "pygments_lexer": "ipython3",
   "version": "3.10.7"
  }
 },
 "nbformat": 4,
 "nbformat_minor": 5
}
