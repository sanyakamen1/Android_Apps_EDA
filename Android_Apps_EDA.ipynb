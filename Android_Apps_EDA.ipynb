{
 "cells": [
  {
   "cell_type": "code",
   "execution_count": 1475,
   "id": "9c1d7d0a",
   "metadata": {},
   "outputs": [],
   "source": [
    "import numpy as np\n",
    "import pandas as pd\n",
    "import scipy.stats as stats\n",
    "import matplotlib.pyplot as plt\n",
    "import seaborn as sns\n",
    "pd.options.mode.chained_assignment = None"
   ]
  },
  {
   "cell_type": "code",
   "execution_count": 1476,
   "id": "06287060",
   "metadata": {},
   "outputs": [],
   "source": [
    "sns.set_palette(sns.cubehelix_palette(33, rot=.2))"
   ]
  },
  {
   "cell_type": "code",
   "execution_count": 1477,
   "id": "e43f94d8",
   "metadata": {},
   "outputs": [],
   "source": [
    "apps = pd.read_csv('googleplaystore.csv')"
   ]
  },
  {
   "cell_type": "code",
   "execution_count": 1478,
   "id": "0cea4536",
   "metadata": {},
   "outputs": [
    {
     "data": {
      "text/html": [
       "<div>\n",
       "<style scoped>\n",
       "    .dataframe tbody tr th:only-of-type {\n",
       "        vertical-align: middle;\n",
       "    }\n",
       "\n",
       "    .dataframe tbody tr th {\n",
       "        vertical-align: top;\n",
       "    }\n",
       "\n",
       "    .dataframe thead th {\n",
       "        text-align: right;\n",
       "    }\n",
       "</style>\n",
       "<table border=\"1\" class=\"dataframe\">\n",
       "  <thead>\n",
       "    <tr style=\"text-align: right;\">\n",
       "      <th></th>\n",
       "      <th>App</th>\n",
       "      <th>Category</th>\n",
       "      <th>Rating</th>\n",
       "      <th>Reviews</th>\n",
       "      <th>Size</th>\n",
       "      <th>Installs</th>\n",
       "      <th>Type</th>\n",
       "      <th>Price</th>\n",
       "      <th>Content Rating</th>\n",
       "      <th>Genres</th>\n",
       "      <th>Last Updated</th>\n",
       "      <th>Current Ver</th>\n",
       "      <th>Android Ver</th>\n",
       "    </tr>\n",
       "  </thead>\n",
       "  <tbody>\n",
       "    <tr>\n",
       "      <th>0</th>\n",
       "      <td>Photo Editor &amp; Candy Camera &amp; Grid &amp; ScrapBook</td>\n",
       "      <td>ART_AND_DESIGN</td>\n",
       "      <td>4.1</td>\n",
       "      <td>159</td>\n",
       "      <td>19M</td>\n",
       "      <td>10,000+</td>\n",
       "      <td>Free</td>\n",
       "      <td>0</td>\n",
       "      <td>Everyone</td>\n",
       "      <td>Art &amp; Design</td>\n",
       "      <td>January 7, 2018</td>\n",
       "      <td>1.0.0</td>\n",
       "      <td>4.0.3 and up</td>\n",
       "    </tr>\n",
       "    <tr>\n",
       "      <th>1</th>\n",
       "      <td>Coloring book moana</td>\n",
       "      <td>ART_AND_DESIGN</td>\n",
       "      <td>3.9</td>\n",
       "      <td>967</td>\n",
       "      <td>14M</td>\n",
       "      <td>500,000+</td>\n",
       "      <td>Free</td>\n",
       "      <td>0</td>\n",
       "      <td>Everyone</td>\n",
       "      <td>Art &amp; Design;Pretend Play</td>\n",
       "      <td>January 15, 2018</td>\n",
       "      <td>2.0.0</td>\n",
       "      <td>4.0.3 and up</td>\n",
       "    </tr>\n",
       "    <tr>\n",
       "      <th>2</th>\n",
       "      <td>U Launcher Lite – FREE Live Cool Themes, Hide ...</td>\n",
       "      <td>ART_AND_DESIGN</td>\n",
       "      <td>4.7</td>\n",
       "      <td>87510</td>\n",
       "      <td>8.7M</td>\n",
       "      <td>5,000,000+</td>\n",
       "      <td>Free</td>\n",
       "      <td>0</td>\n",
       "      <td>Everyone</td>\n",
       "      <td>Art &amp; Design</td>\n",
       "      <td>August 1, 2018</td>\n",
       "      <td>1.2.4</td>\n",
       "      <td>4.0.3 and up</td>\n",
       "    </tr>\n",
       "    <tr>\n",
       "      <th>3</th>\n",
       "      <td>Sketch - Draw &amp; Paint</td>\n",
       "      <td>ART_AND_DESIGN</td>\n",
       "      <td>4.5</td>\n",
       "      <td>215644</td>\n",
       "      <td>25M</td>\n",
       "      <td>50,000,000+</td>\n",
       "      <td>Free</td>\n",
       "      <td>0</td>\n",
       "      <td>Teen</td>\n",
       "      <td>Art &amp; Design</td>\n",
       "      <td>June 8, 2018</td>\n",
       "      <td>Varies with device</td>\n",
       "      <td>4.2 and up</td>\n",
       "    </tr>\n",
       "    <tr>\n",
       "      <th>4</th>\n",
       "      <td>Pixel Draw - Number Art Coloring Book</td>\n",
       "      <td>ART_AND_DESIGN</td>\n",
       "      <td>4.3</td>\n",
       "      <td>967</td>\n",
       "      <td>2.8M</td>\n",
       "      <td>100,000+</td>\n",
       "      <td>Free</td>\n",
       "      <td>0</td>\n",
       "      <td>Everyone</td>\n",
       "      <td>Art &amp; Design;Creativity</td>\n",
       "      <td>June 20, 2018</td>\n",
       "      <td>1.1</td>\n",
       "      <td>4.4 and up</td>\n",
       "    </tr>\n",
       "  </tbody>\n",
       "</table>\n",
       "</div>"
      ],
      "text/plain": [
       "                                                 App        Category  Rating  \\\n",
       "0     Photo Editor & Candy Camera & Grid & ScrapBook  ART_AND_DESIGN     4.1   \n",
       "1                                Coloring book moana  ART_AND_DESIGN     3.9   \n",
       "2  U Launcher Lite – FREE Live Cool Themes, Hide ...  ART_AND_DESIGN     4.7   \n",
       "3                              Sketch - Draw & Paint  ART_AND_DESIGN     4.5   \n",
       "4              Pixel Draw - Number Art Coloring Book  ART_AND_DESIGN     4.3   \n",
       "\n",
       "  Reviews  Size     Installs  Type Price Content Rating  \\\n",
       "0     159   19M      10,000+  Free     0       Everyone   \n",
       "1     967   14M     500,000+  Free     0       Everyone   \n",
       "2   87510  8.7M   5,000,000+  Free     0       Everyone   \n",
       "3  215644   25M  50,000,000+  Free     0           Teen   \n",
       "4     967  2.8M     100,000+  Free     0       Everyone   \n",
       "\n",
       "                      Genres      Last Updated         Current Ver  \\\n",
       "0               Art & Design   January 7, 2018               1.0.0   \n",
       "1  Art & Design;Pretend Play  January 15, 2018               2.0.0   \n",
       "2               Art & Design    August 1, 2018               1.2.4   \n",
       "3               Art & Design      June 8, 2018  Varies with device   \n",
       "4    Art & Design;Creativity     June 20, 2018                 1.1   \n",
       "\n",
       "    Android Ver  \n",
       "0  4.0.3 and up  \n",
       "1  4.0.3 and up  \n",
       "2  4.0.3 and up  \n",
       "3    4.2 and up  \n",
       "4    4.4 and up  "
      ]
     },
     "execution_count": 1478,
     "metadata": {},
     "output_type": "execute_result"
    }
   ],
   "source": [
    "apps.head()"
   ]
  },
  {
   "cell_type": "markdown",
   "id": "9a47ec4d",
   "metadata": {},
   "source": [
    "Нас интересует рейтинг приложений и кол-во их скачиваний. Нам хочется понять, какие приложения получают много скачиваний и высокий рейтинг"
   ]
  },
  {
   "cell_type": "markdown",
   "id": "611ce061",
   "metadata": {},
   "source": [
    "Для этого мы изучим то, как другие переменные вляют на наши целевые, и как все они взаимосвязаны"
   ]
  },
  {
   "cell_type": "markdown",
   "id": "f2898747",
   "metadata": {},
   "source": [
    "Проанализировав имеющиеся данные, проверим несколько гипотез и выделим наиболее значимые инсайты"
   ]
  },
  {
   "cell_type": "markdown",
   "id": "3d6885cd",
   "metadata": {},
   "source": [
    "Но сначала подготовим данные к работе"
   ]
  },
  {
   "cell_type": "markdown",
   "id": "35846907",
   "metadata": {},
   "source": [
    "# Очистка и форматирование данных"
   ]
  },
  {
   "cell_type": "code",
   "execution_count": 1479,
   "id": "8e0138f8",
   "metadata": {},
   "outputs": [
    {
     "name": "stdout",
     "output_type": "stream",
     "text": [
      "<class 'pandas.core.frame.DataFrame'>\n",
      "RangeIndex: 10841 entries, 0 to 10840\n",
      "Data columns (total 13 columns):\n",
      " #   Column          Non-Null Count  Dtype  \n",
      "---  ------          --------------  -----  \n",
      " 0   App             10841 non-null  object \n",
      " 1   Category        10841 non-null  object \n",
      " 2   Rating          9367 non-null   float64\n",
      " 3   Reviews         10841 non-null  object \n",
      " 4   Size            10841 non-null  object \n",
      " 5   Installs        10841 non-null  object \n",
      " 6   Type            10840 non-null  object \n",
      " 7   Price           10841 non-null  object \n",
      " 8   Content Rating  10840 non-null  object \n",
      " 9   Genres          10841 non-null  object \n",
      " 10  Last Updated    10841 non-null  object \n",
      " 11  Current Ver     10833 non-null  object \n",
      " 12  Android Ver     10838 non-null  object \n",
      "dtypes: float64(1), object(12)\n",
      "memory usage: 1.1+ MB\n"
     ]
    }
   ],
   "source": [
    "# информация о таблице\n",
    "apps.info()"
   ]
  },
  {
   "cell_type": "code",
   "execution_count": 1480,
   "id": "a4264bad",
   "metadata": {},
   "outputs": [
    {
     "data": {
      "text/plain": [
       "count      10841\n",
       "unique      9660\n",
       "top       ROBLOX\n",
       "freq           9\n",
       "Name: App, dtype: object"
      ]
     },
     "execution_count": 1480,
     "metadata": {},
     "output_type": "execute_result"
    }
   ],
   "source": [
    "apps.App.describe()"
   ]
  },
  {
   "cell_type": "markdown",
   "id": "6513e756",
   "metadata": {},
   "source": [
    "В таблице есть повторяющиеся приложения"
   ]
  },
  {
   "cell_type": "code",
   "execution_count": 1481,
   "id": "78d22ece",
   "metadata": {},
   "outputs": [
    {
     "data": {
      "text/html": [
       "<div>\n",
       "<style scoped>\n",
       "    .dataframe tbody tr th:only-of-type {\n",
       "        vertical-align: middle;\n",
       "    }\n",
       "\n",
       "    .dataframe tbody tr th {\n",
       "        vertical-align: top;\n",
       "    }\n",
       "\n",
       "    .dataframe thead th {\n",
       "        text-align: right;\n",
       "    }\n",
       "</style>\n",
       "<table border=\"1\" class=\"dataframe\">\n",
       "  <thead>\n",
       "    <tr style=\"text-align: right;\">\n",
       "      <th></th>\n",
       "      <th>App</th>\n",
       "      <th>Count</th>\n",
       "    </tr>\n",
       "  </thead>\n",
       "  <tbody>\n",
       "    <tr>\n",
       "      <th>570</th>\n",
       "      <td>ROBLOX</td>\n",
       "      <td>9</td>\n",
       "    </tr>\n",
       "    <tr>\n",
       "      <th>102</th>\n",
       "      <td>CBS Sports App - Scores, News, Stats &amp; Watch Live</td>\n",
       "      <td>8</td>\n",
       "    </tr>\n",
       "    <tr>\n",
       "      <th>211</th>\n",
       "      <td>Duolingo: Learn Languages Free</td>\n",
       "      <td>7</td>\n",
       "    </tr>\n",
       "    <tr>\n",
       "      <th>218</th>\n",
       "      <td>ESPN</td>\n",
       "      <td>7</td>\n",
       "    </tr>\n",
       "    <tr>\n",
       "      <th>6</th>\n",
       "      <td>8 Ball Pool</td>\n",
       "      <td>7</td>\n",
       "    </tr>\n",
       "    <tr>\n",
       "      <th>...</th>\n",
       "      <td>...</td>\n",
       "      <td>...</td>\n",
       "    </tr>\n",
       "    <tr>\n",
       "      <th>301</th>\n",
       "      <td>Golfshot: Golf GPS + Tee Times</td>\n",
       "      <td>2</td>\n",
       "    </tr>\n",
       "    <tr>\n",
       "      <th>302</th>\n",
       "      <td>Google</td>\n",
       "      <td>2</td>\n",
       "    </tr>\n",
       "    <tr>\n",
       "      <th>305</th>\n",
       "      <td>Google Analytics</td>\n",
       "      <td>2</td>\n",
       "    </tr>\n",
       "    <tr>\n",
       "      <th>311</th>\n",
       "      <td>Google Duo - High Quality Video Calls</td>\n",
       "      <td>2</td>\n",
       "    </tr>\n",
       "    <tr>\n",
       "      <th>797</th>\n",
       "      <td>wetter.com - Weather and Radar</td>\n",
       "      <td>2</td>\n",
       "    </tr>\n",
       "  </tbody>\n",
       "</table>\n",
       "<p>798 rows × 2 columns</p>\n",
       "</div>"
      ],
      "text/plain": [
       "                                                   App  Count\n",
       "570                                             ROBLOX      9\n",
       "102  CBS Sports App - Scores, News, Stats & Watch Live      8\n",
       "211                     Duolingo: Learn Languages Free      7\n",
       "218                                               ESPN      7\n",
       "6                                          8 Ball Pool      7\n",
       "..                                                 ...    ...\n",
       "301                     Golfshot: Golf GPS + Tee Times      2\n",
       "302                                             Google      2\n",
       "305                                   Google Analytics      2\n",
       "311              Google Duo - High Quality Video Calls      2\n",
       "797                     wetter.com - Weather and Radar      2\n",
       "\n",
       "[798 rows x 2 columns]"
      ]
     },
     "execution_count": 1481,
     "metadata": {},
     "output_type": "execute_result"
    }
   ],
   "source": [
    "pd.DataFrame(apps.groupby('App').App.count().loc[apps.groupby('App').App.count() > 1])\\\n",
    "    .rename(columns={'App': 'Count'}).reset_index().sort_values(by='Count', ascending=False)"
   ]
  },
  {
   "cell_type": "markdown",
   "id": "978b8268",
   "metadata": {},
   "source": [
    "798 приложений появляются больше одного раза"
   ]
  },
  {
   "cell_type": "markdown",
   "id": "093085b0",
   "metadata": {},
   "source": [
    "### Удаление дубликатов"
   ]
  },
  {
   "cell_type": "code",
   "execution_count": 1482,
   "id": "cb6c0eb7",
   "metadata": {},
   "outputs": [
    {
     "data": {
      "text/html": [
       "<div>\n",
       "<style scoped>\n",
       "    .dataframe tbody tr th:only-of-type {\n",
       "        vertical-align: middle;\n",
       "    }\n",
       "\n",
       "    .dataframe tbody tr th {\n",
       "        vertical-align: top;\n",
       "    }\n",
       "\n",
       "    .dataframe thead th {\n",
       "        text-align: right;\n",
       "    }\n",
       "</style>\n",
       "<table border=\"1\" class=\"dataframe\">\n",
       "  <thead>\n",
       "    <tr style=\"text-align: right;\">\n",
       "      <th></th>\n",
       "      <th>App</th>\n",
       "      <th>Category</th>\n",
       "      <th>Rating</th>\n",
       "      <th>Reviews</th>\n",
       "      <th>Size</th>\n",
       "      <th>Installs</th>\n",
       "      <th>Type</th>\n",
       "      <th>Price</th>\n",
       "      <th>Content Rating</th>\n",
       "      <th>Genres</th>\n",
       "      <th>Last Updated</th>\n",
       "      <th>Current Ver</th>\n",
       "      <th>Android Ver</th>\n",
       "    </tr>\n",
       "  </thead>\n",
       "  <tbody>\n",
       "    <tr>\n",
       "      <th>1653</th>\n",
       "      <td>ROBLOX</td>\n",
       "      <td>GAME</td>\n",
       "      <td>4.5</td>\n",
       "      <td>4447388</td>\n",
       "      <td>67M</td>\n",
       "      <td>100,000,000+</td>\n",
       "      <td>Free</td>\n",
       "      <td>0</td>\n",
       "      <td>Everyone 10+</td>\n",
       "      <td>Adventure;Action &amp; Adventure</td>\n",
       "      <td>July 31, 2018</td>\n",
       "      <td>2.347.225742</td>\n",
       "      <td>4.1 and up</td>\n",
       "    </tr>\n",
       "    <tr>\n",
       "      <th>1701</th>\n",
       "      <td>ROBLOX</td>\n",
       "      <td>GAME</td>\n",
       "      <td>4.5</td>\n",
       "      <td>4447346</td>\n",
       "      <td>67M</td>\n",
       "      <td>100,000,000+</td>\n",
       "      <td>Free</td>\n",
       "      <td>0</td>\n",
       "      <td>Everyone 10+</td>\n",
       "      <td>Adventure;Action &amp; Adventure</td>\n",
       "      <td>July 31, 2018</td>\n",
       "      <td>2.347.225742</td>\n",
       "      <td>4.1 and up</td>\n",
       "    </tr>\n",
       "    <tr>\n",
       "      <th>1748</th>\n",
       "      <td>ROBLOX</td>\n",
       "      <td>GAME</td>\n",
       "      <td>4.5</td>\n",
       "      <td>4448791</td>\n",
       "      <td>67M</td>\n",
       "      <td>100,000,000+</td>\n",
       "      <td>Free</td>\n",
       "      <td>0</td>\n",
       "      <td>Everyone 10+</td>\n",
       "      <td>Adventure;Action &amp; Adventure</td>\n",
       "      <td>July 31, 2018</td>\n",
       "      <td>2.347.225742</td>\n",
       "      <td>4.1 and up</td>\n",
       "    </tr>\n",
       "    <tr>\n",
       "      <th>1841</th>\n",
       "      <td>ROBLOX</td>\n",
       "      <td>GAME</td>\n",
       "      <td>4.5</td>\n",
       "      <td>4449882</td>\n",
       "      <td>67M</td>\n",
       "      <td>100,000,000+</td>\n",
       "      <td>Free</td>\n",
       "      <td>0</td>\n",
       "      <td>Everyone 10+</td>\n",
       "      <td>Adventure;Action &amp; Adventure</td>\n",
       "      <td>July 31, 2018</td>\n",
       "      <td>2.347.225742</td>\n",
       "      <td>4.1 and up</td>\n",
       "    </tr>\n",
       "    <tr>\n",
       "      <th>1870</th>\n",
       "      <td>ROBLOX</td>\n",
       "      <td>GAME</td>\n",
       "      <td>4.5</td>\n",
       "      <td>4449910</td>\n",
       "      <td>67M</td>\n",
       "      <td>100,000,000+</td>\n",
       "      <td>Free</td>\n",
       "      <td>0</td>\n",
       "      <td>Everyone 10+</td>\n",
       "      <td>Adventure;Action &amp; Adventure</td>\n",
       "      <td>July 31, 2018</td>\n",
       "      <td>2.347.225742</td>\n",
       "      <td>4.1 and up</td>\n",
       "    </tr>\n",
       "    <tr>\n",
       "      <th>2016</th>\n",
       "      <td>ROBLOX</td>\n",
       "      <td>FAMILY</td>\n",
       "      <td>4.5</td>\n",
       "      <td>4449910</td>\n",
       "      <td>67M</td>\n",
       "      <td>100,000,000+</td>\n",
       "      <td>Free</td>\n",
       "      <td>0</td>\n",
       "      <td>Everyone 10+</td>\n",
       "      <td>Adventure;Action &amp; Adventure</td>\n",
       "      <td>July 31, 2018</td>\n",
       "      <td>2.347.225742</td>\n",
       "      <td>4.1 and up</td>\n",
       "    </tr>\n",
       "    <tr>\n",
       "      <th>2088</th>\n",
       "      <td>ROBLOX</td>\n",
       "      <td>FAMILY</td>\n",
       "      <td>4.5</td>\n",
       "      <td>4450855</td>\n",
       "      <td>67M</td>\n",
       "      <td>100,000,000+</td>\n",
       "      <td>Free</td>\n",
       "      <td>0</td>\n",
       "      <td>Everyone 10+</td>\n",
       "      <td>Adventure;Action &amp; Adventure</td>\n",
       "      <td>July 31, 2018</td>\n",
       "      <td>2.347.225742</td>\n",
       "      <td>4.1 and up</td>\n",
       "    </tr>\n",
       "    <tr>\n",
       "      <th>2206</th>\n",
       "      <td>ROBLOX</td>\n",
       "      <td>FAMILY</td>\n",
       "      <td>4.5</td>\n",
       "      <td>4450890</td>\n",
       "      <td>67M</td>\n",
       "      <td>100,000,000+</td>\n",
       "      <td>Free</td>\n",
       "      <td>0</td>\n",
       "      <td>Everyone 10+</td>\n",
       "      <td>Adventure;Action &amp; Adventure</td>\n",
       "      <td>July 31, 2018</td>\n",
       "      <td>2.347.225742</td>\n",
       "      <td>4.1 and up</td>\n",
       "    </tr>\n",
       "    <tr>\n",
       "      <th>4527</th>\n",
       "      <td>ROBLOX</td>\n",
       "      <td>FAMILY</td>\n",
       "      <td>4.5</td>\n",
       "      <td>4443407</td>\n",
       "      <td>67M</td>\n",
       "      <td>100,000,000+</td>\n",
       "      <td>Free</td>\n",
       "      <td>0</td>\n",
       "      <td>Everyone 10+</td>\n",
       "      <td>Adventure;Action &amp; Adventure</td>\n",
       "      <td>July 31, 2018</td>\n",
       "      <td>2.347.225742</td>\n",
       "      <td>4.1 and up</td>\n",
       "    </tr>\n",
       "  </tbody>\n",
       "</table>\n",
       "</div>"
      ],
      "text/plain": [
       "         App Category  Rating  Reviews Size      Installs  Type Price  \\\n",
       "1653  ROBLOX     GAME     4.5  4447388  67M  100,000,000+  Free     0   \n",
       "1701  ROBLOX     GAME     4.5  4447346  67M  100,000,000+  Free     0   \n",
       "1748  ROBLOX     GAME     4.5  4448791  67M  100,000,000+  Free     0   \n",
       "1841  ROBLOX     GAME     4.5  4449882  67M  100,000,000+  Free     0   \n",
       "1870  ROBLOX     GAME     4.5  4449910  67M  100,000,000+  Free     0   \n",
       "2016  ROBLOX   FAMILY     4.5  4449910  67M  100,000,000+  Free     0   \n",
       "2088  ROBLOX   FAMILY     4.5  4450855  67M  100,000,000+  Free     0   \n",
       "2206  ROBLOX   FAMILY     4.5  4450890  67M  100,000,000+  Free     0   \n",
       "4527  ROBLOX   FAMILY     4.5  4443407  67M  100,000,000+  Free     0   \n",
       "\n",
       "     Content Rating                        Genres   Last Updated  \\\n",
       "1653   Everyone 10+  Adventure;Action & Adventure  July 31, 2018   \n",
       "1701   Everyone 10+  Adventure;Action & Adventure  July 31, 2018   \n",
       "1748   Everyone 10+  Adventure;Action & Adventure  July 31, 2018   \n",
       "1841   Everyone 10+  Adventure;Action & Adventure  July 31, 2018   \n",
       "1870   Everyone 10+  Adventure;Action & Adventure  July 31, 2018   \n",
       "2016   Everyone 10+  Adventure;Action & Adventure  July 31, 2018   \n",
       "2088   Everyone 10+  Adventure;Action & Adventure  July 31, 2018   \n",
       "2206   Everyone 10+  Adventure;Action & Adventure  July 31, 2018   \n",
       "4527   Everyone 10+  Adventure;Action & Adventure  July 31, 2018   \n",
       "\n",
       "       Current Ver Android Ver  \n",
       "1653  2.347.225742  4.1 and up  \n",
       "1701  2.347.225742  4.1 and up  \n",
       "1748  2.347.225742  4.1 and up  \n",
       "1841  2.347.225742  4.1 and up  \n",
       "1870  2.347.225742  4.1 and up  \n",
       "2016  2.347.225742  4.1 and up  \n",
       "2088  2.347.225742  4.1 and up  \n",
       "2206  2.347.225742  4.1 and up  \n",
       "4527  2.347.225742  4.1 and up  "
      ]
     },
     "execution_count": 1482,
     "metadata": {},
     "output_type": "execute_result"
    }
   ],
   "source": [
    "apps[apps.App == 'ROBLOX']"
   ]
  },
  {
   "cell_type": "code",
   "execution_count": 1483,
   "id": "51aa22b9",
   "metadata": {},
   "outputs": [
    {
     "data": {
      "text/html": [
       "<div>\n",
       "<style scoped>\n",
       "    .dataframe tbody tr th:only-of-type {\n",
       "        vertical-align: middle;\n",
       "    }\n",
       "\n",
       "    .dataframe tbody tr th {\n",
       "        vertical-align: top;\n",
       "    }\n",
       "\n",
       "    .dataframe thead th {\n",
       "        text-align: right;\n",
       "    }\n",
       "</style>\n",
       "<table border=\"1\" class=\"dataframe\">\n",
       "  <thead>\n",
       "    <tr style=\"text-align: right;\">\n",
       "      <th></th>\n",
       "      <th>App</th>\n",
       "      <th>Category</th>\n",
       "      <th>Rating</th>\n",
       "      <th>Reviews</th>\n",
       "      <th>Size</th>\n",
       "      <th>Installs</th>\n",
       "      <th>Type</th>\n",
       "      <th>Price</th>\n",
       "      <th>Content Rating</th>\n",
       "      <th>Genres</th>\n",
       "      <th>Last Updated</th>\n",
       "      <th>Current Ver</th>\n",
       "      <th>Android Ver</th>\n",
       "    </tr>\n",
       "  </thead>\n",
       "  <tbody>\n",
       "    <tr>\n",
       "      <th>3234</th>\n",
       "      <td>Google</td>\n",
       "      <td>TOOLS</td>\n",
       "      <td>4.4</td>\n",
       "      <td>8033493</td>\n",
       "      <td>Varies with device</td>\n",
       "      <td>1,000,000,000+</td>\n",
       "      <td>Free</td>\n",
       "      <td>0</td>\n",
       "      <td>Everyone</td>\n",
       "      <td>Tools</td>\n",
       "      <td>August 3, 2018</td>\n",
       "      <td>Varies with device</td>\n",
       "      <td>Varies with device</td>\n",
       "    </tr>\n",
       "    <tr>\n",
       "      <th>4150</th>\n",
       "      <td>Google</td>\n",
       "      <td>TOOLS</td>\n",
       "      <td>4.4</td>\n",
       "      <td>8021623</td>\n",
       "      <td>Varies with device</td>\n",
       "      <td>1,000,000,000+</td>\n",
       "      <td>Free</td>\n",
       "      <td>0</td>\n",
       "      <td>Everyone</td>\n",
       "      <td>Tools</td>\n",
       "      <td>August 3, 2018</td>\n",
       "      <td>Varies with device</td>\n",
       "      <td>Varies with device</td>\n",
       "    </tr>\n",
       "  </tbody>\n",
       "</table>\n",
       "</div>"
      ],
      "text/plain": [
       "         App Category  Rating  Reviews                Size        Installs  \\\n",
       "3234  Google    TOOLS     4.4  8033493  Varies with device  1,000,000,000+   \n",
       "4150  Google    TOOLS     4.4  8021623  Varies with device  1,000,000,000+   \n",
       "\n",
       "      Type Price Content Rating Genres    Last Updated         Current Ver  \\\n",
       "3234  Free     0       Everyone  Tools  August 3, 2018  Varies with device   \n",
       "4150  Free     0       Everyone  Tools  August 3, 2018  Varies with device   \n",
       "\n",
       "             Android Ver  \n",
       "3234  Varies with device  \n",
       "4150  Varies with device  "
      ]
     },
     "execution_count": 1483,
     "metadata": {},
     "output_type": "execute_result"
    }
   ],
   "source": [
    "apps[apps.App == 'Google']"
   ]
  },
  {
   "cell_type": "markdown",
   "id": "3a7f7801",
   "metadata": {},
   "source": [
    "Дубликаты приложений отличаются только количеством отзывов, и только на небольшое количество. Поэтому я удалю дубликаты, оставив версию с наибольшим количеством отзывов"
   ]
  },
  {
   "cell_type": "code",
   "execution_count": 1484,
   "id": "447ec6e8",
   "metadata": {},
   "outputs": [],
   "source": [
    "apps.drop_duplicates(subset=['App'], keep='first', inplace=True)"
   ]
  },
  {
   "cell_type": "code",
   "execution_count": 1485,
   "id": "5316a460",
   "metadata": {},
   "outputs": [
    {
     "data": {
      "text/html": [
       "<div>\n",
       "<style scoped>\n",
       "    .dataframe tbody tr th:only-of-type {\n",
       "        vertical-align: middle;\n",
       "    }\n",
       "\n",
       "    .dataframe tbody tr th {\n",
       "        vertical-align: top;\n",
       "    }\n",
       "\n",
       "    .dataframe thead th {\n",
       "        text-align: right;\n",
       "    }\n",
       "</style>\n",
       "<table border=\"1\" class=\"dataframe\">\n",
       "  <thead>\n",
       "    <tr style=\"text-align: right;\">\n",
       "      <th></th>\n",
       "      <th>App</th>\n",
       "      <th>Category</th>\n",
       "      <th>Rating</th>\n",
       "      <th>Reviews</th>\n",
       "      <th>Size</th>\n",
       "      <th>Installs</th>\n",
       "      <th>Type</th>\n",
       "      <th>Price</th>\n",
       "      <th>Content Rating</th>\n",
       "      <th>Genres</th>\n",
       "      <th>Last Updated</th>\n",
       "      <th>Current Ver</th>\n",
       "      <th>Android Ver</th>\n",
       "    </tr>\n",
       "  </thead>\n",
       "  <tbody>\n",
       "    <tr>\n",
       "      <th>1653</th>\n",
       "      <td>ROBLOX</td>\n",
       "      <td>GAME</td>\n",
       "      <td>4.5</td>\n",
       "      <td>4447388</td>\n",
       "      <td>67M</td>\n",
       "      <td>100,000,000+</td>\n",
       "      <td>Free</td>\n",
       "      <td>0</td>\n",
       "      <td>Everyone 10+</td>\n",
       "      <td>Adventure;Action &amp; Adventure</td>\n",
       "      <td>July 31, 2018</td>\n",
       "      <td>2.347.225742</td>\n",
       "      <td>4.1 and up</td>\n",
       "    </tr>\n",
       "  </tbody>\n",
       "</table>\n",
       "</div>"
      ],
      "text/plain": [
       "         App Category  Rating  Reviews Size      Installs  Type Price  \\\n",
       "1653  ROBLOX     GAME     4.5  4447388  67M  100,000,000+  Free     0   \n",
       "\n",
       "     Content Rating                        Genres   Last Updated  \\\n",
       "1653   Everyone 10+  Adventure;Action & Adventure  July 31, 2018   \n",
       "\n",
       "       Current Ver Android Ver  \n",
       "1653  2.347.225742  4.1 and up  "
      ]
     },
     "execution_count": 1485,
     "metadata": {},
     "output_type": "execute_result"
    }
   ],
   "source": [
    "apps[apps.App == 'ROBLOX']"
   ]
  },
  {
   "cell_type": "code",
   "execution_count": 1486,
   "id": "6bfd1802",
   "metadata": {},
   "outputs": [
    {
     "data": {
      "text/plain": [
       "count                                               9660\n",
       "unique                                              9660\n",
       "top       Photo Editor & Candy Camera & Grid & ScrapBook\n",
       "freq                                                   1\n",
       "Name: App, dtype: object"
      ]
     },
     "execution_count": 1486,
     "metadata": {},
     "output_type": "execute_result"
    }
   ],
   "source": [
    "apps.App.describe()"
   ]
  },
  {
   "cell_type": "code",
   "execution_count": 1487,
   "id": "66e27bd4",
   "metadata": {},
   "outputs": [
    {
     "data": {
      "text/plain": [
       "count           9657\n",
       "unique            33\n",
       "top       4.1 and up\n",
       "freq            2202\n",
       "Name: Android Ver, dtype: object"
      ]
     },
     "execution_count": 1487,
     "metadata": {},
     "output_type": "execute_result"
    }
   ],
   "source": [
    "apps['Android Ver'].describe()"
   ]
  },
  {
   "cell_type": "markdown",
   "id": "bd3b63b1",
   "metadata": {},
   "source": [
    "Удалим признаки \"Current Ver\", \"Last Updated\" и \"Android Ver\". Версия приложения и дата последнего обновления по большей части бесполезны, как и версия андроида"
   ]
  },
  {
   "cell_type": "code",
   "execution_count": 1488,
   "id": "a6496a07",
   "metadata": {},
   "outputs": [],
   "source": [
    "apps.drop(columns=['Current Ver', 'Android Ver', 'Last Updated'], inplace=True)"
   ]
  },
  {
   "cell_type": "markdown",
   "id": "148e99c7",
   "metadata": {},
   "source": [
    "Мы не знаем содержание отзывов, только их количество. Вряд ли с таким количеством информации получится сделать адекватных вывод о взаимосвязи отзывов с другими переменными. Поэтому столбец Reviews удалим"
   ]
  },
  {
   "cell_type": "code",
   "execution_count": 1489,
   "id": "a3a61998",
   "metadata": {},
   "outputs": [],
   "source": [
    "apps.drop(columns=['Reviews'], inplace=True)"
   ]
  },
  {
   "cell_type": "code",
   "execution_count": 1490,
   "id": "e3b5e9b4",
   "metadata": {},
   "outputs": [
    {
     "name": "stdout",
     "output_type": "stream",
     "text": [
      "<class 'pandas.core.frame.DataFrame'>\n",
      "Int64Index: 9660 entries, 0 to 10840\n",
      "Data columns (total 9 columns):\n",
      " #   Column          Non-Null Count  Dtype  \n",
      "---  ------          --------------  -----  \n",
      " 0   App             9660 non-null   object \n",
      " 1   Category        9660 non-null   object \n",
      " 2   Rating          8197 non-null   float64\n",
      " 3   Size            9660 non-null   object \n",
      " 4   Installs        9660 non-null   object \n",
      " 5   Type            9659 non-null   object \n",
      " 6   Price           9660 non-null   object \n",
      " 7   Content Rating  9659 non-null   object \n",
      " 8   Genres          9660 non-null   object \n",
      "dtypes: float64(1), object(8)\n",
      "memory usage: 754.7+ KB\n"
     ]
    }
   ],
   "source": [
    "apps.info()"
   ]
  },
  {
   "cell_type": "markdown",
   "id": "9aa335c4",
   "metadata": {},
   "source": [
    "Rating, Type и Content Rating имеют null значения"
   ]
  },
  {
   "cell_type": "markdown",
   "id": "2491c709",
   "metadata": {},
   "source": [
    "### Избавляемся от Null значений"
   ]
  },
  {
   "cell_type": "code",
   "execution_count": 1491,
   "id": "75bacc7f",
   "metadata": {},
   "outputs": [
    {
     "data": {
      "text/plain": [
       "1463"
      ]
     },
     "execution_count": 1491,
     "metadata": {},
     "output_type": "execute_result"
    }
   ],
   "source": [
    "apps.Rating.isnull().sum()"
   ]
  },
  {
   "cell_type": "code",
   "execution_count": 1492,
   "id": "3752dd58",
   "metadata": {
    "scrolled": false
   },
   "outputs": [
    {
     "data": {
      "text/html": [
       "<div>\n",
       "<style scoped>\n",
       "    .dataframe tbody tr th:only-of-type {\n",
       "        vertical-align: middle;\n",
       "    }\n",
       "\n",
       "    .dataframe tbody tr th {\n",
       "        vertical-align: top;\n",
       "    }\n",
       "\n",
       "    .dataframe thead th {\n",
       "        text-align: right;\n",
       "    }\n",
       "</style>\n",
       "<table border=\"1\" class=\"dataframe\">\n",
       "  <thead>\n",
       "    <tr style=\"text-align: right;\">\n",
       "      <th></th>\n",
       "      <th>App</th>\n",
       "      <th>Category</th>\n",
       "      <th>Rating</th>\n",
       "      <th>Size</th>\n",
       "      <th>Installs</th>\n",
       "      <th>Type</th>\n",
       "      <th>Price</th>\n",
       "      <th>Content Rating</th>\n",
       "      <th>Genres</th>\n",
       "    </tr>\n",
       "  </thead>\n",
       "  <tbody>\n",
       "    <tr>\n",
       "      <th>23</th>\n",
       "      <td>Mcqueen Coloring pages</td>\n",
       "      <td>ART_AND_DESIGN</td>\n",
       "      <td>NaN</td>\n",
       "      <td>7.0M</td>\n",
       "      <td>100,000+</td>\n",
       "      <td>Free</td>\n",
       "      <td>0</td>\n",
       "      <td>Everyone</td>\n",
       "      <td>Art &amp; Design;Action &amp; Adventure</td>\n",
       "    </tr>\n",
       "    <tr>\n",
       "      <th>113</th>\n",
       "      <td>Wrinkles and rejuvenation</td>\n",
       "      <td>BEAUTY</td>\n",
       "      <td>NaN</td>\n",
       "      <td>5.7M</td>\n",
       "      <td>100,000+</td>\n",
       "      <td>Free</td>\n",
       "      <td>0</td>\n",
       "      <td>Everyone 10+</td>\n",
       "      <td>Beauty</td>\n",
       "    </tr>\n",
       "    <tr>\n",
       "      <th>123</th>\n",
       "      <td>Manicure - nail design</td>\n",
       "      <td>BEAUTY</td>\n",
       "      <td>NaN</td>\n",
       "      <td>3.7M</td>\n",
       "      <td>50,000+</td>\n",
       "      <td>Free</td>\n",
       "      <td>0</td>\n",
       "      <td>Everyone</td>\n",
       "      <td>Beauty</td>\n",
       "    </tr>\n",
       "    <tr>\n",
       "      <th>126</th>\n",
       "      <td>Skin Care and Natural Beauty</td>\n",
       "      <td>BEAUTY</td>\n",
       "      <td>NaN</td>\n",
       "      <td>7.4M</td>\n",
       "      <td>100,000+</td>\n",
       "      <td>Free</td>\n",
       "      <td>0</td>\n",
       "      <td>Teen</td>\n",
       "      <td>Beauty</td>\n",
       "    </tr>\n",
       "    <tr>\n",
       "      <th>129</th>\n",
       "      <td>Secrets of beauty, youth and health</td>\n",
       "      <td>BEAUTY</td>\n",
       "      <td>NaN</td>\n",
       "      <td>2.9M</td>\n",
       "      <td>10,000+</td>\n",
       "      <td>Free</td>\n",
       "      <td>0</td>\n",
       "      <td>Mature 17+</td>\n",
       "      <td>Beauty</td>\n",
       "    </tr>\n",
       "    <tr>\n",
       "      <th>...</th>\n",
       "      <td>...</td>\n",
       "      <td>...</td>\n",
       "      <td>...</td>\n",
       "      <td>...</td>\n",
       "      <td>...</td>\n",
       "      <td>...</td>\n",
       "      <td>...</td>\n",
       "      <td>...</td>\n",
       "      <td>...</td>\n",
       "    </tr>\n",
       "    <tr>\n",
       "      <th>10824</th>\n",
       "      <td>Cardio-FR</td>\n",
       "      <td>MEDICAL</td>\n",
       "      <td>NaN</td>\n",
       "      <td>82M</td>\n",
       "      <td>10,000+</td>\n",
       "      <td>Free</td>\n",
       "      <td>0</td>\n",
       "      <td>Everyone</td>\n",
       "      <td>Medical</td>\n",
       "    </tr>\n",
       "    <tr>\n",
       "      <th>10825</th>\n",
       "      <td>Naruto &amp; Boruto FR</td>\n",
       "      <td>SOCIAL</td>\n",
       "      <td>NaN</td>\n",
       "      <td>7.7M</td>\n",
       "      <td>100+</td>\n",
       "      <td>Free</td>\n",
       "      <td>0</td>\n",
       "      <td>Teen</td>\n",
       "      <td>Social</td>\n",
       "    </tr>\n",
       "    <tr>\n",
       "      <th>10831</th>\n",
       "      <td>payermonstationnement.fr</td>\n",
       "      <td>MAPS_AND_NAVIGATION</td>\n",
       "      <td>NaN</td>\n",
       "      <td>9.8M</td>\n",
       "      <td>5,000+</td>\n",
       "      <td>Free</td>\n",
       "      <td>0</td>\n",
       "      <td>Everyone</td>\n",
       "      <td>Maps &amp; Navigation</td>\n",
       "    </tr>\n",
       "    <tr>\n",
       "      <th>10835</th>\n",
       "      <td>FR Forms</td>\n",
       "      <td>BUSINESS</td>\n",
       "      <td>NaN</td>\n",
       "      <td>9.6M</td>\n",
       "      <td>10+</td>\n",
       "      <td>Free</td>\n",
       "      <td>0</td>\n",
       "      <td>Everyone</td>\n",
       "      <td>Business</td>\n",
       "    </tr>\n",
       "    <tr>\n",
       "      <th>10838</th>\n",
       "      <td>Parkinson Exercices FR</td>\n",
       "      <td>MEDICAL</td>\n",
       "      <td>NaN</td>\n",
       "      <td>9.5M</td>\n",
       "      <td>1,000+</td>\n",
       "      <td>Free</td>\n",
       "      <td>0</td>\n",
       "      <td>Everyone</td>\n",
       "      <td>Medical</td>\n",
       "    </tr>\n",
       "  </tbody>\n",
       "</table>\n",
       "<p>1463 rows × 9 columns</p>\n",
       "</div>"
      ],
      "text/plain": [
       "                                       App             Category  Rating  Size  \\\n",
       "23                  Mcqueen Coloring pages       ART_AND_DESIGN     NaN  7.0M   \n",
       "113              Wrinkles and rejuvenation               BEAUTY     NaN  5.7M   \n",
       "123                 Manicure - nail design               BEAUTY     NaN  3.7M   \n",
       "126           Skin Care and Natural Beauty               BEAUTY     NaN  7.4M   \n",
       "129    Secrets of beauty, youth and health               BEAUTY     NaN  2.9M   \n",
       "...                                    ...                  ...     ...   ...   \n",
       "10824                            Cardio-FR              MEDICAL     NaN   82M   \n",
       "10825                   Naruto & Boruto FR               SOCIAL     NaN  7.7M   \n",
       "10831             payermonstationnement.fr  MAPS_AND_NAVIGATION     NaN  9.8M   \n",
       "10835                             FR Forms             BUSINESS     NaN  9.6M   \n",
       "10838               Parkinson Exercices FR              MEDICAL     NaN  9.5M   \n",
       "\n",
       "       Installs  Type Price Content Rating                           Genres  \n",
       "23     100,000+  Free     0       Everyone  Art & Design;Action & Adventure  \n",
       "113    100,000+  Free     0   Everyone 10+                           Beauty  \n",
       "123     50,000+  Free     0       Everyone                           Beauty  \n",
       "126    100,000+  Free     0           Teen                           Beauty  \n",
       "129     10,000+  Free     0     Mature 17+                           Beauty  \n",
       "...         ...   ...   ...            ...                              ...  \n",
       "10824   10,000+  Free     0       Everyone                          Medical  \n",
       "10825      100+  Free     0           Teen                           Social  \n",
       "10831    5,000+  Free     0       Everyone                Maps & Navigation  \n",
       "10835       10+  Free     0       Everyone                         Business  \n",
       "10838    1,000+  Free     0       Everyone                          Medical  \n",
       "\n",
       "[1463 rows x 9 columns]"
      ]
     },
     "execution_count": 1492,
     "metadata": {},
     "output_type": "execute_result"
    }
   ],
   "source": [
    "apps[apps.Rating.isnull()]"
   ]
  },
  {
   "cell_type": "code",
   "execution_count": 1493,
   "id": "b7661ccd",
   "metadata": {},
   "outputs": [],
   "source": [
    "apps.drop(apps[apps.Rating.isnull()].index, inplace=True)"
   ]
  },
  {
   "cell_type": "code",
   "execution_count": 1494,
   "id": "eba6d5f9",
   "metadata": {},
   "outputs": [
    {
     "data": {
      "text/html": [
       "<div>\n",
       "<style scoped>\n",
       "    .dataframe tbody tr th:only-of-type {\n",
       "        vertical-align: middle;\n",
       "    }\n",
       "\n",
       "    .dataframe tbody tr th {\n",
       "        vertical-align: top;\n",
       "    }\n",
       "\n",
       "    .dataframe thead th {\n",
       "        text-align: right;\n",
       "    }\n",
       "</style>\n",
       "<table border=\"1\" class=\"dataframe\">\n",
       "  <thead>\n",
       "    <tr style=\"text-align: right;\">\n",
       "      <th></th>\n",
       "      <th>App</th>\n",
       "      <th>Category</th>\n",
       "      <th>Rating</th>\n",
       "      <th>Size</th>\n",
       "      <th>Installs</th>\n",
       "      <th>Type</th>\n",
       "      <th>Price</th>\n",
       "      <th>Content Rating</th>\n",
       "      <th>Genres</th>\n",
       "    </tr>\n",
       "  </thead>\n",
       "  <tbody>\n",
       "  </tbody>\n",
       "</table>\n",
       "</div>"
      ],
      "text/plain": [
       "Empty DataFrame\n",
       "Columns: [App, Category, Rating, Size, Installs, Type, Price, Content Rating, Genres]\n",
       "Index: []"
      ]
     },
     "execution_count": 1494,
     "metadata": {},
     "output_type": "execute_result"
    }
   ],
   "source": [
    "apps[apps.Type.isnull()]"
   ]
  },
  {
   "cell_type": "code",
   "execution_count": 1495,
   "id": "fe833910",
   "metadata": {},
   "outputs": [
    {
     "data": {
      "text/html": [
       "<div>\n",
       "<style scoped>\n",
       "    .dataframe tbody tr th:only-of-type {\n",
       "        vertical-align: middle;\n",
       "    }\n",
       "\n",
       "    .dataframe tbody tr th {\n",
       "        vertical-align: top;\n",
       "    }\n",
       "\n",
       "    .dataframe thead th {\n",
       "        text-align: right;\n",
       "    }\n",
       "</style>\n",
       "<table border=\"1\" class=\"dataframe\">\n",
       "  <thead>\n",
       "    <tr style=\"text-align: right;\">\n",
       "      <th></th>\n",
       "      <th>App</th>\n",
       "      <th>Category</th>\n",
       "      <th>Rating</th>\n",
       "      <th>Size</th>\n",
       "      <th>Installs</th>\n",
       "      <th>Type</th>\n",
       "      <th>Price</th>\n",
       "      <th>Content Rating</th>\n",
       "      <th>Genres</th>\n",
       "    </tr>\n",
       "  </thead>\n",
       "  <tbody>\n",
       "    <tr>\n",
       "      <th>10472</th>\n",
       "      <td>Life Made WI-Fi Touchscreen Photo Frame</td>\n",
       "      <td>1.9</td>\n",
       "      <td>19.0</td>\n",
       "      <td>1,000+</td>\n",
       "      <td>Free</td>\n",
       "      <td>0</td>\n",
       "      <td>Everyone</td>\n",
       "      <td>NaN</td>\n",
       "      <td>February 11, 2018</td>\n",
       "    </tr>\n",
       "  </tbody>\n",
       "</table>\n",
       "</div>"
      ],
      "text/plain": [
       "                                           App Category  Rating    Size  \\\n",
       "10472  Life Made WI-Fi Touchscreen Photo Frame      1.9    19.0  1,000+   \n",
       "\n",
       "      Installs Type     Price Content Rating             Genres  \n",
       "10472     Free    0  Everyone            NaN  February 11, 2018  "
      ]
     },
     "execution_count": 1495,
     "metadata": {},
     "output_type": "execute_result"
    }
   ],
   "source": [
    "apps[apps['Content Rating'].isnull()]"
   ]
  },
  {
   "cell_type": "markdown",
   "id": "286eec8a",
   "metadata": {},
   "source": [
    "Категория приложения отсутствует, а другие признаки находятся не в тех колонках. Поэтому просто удалю это приложение"
   ]
  },
  {
   "cell_type": "code",
   "execution_count": 1496,
   "id": "00cce10e",
   "metadata": {},
   "outputs": [],
   "source": [
    "apps.drop(apps.loc[apps.App == 'Life Made WI-Fi Touchscreen Photo Frame'].index, inplace=True)"
   ]
  },
  {
   "cell_type": "code",
   "execution_count": 1497,
   "id": "30816794",
   "metadata": {},
   "outputs": [
    {
     "name": "stdout",
     "output_type": "stream",
     "text": [
      "<class 'pandas.core.frame.DataFrame'>\n",
      "Int64Index: 8196 entries, 0 to 10840\n",
      "Data columns (total 9 columns):\n",
      " #   Column          Non-Null Count  Dtype  \n",
      "---  ------          --------------  -----  \n",
      " 0   App             8196 non-null   object \n",
      " 1   Category        8196 non-null   object \n",
      " 2   Rating          8196 non-null   float64\n",
      " 3   Size            8196 non-null   object \n",
      " 4   Installs        8196 non-null   object \n",
      " 5   Type            8196 non-null   object \n",
      " 6   Price           8196 non-null   object \n",
      " 7   Content Rating  8196 non-null   object \n",
      " 8   Genres          8196 non-null   object \n",
      "dtypes: float64(1), object(8)\n",
      "memory usage: 640.3+ KB\n"
     ]
    }
   ],
   "source": [
    "apps.info()"
   ]
  },
  {
   "cell_type": "markdown",
   "id": "c27ffbe1",
   "metadata": {},
   "source": [
    "### Форматируем данные"
   ]
  },
  {
   "cell_type": "code",
   "execution_count": 1498,
   "id": "69379892",
   "metadata": {},
   "outputs": [
    {
     "data": {
      "text/plain": [
       "array(['ART_AND_DESIGN', 'AUTO_AND_VEHICLES', 'BEAUTY',\n",
       "       'BOOKS_AND_REFERENCE', 'BUSINESS', 'COMICS', 'COMMUNICATION',\n",
       "       'DATING', 'EDUCATION', 'ENTERTAINMENT', 'EVENTS', 'FINANCE',\n",
       "       'FOOD_AND_DRINK', 'HEALTH_AND_FITNESS', 'HOUSE_AND_HOME',\n",
       "       'LIBRARIES_AND_DEMO', 'LIFESTYLE', 'GAME', 'FAMILY', 'MEDICAL',\n",
       "       'SOCIAL', 'SHOPPING', 'PHOTOGRAPHY', 'SPORTS', 'TRAVEL_AND_LOCAL',\n",
       "       'TOOLS', 'PERSONALIZATION', 'PRODUCTIVITY', 'PARENTING', 'WEATHER',\n",
       "       'VIDEO_PLAYERS', 'NEWS_AND_MAGAZINES', 'MAPS_AND_NAVIGATION'],\n",
       "      dtype=object)"
      ]
     },
     "execution_count": 1498,
     "metadata": {},
     "output_type": "execute_result"
    }
   ],
   "source": [
    "# Проверим категории на ошибки и опечатки\n",
    "apps.Category.unique()"
   ]
  },
  {
   "cell_type": "code",
   "execution_count": 1499,
   "id": "9eee9b2c",
   "metadata": {},
   "outputs": [
    {
     "data": {
      "text/plain": [
       "Varies with device    1169\n",
       "14M                    149\n",
       "12M                    146\n",
       "11M                    144\n",
       "13M                    143\n",
       "Name: Size, dtype: int64"
      ]
     },
     "execution_count": 1499,
     "metadata": {},
     "output_type": "execute_result"
    }
   ],
   "source": [
    "apps.Size.value_counts().head()"
   ]
  },
  {
   "cell_type": "markdown",
   "id": "c6a70025",
   "metadata": {},
   "source": [
    "Нужно сделать что-то с \"Varies from device\", а также конвертировать все значения в Мб. 'Varies' заменю средним значением"
   ]
  },
  {
   "cell_type": "code",
   "execution_count": 1500,
   "id": "68390036",
   "metadata": {},
   "outputs": [],
   "source": [
    "# Временно заменяем на NaN\n",
    "apps.loc[apps.Size == 'Varies with device', 'Size'] = 'NaN'"
   ]
  },
  {
   "cell_type": "code",
   "execution_count": 1501,
   "id": "3cf77b8e",
   "metadata": {},
   "outputs": [],
   "source": [
    "apps.Size=apps.Size.str.replace('k','e+3')\n",
    "apps.Size=apps.Size.str.replace('M','e+6')"
   ]
  },
  {
   "cell_type": "code",
   "execution_count": 1502,
   "id": "6584b11e",
   "metadata": {},
   "outputs": [
    {
     "data": {
      "text/plain": [
       "NaN       1169\n",
       "14e+6      149\n",
       "12e+6      146\n",
       "11e+6      144\n",
       "13e+6      143\n",
       "          ... \n",
       "383e+3       1\n",
       "454e+3       1\n",
       "812e+3       1\n",
       "442e+3       1\n",
       "619e+3       1\n",
       "Name: Size, Length: 414, dtype: int64"
      ]
     },
     "execution_count": 1502,
     "metadata": {},
     "output_type": "execute_result"
    }
   ],
   "source": [
    "apps.Size.value_counts()"
   ]
  },
  {
   "cell_type": "code",
   "execution_count": 1503,
   "id": "b8e7e42c",
   "metadata": {},
   "outputs": [],
   "source": [
    "apps.Size = apps.Size.apply(lambda x: float(x))"
   ]
  },
  {
   "cell_type": "code",
   "execution_count": 1504,
   "id": "0c492625",
   "metadata": {},
   "outputs": [
    {
     "data": {
      "text/plain": [
       "1169"
      ]
     },
     "execution_count": 1504,
     "metadata": {},
     "output_type": "execute_result"
    }
   ],
   "source": [
    "apps.Size.isnull().sum()"
   ]
  },
  {
   "cell_type": "code",
   "execution_count": 1505,
   "id": "ca15ba07",
   "metadata": {},
   "outputs": [],
   "source": [
    "apps['Size'].fillna(apps.groupby('Category')['Size'].transform('mean'),inplace = True)"
   ]
  },
  {
   "cell_type": "code",
   "execution_count": 1506,
   "id": "5ffd0c3d",
   "metadata": {},
   "outputs": [
    {
     "data": {
      "text/plain": [
       "0"
      ]
     },
     "execution_count": 1506,
     "metadata": {},
     "output_type": "execute_result"
    }
   ],
   "source": [
    "apps.Size.isnull().sum()"
   ]
  },
  {
   "cell_type": "code",
   "execution_count": 1507,
   "id": "0dc9dc8d",
   "metadata": {},
   "outputs": [
    {
     "data": {
      "text/html": [
       "<div>\n",
       "<style scoped>\n",
       "    .dataframe tbody tr th:only-of-type {\n",
       "        vertical-align: middle;\n",
       "    }\n",
       "\n",
       "    .dataframe tbody tr th {\n",
       "        vertical-align: top;\n",
       "    }\n",
       "\n",
       "    .dataframe thead th {\n",
       "        text-align: right;\n",
       "    }\n",
       "</style>\n",
       "<table border=\"1\" class=\"dataframe\">\n",
       "  <thead>\n",
       "    <tr style=\"text-align: right;\">\n",
       "      <th></th>\n",
       "      <th>App</th>\n",
       "      <th>Category</th>\n",
       "      <th>Rating</th>\n",
       "      <th>Size</th>\n",
       "      <th>Installs</th>\n",
       "      <th>Type</th>\n",
       "      <th>Price</th>\n",
       "      <th>Content Rating</th>\n",
       "      <th>Genres</th>\n",
       "    </tr>\n",
       "  </thead>\n",
       "  <tbody>\n",
       "  </tbody>\n",
       "</table>\n",
       "</div>"
      ],
      "text/plain": [
       "Empty DataFrame\n",
       "Columns: [App, Category, Rating, Size, Installs, Type, Price, Content Rating, Genres]\n",
       "Index: []"
      ]
     },
     "execution_count": 1507,
     "metadata": {},
     "output_type": "execute_result"
    }
   ],
   "source": [
    "apps[apps.Size == 0]"
   ]
  },
  {
   "cell_type": "code",
   "execution_count": 1508,
   "id": "20ccec01",
   "metadata": {},
   "outputs": [],
   "source": [
    "apps.Size = apps.Size.apply(lambda x: round(x / 1000000, 2))"
   ]
  },
  {
   "cell_type": "code",
   "execution_count": 1509,
   "id": "43c562f7",
   "metadata": {},
   "outputs": [],
   "source": [
    "apps.rename(columns={'Size': 'Size_Mb'}, inplace=True)"
   ]
  },
  {
   "cell_type": "code",
   "execution_count": 1510,
   "id": "dedbedf0",
   "metadata": {},
   "outputs": [
    {
     "data": {
      "text/html": [
       "<div>\n",
       "<style scoped>\n",
       "    .dataframe tbody tr th:only-of-type {\n",
       "        vertical-align: middle;\n",
       "    }\n",
       "\n",
       "    .dataframe tbody tr th {\n",
       "        vertical-align: top;\n",
       "    }\n",
       "\n",
       "    .dataframe thead th {\n",
       "        text-align: right;\n",
       "    }\n",
       "</style>\n",
       "<table border=\"1\" class=\"dataframe\">\n",
       "  <thead>\n",
       "    <tr style=\"text-align: right;\">\n",
       "      <th></th>\n",
       "      <th>App</th>\n",
       "      <th>Category</th>\n",
       "      <th>Rating</th>\n",
       "      <th>Size_Mb</th>\n",
       "      <th>Installs</th>\n",
       "      <th>Type</th>\n",
       "      <th>Price</th>\n",
       "      <th>Content Rating</th>\n",
       "      <th>Genres</th>\n",
       "    </tr>\n",
       "  </thead>\n",
       "  <tbody>\n",
       "    <tr>\n",
       "      <th>0</th>\n",
       "      <td>Photo Editor &amp; Candy Camera &amp; Grid &amp; ScrapBook</td>\n",
       "      <td>ART_AND_DESIGN</td>\n",
       "      <td>4.1</td>\n",
       "      <td>19.0</td>\n",
       "      <td>10,000+</td>\n",
       "      <td>Free</td>\n",
       "      <td>0</td>\n",
       "      <td>Everyone</td>\n",
       "      <td>Art &amp; Design</td>\n",
       "    </tr>\n",
       "    <tr>\n",
       "      <th>1</th>\n",
       "      <td>Coloring book moana</td>\n",
       "      <td>ART_AND_DESIGN</td>\n",
       "      <td>3.9</td>\n",
       "      <td>14.0</td>\n",
       "      <td>500,000+</td>\n",
       "      <td>Free</td>\n",
       "      <td>0</td>\n",
       "      <td>Everyone</td>\n",
       "      <td>Art &amp; Design;Pretend Play</td>\n",
       "    </tr>\n",
       "    <tr>\n",
       "      <th>2</th>\n",
       "      <td>U Launcher Lite – FREE Live Cool Themes, Hide ...</td>\n",
       "      <td>ART_AND_DESIGN</td>\n",
       "      <td>4.7</td>\n",
       "      <td>8.7</td>\n",
       "      <td>5,000,000+</td>\n",
       "      <td>Free</td>\n",
       "      <td>0</td>\n",
       "      <td>Everyone</td>\n",
       "      <td>Art &amp; Design</td>\n",
       "    </tr>\n",
       "    <tr>\n",
       "      <th>3</th>\n",
       "      <td>Sketch - Draw &amp; Paint</td>\n",
       "      <td>ART_AND_DESIGN</td>\n",
       "      <td>4.5</td>\n",
       "      <td>25.0</td>\n",
       "      <td>50,000,000+</td>\n",
       "      <td>Free</td>\n",
       "      <td>0</td>\n",
       "      <td>Teen</td>\n",
       "      <td>Art &amp; Design</td>\n",
       "    </tr>\n",
       "    <tr>\n",
       "      <th>4</th>\n",
       "      <td>Pixel Draw - Number Art Coloring Book</td>\n",
       "      <td>ART_AND_DESIGN</td>\n",
       "      <td>4.3</td>\n",
       "      <td>2.8</td>\n",
       "      <td>100,000+</td>\n",
       "      <td>Free</td>\n",
       "      <td>0</td>\n",
       "      <td>Everyone</td>\n",
       "      <td>Art &amp; Design;Creativity</td>\n",
       "    </tr>\n",
       "  </tbody>\n",
       "</table>\n",
       "</div>"
      ],
      "text/plain": [
       "                                                 App        Category  Rating  \\\n",
       "0     Photo Editor & Candy Camera & Grid & ScrapBook  ART_AND_DESIGN     4.1   \n",
       "1                                Coloring book moana  ART_AND_DESIGN     3.9   \n",
       "2  U Launcher Lite – FREE Live Cool Themes, Hide ...  ART_AND_DESIGN     4.7   \n",
       "3                              Sketch - Draw & Paint  ART_AND_DESIGN     4.5   \n",
       "4              Pixel Draw - Number Art Coloring Book  ART_AND_DESIGN     4.3   \n",
       "\n",
       "   Size_Mb     Installs  Type Price Content Rating                     Genres  \n",
       "0     19.0      10,000+  Free     0       Everyone               Art & Design  \n",
       "1     14.0     500,000+  Free     0       Everyone  Art & Design;Pretend Play  \n",
       "2      8.7   5,000,000+  Free     0       Everyone               Art & Design  \n",
       "3     25.0  50,000,000+  Free     0           Teen               Art & Design  \n",
       "4      2.8     100,000+  Free     0       Everyone    Art & Design;Creativity  "
      ]
     },
     "execution_count": 1510,
     "metadata": {},
     "output_type": "execute_result"
    }
   ],
   "source": [
    "apps.head()"
   ]
  },
  {
   "cell_type": "code",
   "execution_count": 1511,
   "id": "6a448ef3",
   "metadata": {},
   "outputs": [
    {
     "data": {
      "text/plain": [
       "1,000,000+        1415\n",
       "100,000+          1094\n",
       "10,000+            987\n",
       "10,000,000+        937\n",
       "1,000+             697\n",
       "5,000,000+         607\n",
       "500,000+           504\n",
       "50,000+            457\n",
       "5,000+             425\n",
       "100+               303\n",
       "50,000,000+        202\n",
       "500+               199\n",
       "100,000,000+       188\n",
       "10+                 69\n",
       "50+                 56\n",
       "500,000,000+        24\n",
       "1,000,000,000+      20\n",
       "5+                   9\n",
       "1+                   3\n",
       "Name: Installs, dtype: int64"
      ]
     },
     "execution_count": 1511,
     "metadata": {},
     "output_type": "execute_result"
    }
   ],
   "source": [
    "apps.Installs.value_counts()"
   ]
  },
  {
   "cell_type": "markdown",
   "id": "15a3ef1d",
   "metadata": {},
   "source": [
    "Конвертируем значения скачиваний в числовой формат"
   ]
  },
  {
   "cell_type": "code",
   "execution_count": 1512,
   "id": "36daed1a",
   "metadata": {},
   "outputs": [],
   "source": [
    "apps.Installs=apps.Installs.apply(lambda x: x.strip('+'))\n",
    "apps.Installs=apps.Installs.apply(lambda x: x.replace(',',''))"
   ]
  },
  {
   "cell_type": "code",
   "execution_count": 1513,
   "id": "490ea3e1",
   "metadata": {},
   "outputs": [],
   "source": [
    "apps.Installs=pd.to_numeric(apps.Installs)"
   ]
  },
  {
   "cell_type": "code",
   "execution_count": 1514,
   "id": "7b51feff",
   "metadata": {},
   "outputs": [
    {
     "data": {
      "text/plain": [
       "1000000       1415\n",
       "100000        1094\n",
       "10000          987\n",
       "10000000       937\n",
       "1000           697\n",
       "5000000        607\n",
       "500000         504\n",
       "50000          457\n",
       "5000           425\n",
       "100            303\n",
       "50000000       202\n",
       "500            199\n",
       "100000000      188\n",
       "10              69\n",
       "50              56\n",
       "500000000       24\n",
       "1000000000      20\n",
       "5                9\n",
       "1                3\n",
       "Name: Installs, dtype: int64"
      ]
     },
     "execution_count": 1514,
     "metadata": {},
     "output_type": "execute_result"
    }
   ],
   "source": [
    "apps.Installs.value_counts()"
   ]
  },
  {
   "cell_type": "code",
   "execution_count": 1515,
   "id": "1324eaae",
   "metadata": {},
   "outputs": [
    {
     "data": {
      "text/plain": [
       "Free    7592\n",
       "Paid     604\n",
       "Name: Type, dtype: int64"
      ]
     },
     "execution_count": 1515,
     "metadata": {},
     "output_type": "execute_result"
    }
   ],
   "source": [
    "apps.Type.value_counts()"
   ]
  },
  {
   "cell_type": "code",
   "execution_count": 1516,
   "id": "db063053",
   "metadata": {},
   "outputs": [
    {
     "data": {
      "text/plain": [
       "0          7592\n",
       "$2.99       109\n",
       "$0.99       104\n",
       "$4.99        68\n",
       "$1.99        59\n",
       "           ... \n",
       "$1.59         1\n",
       "$6.49         1\n",
       "$1.29         1\n",
       "$299.99       1\n",
       "$1.20         1\n",
       "Name: Price, Length: 73, dtype: int64"
      ]
     },
     "execution_count": 1516,
     "metadata": {},
     "output_type": "execute_result"
    }
   ],
   "source": [
    "apps.Price.value_counts()"
   ]
  },
  {
   "cell_type": "markdown",
   "id": "61f17aff",
   "metadata": {},
   "source": [
    "Конвертируем стоимость в числовой формат"
   ]
  },
  {
   "cell_type": "code",
   "execution_count": 1517,
   "id": "b65d86f6",
   "metadata": {},
   "outputs": [],
   "source": [
    "apps.Price=apps.Price.apply(lambda x: x.strip('$'))"
   ]
  },
  {
   "cell_type": "code",
   "execution_count": 1518,
   "id": "d20d82b3",
   "metadata": {},
   "outputs": [],
   "source": [
    "apps.Price=pd.to_numeric(apps.Price)"
   ]
  },
  {
   "cell_type": "markdown",
   "id": "81680320",
   "metadata": {},
   "source": [
    "Проверим, есть ли приложения типа \"Free\" с ценой > 0 и наоборот"
   ]
  },
  {
   "cell_type": "code",
   "execution_count": 1519,
   "id": "d9aed67d",
   "metadata": {},
   "outputs": [
    {
     "data": {
      "text/html": [
       "<div>\n",
       "<style scoped>\n",
       "    .dataframe tbody tr th:only-of-type {\n",
       "        vertical-align: middle;\n",
       "    }\n",
       "\n",
       "    .dataframe tbody tr th {\n",
       "        vertical-align: top;\n",
       "    }\n",
       "\n",
       "    .dataframe thead th {\n",
       "        text-align: right;\n",
       "    }\n",
       "</style>\n",
       "<table border=\"1\" class=\"dataframe\">\n",
       "  <thead>\n",
       "    <tr style=\"text-align: right;\">\n",
       "      <th></th>\n",
       "      <th>App</th>\n",
       "      <th>Category</th>\n",
       "      <th>Rating</th>\n",
       "      <th>Size_Mb</th>\n",
       "      <th>Installs</th>\n",
       "      <th>Type</th>\n",
       "      <th>Price</th>\n",
       "      <th>Content Rating</th>\n",
       "      <th>Genres</th>\n",
       "    </tr>\n",
       "  </thead>\n",
       "  <tbody>\n",
       "  </tbody>\n",
       "</table>\n",
       "</div>"
      ],
      "text/plain": [
       "Empty DataFrame\n",
       "Columns: [App, Category, Rating, Size_Mb, Installs, Type, Price, Content Rating, Genres]\n",
       "Index: []"
      ]
     },
     "execution_count": 1519,
     "metadata": {},
     "output_type": "execute_result"
    }
   ],
   "source": [
    "apps[(apps.Type == 'Free') & (apps.Price > 0)]"
   ]
  },
  {
   "cell_type": "code",
   "execution_count": 1520,
   "id": "9475f0b2",
   "metadata": {},
   "outputs": [
    {
     "data": {
      "text/html": [
       "<div>\n",
       "<style scoped>\n",
       "    .dataframe tbody tr th:only-of-type {\n",
       "        vertical-align: middle;\n",
       "    }\n",
       "\n",
       "    .dataframe tbody tr th {\n",
       "        vertical-align: top;\n",
       "    }\n",
       "\n",
       "    .dataframe thead th {\n",
       "        text-align: right;\n",
       "    }\n",
       "</style>\n",
       "<table border=\"1\" class=\"dataframe\">\n",
       "  <thead>\n",
       "    <tr style=\"text-align: right;\">\n",
       "      <th></th>\n",
       "      <th>App</th>\n",
       "      <th>Category</th>\n",
       "      <th>Rating</th>\n",
       "      <th>Size_Mb</th>\n",
       "      <th>Installs</th>\n",
       "      <th>Type</th>\n",
       "      <th>Price</th>\n",
       "      <th>Content Rating</th>\n",
       "      <th>Genres</th>\n",
       "    </tr>\n",
       "  </thead>\n",
       "  <tbody>\n",
       "  </tbody>\n",
       "</table>\n",
       "</div>"
      ],
      "text/plain": [
       "Empty DataFrame\n",
       "Columns: [App, Category, Rating, Size_Mb, Installs, Type, Price, Content Rating, Genres]\n",
       "Index: []"
      ]
     },
     "execution_count": 1520,
     "metadata": {},
     "output_type": "execute_result"
    }
   ],
   "source": [
    "apps[(apps.Type == 'Paid') & (apps.Price == 0)]"
   ]
  },
  {
   "cell_type": "code",
   "execution_count": 1521,
   "id": "f1e5c177",
   "metadata": {},
   "outputs": [
    {
     "data": {
      "text/plain": [
       "Everyone           6618\n",
       "Teen                912\n",
       "Mature 17+          357\n",
       "Everyone 10+        305\n",
       "Adults only 18+       3\n",
       "Unrated               1\n",
       "Name: Content Rating, dtype: int64"
      ]
     },
     "execution_count": 1521,
     "metadata": {},
     "output_type": "execute_result"
    }
   ],
   "source": [
    "apps['Content Rating'].value_counts()"
   ]
  },
  {
   "cell_type": "markdown",
   "id": "1b2f890f",
   "metadata": {},
   "source": [
    "Уберем пробел в названии столбца, чтобы к нему можно было в будущем обращаться через точку, и чтобы у названий столбцов сохранялся общий стиль"
   ]
  },
  {
   "cell_type": "code",
   "execution_count": 1522,
   "id": "7a47142c",
   "metadata": {},
   "outputs": [],
   "source": [
    "apps.rename(columns={'Content Rating' : 'Content_Rating'}, inplace=True)"
   ]
  },
  {
   "cell_type": "code",
   "execution_count": 1523,
   "id": "fb17d76c",
   "metadata": {},
   "outputs": [
    {
     "data": {
      "text/plain": [
       "array(['Art & Design', 'Art & Design;Pretend Play',\n",
       "       'Art & Design;Creativity', 'Auto & Vehicles', 'Beauty',\n",
       "       'Books & Reference', 'Business', 'Comics', 'Comics;Creativity',\n",
       "       'Communication', 'Dating', 'Education;Education', 'Education',\n",
       "       'Education;Creativity', 'Education;Music & Video',\n",
       "       'Education;Action & Adventure', 'Education;Pretend Play',\n",
       "       'Education;Brain Games', 'Entertainment',\n",
       "       'Entertainment;Music & Video', 'Entertainment;Brain Games',\n",
       "       'Entertainment;Creativity', 'Events', 'Finance', 'Food & Drink',\n",
       "       'Health & Fitness', 'House & Home', 'Libraries & Demo',\n",
       "       'Lifestyle', 'Lifestyle;Pretend Play',\n",
       "       'Adventure;Action & Adventure', 'Arcade', 'Casual', 'Card',\n",
       "       'Casual;Pretend Play', 'Action', 'Strategy', 'Puzzle', 'Sports',\n",
       "       'Music', 'Word', 'Racing', 'Casual;Creativity',\n",
       "       'Casual;Action & Adventure', 'Simulation', 'Adventure', 'Board',\n",
       "       'Trivia', 'Role Playing', 'Simulation;Education',\n",
       "       'Action;Action & Adventure', 'Casual;Brain Games',\n",
       "       'Simulation;Action & Adventure', 'Educational;Creativity',\n",
       "       'Puzzle;Brain Games', 'Educational;Education',\n",
       "       'Educational;Brain Games', 'Educational;Pretend Play',\n",
       "       'Entertainment;Education', 'Casual;Education',\n",
       "       'Music;Music & Video', 'Racing;Action & Adventure',\n",
       "       'Arcade;Pretend Play', 'Role Playing;Action & Adventure',\n",
       "       'Simulation;Pretend Play', 'Puzzle;Creativity',\n",
       "       'Sports;Action & Adventure', 'Educational;Action & Adventure',\n",
       "       'Arcade;Action & Adventure', 'Entertainment;Action & Adventure',\n",
       "       'Puzzle;Action & Adventure', 'Strategy;Action & Adventure',\n",
       "       'Music & Audio;Music & Video', 'Health & Fitness;Education',\n",
       "       'Adventure;Education', 'Board;Brain Games',\n",
       "       'Board;Action & Adventure', 'Board;Pretend Play',\n",
       "       'Casual;Music & Video', 'Role Playing;Pretend Play',\n",
       "       'Entertainment;Pretend Play', 'Video Players & Editors;Creativity',\n",
       "       'Card;Action & Adventure', 'Medical', 'Social', 'Shopping',\n",
       "       'Photography', 'Travel & Local',\n",
       "       'Travel & Local;Action & Adventure', 'Tools', 'Tools;Education',\n",
       "       'Personalization', 'Productivity', 'Parenting',\n",
       "       'Parenting;Music & Video', 'Parenting;Brain Games',\n",
       "       'Parenting;Education', 'Weather', 'Video Players & Editors',\n",
       "       'Video Players & Editors;Music & Video', 'News & Magazines',\n",
       "       'Maps & Navigation', 'Health & Fitness;Action & Adventure',\n",
       "       'Educational', 'Casino', 'Adventure;Brain Games',\n",
       "       'Lifestyle;Education', 'Books & Reference;Education',\n",
       "       'Puzzle;Education', 'Role Playing;Brain Games',\n",
       "       'Strategy;Education', 'Racing;Pretend Play',\n",
       "       'Communication;Creativity', 'Strategy;Creativity'], dtype=object)"
      ]
     },
     "execution_count": 1523,
     "metadata": {},
     "output_type": "execute_result"
    }
   ],
   "source": [
    "apps.Genres.unique()"
   ]
  },
  {
   "cell_type": "markdown",
   "id": "5cb0d8dc",
   "metadata": {},
   "source": [
    "Разделим столбец жанр на два"
   ]
  },
  {
   "cell_type": "code",
   "execution_count": 1524,
   "id": "9220b59b",
   "metadata": {},
   "outputs": [],
   "source": [
    "primary = apps.Genres.apply(lambda x: x.split(';')[0])\n",
    "apps['Primary_Genres'] = primary"
   ]
  },
  {
   "cell_type": "code",
   "execution_count": 1525,
   "id": "bdc58cf6",
   "metadata": {},
   "outputs": [],
   "source": [
    "secondary = apps.Genres.apply(lambda x: x.split(';')[-1])\n",
    "apps['Secondary_Genres'] = secondary"
   ]
  },
  {
   "cell_type": "code",
   "execution_count": 1526,
   "id": "f86fd00d",
   "metadata": {},
   "outputs": [],
   "source": [
    "apps.drop(columns=['Genres'], inplace=True)"
   ]
  },
  {
   "cell_type": "code",
   "execution_count": 1527,
   "id": "a4818db3",
   "metadata": {},
   "outputs": [
    {
     "data": {
      "text/html": [
       "<div>\n",
       "<style scoped>\n",
       "    .dataframe tbody tr th:only-of-type {\n",
       "        vertical-align: middle;\n",
       "    }\n",
       "\n",
       "    .dataframe tbody tr th {\n",
       "        vertical-align: top;\n",
       "    }\n",
       "\n",
       "    .dataframe thead th {\n",
       "        text-align: right;\n",
       "    }\n",
       "</style>\n",
       "<table border=\"1\" class=\"dataframe\">\n",
       "  <thead>\n",
       "    <tr style=\"text-align: right;\">\n",
       "      <th></th>\n",
       "      <th>App</th>\n",
       "      <th>Category</th>\n",
       "      <th>Rating</th>\n",
       "      <th>Size_Mb</th>\n",
       "      <th>Installs</th>\n",
       "      <th>Type</th>\n",
       "      <th>Price</th>\n",
       "      <th>Content_Rating</th>\n",
       "      <th>Primary_Genres</th>\n",
       "      <th>Secondary_Genres</th>\n",
       "    </tr>\n",
       "  </thead>\n",
       "  <tbody>\n",
       "    <tr>\n",
       "      <th>0</th>\n",
       "      <td>Photo Editor &amp; Candy Camera &amp; Grid &amp; ScrapBook</td>\n",
       "      <td>ART_AND_DESIGN</td>\n",
       "      <td>4.1</td>\n",
       "      <td>19.0</td>\n",
       "      <td>10000</td>\n",
       "      <td>Free</td>\n",
       "      <td>0.0</td>\n",
       "      <td>Everyone</td>\n",
       "      <td>Art &amp; Design</td>\n",
       "      <td>Art &amp; Design</td>\n",
       "    </tr>\n",
       "    <tr>\n",
       "      <th>1</th>\n",
       "      <td>Coloring book moana</td>\n",
       "      <td>ART_AND_DESIGN</td>\n",
       "      <td>3.9</td>\n",
       "      <td>14.0</td>\n",
       "      <td>500000</td>\n",
       "      <td>Free</td>\n",
       "      <td>0.0</td>\n",
       "      <td>Everyone</td>\n",
       "      <td>Art &amp; Design</td>\n",
       "      <td>Pretend Play</td>\n",
       "    </tr>\n",
       "    <tr>\n",
       "      <th>2</th>\n",
       "      <td>U Launcher Lite – FREE Live Cool Themes, Hide ...</td>\n",
       "      <td>ART_AND_DESIGN</td>\n",
       "      <td>4.7</td>\n",
       "      <td>8.7</td>\n",
       "      <td>5000000</td>\n",
       "      <td>Free</td>\n",
       "      <td>0.0</td>\n",
       "      <td>Everyone</td>\n",
       "      <td>Art &amp; Design</td>\n",
       "      <td>Art &amp; Design</td>\n",
       "    </tr>\n",
       "    <tr>\n",
       "      <th>3</th>\n",
       "      <td>Sketch - Draw &amp; Paint</td>\n",
       "      <td>ART_AND_DESIGN</td>\n",
       "      <td>4.5</td>\n",
       "      <td>25.0</td>\n",
       "      <td>50000000</td>\n",
       "      <td>Free</td>\n",
       "      <td>0.0</td>\n",
       "      <td>Teen</td>\n",
       "      <td>Art &amp; Design</td>\n",
       "      <td>Art &amp; Design</td>\n",
       "    </tr>\n",
       "    <tr>\n",
       "      <th>4</th>\n",
       "      <td>Pixel Draw - Number Art Coloring Book</td>\n",
       "      <td>ART_AND_DESIGN</td>\n",
       "      <td>4.3</td>\n",
       "      <td>2.8</td>\n",
       "      <td>100000</td>\n",
       "      <td>Free</td>\n",
       "      <td>0.0</td>\n",
       "      <td>Everyone</td>\n",
       "      <td>Art &amp; Design</td>\n",
       "      <td>Creativity</td>\n",
       "    </tr>\n",
       "  </tbody>\n",
       "</table>\n",
       "</div>"
      ],
      "text/plain": [
       "                                                 App        Category  Rating  \\\n",
       "0     Photo Editor & Candy Camera & Grid & ScrapBook  ART_AND_DESIGN     4.1   \n",
       "1                                Coloring book moana  ART_AND_DESIGN     3.9   \n",
       "2  U Launcher Lite – FREE Live Cool Themes, Hide ...  ART_AND_DESIGN     4.7   \n",
       "3                              Sketch - Draw & Paint  ART_AND_DESIGN     4.5   \n",
       "4              Pixel Draw - Number Art Coloring Book  ART_AND_DESIGN     4.3   \n",
       "\n",
       "   Size_Mb  Installs  Type  Price Content_Rating Primary_Genres  \\\n",
       "0     19.0     10000  Free    0.0       Everyone   Art & Design   \n",
       "1     14.0    500000  Free    0.0       Everyone   Art & Design   \n",
       "2      8.7   5000000  Free    0.0       Everyone   Art & Design   \n",
       "3     25.0  50000000  Free    0.0           Teen   Art & Design   \n",
       "4      2.8    100000  Free    0.0       Everyone   Art & Design   \n",
       "\n",
       "  Secondary_Genres  \n",
       "0     Art & Design  \n",
       "1     Pretend Play  \n",
       "2     Art & Design  \n",
       "3     Art & Design  \n",
       "4       Creativity  "
      ]
     },
     "execution_count": 1527,
     "metadata": {},
     "output_type": "execute_result"
    }
   ],
   "source": [
    "apps.head()"
   ]
  },
  {
   "cell_type": "code",
   "execution_count": 1528,
   "id": "cb9fe439",
   "metadata": {},
   "outputs": [
    {
     "data": {
      "text/plain": [
       "Tools                      718\n",
       "Entertainment              502\n",
       "Education                  498\n",
       "Action                     304\n",
       "Lifestyle                  302\n",
       "Finance                    302\n",
       "Productivity               301\n",
       "Personalization            298\n",
       "Medical                    290\n",
       "Sports                     270\n",
       "Business                   263\n",
       "Photography                263\n",
       "Communication              257\n",
       "Health & Fitness           246\n",
       "Casual                     217\n",
       "News & Magazines           204\n",
       "Social                     203\n",
       "Simulation                 200\n",
       "Travel & Local             187\n",
       "Arcade                     185\n",
       "Shopping                   180\n",
       "Books & Reference          171\n",
       "Video Players & Editors    150\n",
       "Dating                     134\n",
       "Puzzle                     123\n",
       "Maps & Navigation          118\n",
       "Role Playing               111\n",
       "Racing                     103\n",
       "Strategy                    95\n",
       "Food & Drink                94\n",
       "Educational                 93\n",
       "Adventure                   78\n",
       "Auto & Vehicles             73\n",
       "Weather                     72\n",
       "Libraries & Demo            64\n",
       "Art & Design                62\n",
       "House & Home                62\n",
       "Board                       57\n",
       "Comics                      54\n",
       "Parenting                   50\n",
       "Card                        46\n",
       "Events                      45\n",
       "Beauty                      42\n",
       "Casino                      37\n",
       "Trivia                      28\n",
       "Word                        22\n",
       "Music                       21\n",
       "Music & Audio                1\n",
       "Name: Primary_Genres, dtype: int64"
      ]
     },
     "execution_count": 1528,
     "metadata": {},
     "output_type": "execute_result"
    }
   ],
   "source": [
    "apps.Primary_Genres.value_counts()"
   ]
  },
  {
   "cell_type": "code",
   "execution_count": 1529,
   "id": "a9089269",
   "metadata": {},
   "outputs": [
    {
     "data": {
      "text/html": [
       "<div>\n",
       "<style scoped>\n",
       "    .dataframe tbody tr th:only-of-type {\n",
       "        vertical-align: middle;\n",
       "    }\n",
       "\n",
       "    .dataframe tbody tr th {\n",
       "        vertical-align: top;\n",
       "    }\n",
       "\n",
       "    .dataframe thead th {\n",
       "        text-align: right;\n",
       "    }\n",
       "</style>\n",
       "<table border=\"1\" class=\"dataframe\">\n",
       "  <thead>\n",
       "    <tr style=\"text-align: right;\">\n",
       "      <th></th>\n",
       "      <th>App</th>\n",
       "      <th>Category</th>\n",
       "      <th>Rating</th>\n",
       "      <th>Size_Mb</th>\n",
       "      <th>Installs</th>\n",
       "      <th>Type</th>\n",
       "      <th>Price</th>\n",
       "      <th>Content_Rating</th>\n",
       "      <th>Primary_Genres</th>\n",
       "      <th>Secondary_Genres</th>\n",
       "    </tr>\n",
       "  </thead>\n",
       "  <tbody>\n",
       "    <tr>\n",
       "      <th>2142</th>\n",
       "      <td>Toy Guitar with songs for kids</td>\n",
       "      <td>FAMILY</td>\n",
       "      <td>4.3</td>\n",
       "      <td>9.8</td>\n",
       "      <td>500000</td>\n",
       "      <td>Free</td>\n",
       "      <td>0.0</td>\n",
       "      <td>Everyone</td>\n",
       "      <td>Music &amp; Audio</td>\n",
       "      <td>Music &amp; Video</td>\n",
       "    </tr>\n",
       "  </tbody>\n",
       "</table>\n",
       "</div>"
      ],
      "text/plain": [
       "                                 App Category  Rating  Size_Mb  Installs  \\\n",
       "2142  Toy Guitar with songs for kids   FAMILY     4.3      9.8    500000   \n",
       "\n",
       "      Type  Price Content_Rating Primary_Genres Secondary_Genres  \n",
       "2142  Free    0.0       Everyone  Music & Audio    Music & Video  "
      ]
     },
     "execution_count": 1529,
     "metadata": {},
     "output_type": "execute_result"
    }
   ],
   "source": [
    "apps[apps.Primary_Genres == 'Music & Audio']"
   ]
  },
  {
   "cell_type": "code",
   "execution_count": 1530,
   "id": "4be36cc0",
   "metadata": {},
   "outputs": [],
   "source": [
    "# Заменяем Music & Audio на Music\n",
    "apps.loc[apps.Primary_Genres == 'Music & Audio', 'Primary_Genres'] = 'Music'"
   ]
  },
  {
   "cell_type": "code",
   "execution_count": 1531,
   "id": "38a78d8b",
   "metadata": {},
   "outputs": [
    {
     "data": {
      "text/plain": [
       "FAMILY             1608\n",
       "GAME                912\n",
       "TOOLS               718\n",
       "FINANCE             302\n",
       "PRODUCTIVITY        301\n",
       "LIFESTYLE           301\n",
       "PERSONALIZATION     298\n",
       "MEDICAL             290\n",
       "BUSINESS            263\n",
       "PHOTOGRAPHY         263\n",
       "Name: Category, dtype: int64"
      ]
     },
     "execution_count": 1531,
     "metadata": {},
     "output_type": "execute_result"
    }
   ],
   "source": [
    "apps.Category.value_counts().head(10)"
   ]
  },
  {
   "cell_type": "code",
   "execution_count": 1532,
   "id": "4d11d7cb",
   "metadata": {},
   "outputs": [
    {
     "data": {
      "text/plain": [
       "Tools              718\n",
       "Entertainment      502\n",
       "Education          498\n",
       "Action             304\n",
       "Lifestyle          302\n",
       "Finance            302\n",
       "Productivity       301\n",
       "Personalization    298\n",
       "Medical            290\n",
       "Sports             270\n",
       "Name: Primary_Genres, dtype: int64"
      ]
     },
     "execution_count": 1532,
     "metadata": {},
     "output_type": "execute_result"
    }
   ],
   "source": [
    "apps.Primary_Genres.value_counts().head(10)"
   ]
  },
  {
   "cell_type": "code",
   "execution_count": 1533,
   "id": "55682150",
   "metadata": {},
   "outputs": [
    {
     "data": {
      "text/plain": [
       "Tools              717\n",
       "Education          518\n",
       "Entertainment      471\n",
       "Finance            302\n",
       "Productivity       301\n",
       "Lifestyle          300\n",
       "Personalization    298\n",
       "Action             292\n",
       "Medical            290\n",
       "Sports             266\n",
       "Name: Secondary_Genres, dtype: int64"
      ]
     },
     "execution_count": 1533,
     "metadata": {},
     "output_type": "execute_result"
    }
   ],
   "source": [
    "apps.Secondary_Genres.value_counts().head(10)"
   ]
  },
  {
   "cell_type": "markdown",
   "id": "51bfd862",
   "metadata": {},
   "source": [
    "Значения столбцов Category, Primary_Genres и Secondary_Genres очень похожи и могут совпадать для определенных приложений. Поэтому я удалю столбцы Primary_Genres и Secondary_Genres"
   ]
  },
  {
   "cell_type": "code",
   "execution_count": 1534,
   "id": "098a1213",
   "metadata": {},
   "outputs": [],
   "source": [
    "apps.drop(columns=['Primary_Genres'], inplace=True)"
   ]
  },
  {
   "cell_type": "code",
   "execution_count": 1535,
   "id": "f4afac93",
   "metadata": {},
   "outputs": [],
   "source": [
    "apps.drop(columns=['Secondary_Genres'], inplace=True)"
   ]
  },
  {
   "cell_type": "markdown",
   "id": "c44ef70b",
   "metadata": {},
   "source": [
    "### Итоговая таблица иммет следующий вид:"
   ]
  },
  {
   "cell_type": "code",
   "execution_count": 1536,
   "id": "49c6bf6a",
   "metadata": {},
   "outputs": [
    {
     "data": {
      "text/html": [
       "<div>\n",
       "<style scoped>\n",
       "    .dataframe tbody tr th:only-of-type {\n",
       "        vertical-align: middle;\n",
       "    }\n",
       "\n",
       "    .dataframe tbody tr th {\n",
       "        vertical-align: top;\n",
       "    }\n",
       "\n",
       "    .dataframe thead th {\n",
       "        text-align: right;\n",
       "    }\n",
       "</style>\n",
       "<table border=\"1\" class=\"dataframe\">\n",
       "  <thead>\n",
       "    <tr style=\"text-align: right;\">\n",
       "      <th></th>\n",
       "      <th>App</th>\n",
       "      <th>Category</th>\n",
       "      <th>Rating</th>\n",
       "      <th>Size_Mb</th>\n",
       "      <th>Installs</th>\n",
       "      <th>Type</th>\n",
       "      <th>Price</th>\n",
       "      <th>Content_Rating</th>\n",
       "    </tr>\n",
       "  </thead>\n",
       "  <tbody>\n",
       "    <tr>\n",
       "      <th>0</th>\n",
       "      <td>Photo Editor &amp; Candy Camera &amp; Grid &amp; ScrapBook</td>\n",
       "      <td>ART_AND_DESIGN</td>\n",
       "      <td>4.1</td>\n",
       "      <td>19.0</td>\n",
       "      <td>10000</td>\n",
       "      <td>Free</td>\n",
       "      <td>0.0</td>\n",
       "      <td>Everyone</td>\n",
       "    </tr>\n",
       "    <tr>\n",
       "      <th>1</th>\n",
       "      <td>Coloring book moana</td>\n",
       "      <td>ART_AND_DESIGN</td>\n",
       "      <td>3.9</td>\n",
       "      <td>14.0</td>\n",
       "      <td>500000</td>\n",
       "      <td>Free</td>\n",
       "      <td>0.0</td>\n",
       "      <td>Everyone</td>\n",
       "    </tr>\n",
       "    <tr>\n",
       "      <th>2</th>\n",
       "      <td>U Launcher Lite – FREE Live Cool Themes, Hide ...</td>\n",
       "      <td>ART_AND_DESIGN</td>\n",
       "      <td>4.7</td>\n",
       "      <td>8.7</td>\n",
       "      <td>5000000</td>\n",
       "      <td>Free</td>\n",
       "      <td>0.0</td>\n",
       "      <td>Everyone</td>\n",
       "    </tr>\n",
       "    <tr>\n",
       "      <th>3</th>\n",
       "      <td>Sketch - Draw &amp; Paint</td>\n",
       "      <td>ART_AND_DESIGN</td>\n",
       "      <td>4.5</td>\n",
       "      <td>25.0</td>\n",
       "      <td>50000000</td>\n",
       "      <td>Free</td>\n",
       "      <td>0.0</td>\n",
       "      <td>Teen</td>\n",
       "    </tr>\n",
       "    <tr>\n",
       "      <th>4</th>\n",
       "      <td>Pixel Draw - Number Art Coloring Book</td>\n",
       "      <td>ART_AND_DESIGN</td>\n",
       "      <td>4.3</td>\n",
       "      <td>2.8</td>\n",
       "      <td>100000</td>\n",
       "      <td>Free</td>\n",
       "      <td>0.0</td>\n",
       "      <td>Everyone</td>\n",
       "    </tr>\n",
       "    <tr>\n",
       "      <th>5</th>\n",
       "      <td>Paper flowers instructions</td>\n",
       "      <td>ART_AND_DESIGN</td>\n",
       "      <td>4.4</td>\n",
       "      <td>5.6</td>\n",
       "      <td>50000</td>\n",
       "      <td>Free</td>\n",
       "      <td>0.0</td>\n",
       "      <td>Everyone</td>\n",
       "    </tr>\n",
       "    <tr>\n",
       "      <th>6</th>\n",
       "      <td>Smoke Effect Photo Maker - Smoke Editor</td>\n",
       "      <td>ART_AND_DESIGN</td>\n",
       "      <td>3.8</td>\n",
       "      <td>19.0</td>\n",
       "      <td>50000</td>\n",
       "      <td>Free</td>\n",
       "      <td>0.0</td>\n",
       "      <td>Everyone</td>\n",
       "    </tr>\n",
       "    <tr>\n",
       "      <th>7</th>\n",
       "      <td>Infinite Painter</td>\n",
       "      <td>ART_AND_DESIGN</td>\n",
       "      <td>4.1</td>\n",
       "      <td>29.0</td>\n",
       "      <td>1000000</td>\n",
       "      <td>Free</td>\n",
       "      <td>0.0</td>\n",
       "      <td>Everyone</td>\n",
       "    </tr>\n",
       "    <tr>\n",
       "      <th>8</th>\n",
       "      <td>Garden Coloring Book</td>\n",
       "      <td>ART_AND_DESIGN</td>\n",
       "      <td>4.4</td>\n",
       "      <td>33.0</td>\n",
       "      <td>1000000</td>\n",
       "      <td>Free</td>\n",
       "      <td>0.0</td>\n",
       "      <td>Everyone</td>\n",
       "    </tr>\n",
       "    <tr>\n",
       "      <th>9</th>\n",
       "      <td>Kids Paint Free - Drawing Fun</td>\n",
       "      <td>ART_AND_DESIGN</td>\n",
       "      <td>4.7</td>\n",
       "      <td>3.1</td>\n",
       "      <td>10000</td>\n",
       "      <td>Free</td>\n",
       "      <td>0.0</td>\n",
       "      <td>Everyone</td>\n",
       "    </tr>\n",
       "  </tbody>\n",
       "</table>\n",
       "</div>"
      ],
      "text/plain": [
       "                                                 App        Category  Rating  \\\n",
       "0     Photo Editor & Candy Camera & Grid & ScrapBook  ART_AND_DESIGN     4.1   \n",
       "1                                Coloring book moana  ART_AND_DESIGN     3.9   \n",
       "2  U Launcher Lite – FREE Live Cool Themes, Hide ...  ART_AND_DESIGN     4.7   \n",
       "3                              Sketch - Draw & Paint  ART_AND_DESIGN     4.5   \n",
       "4              Pixel Draw - Number Art Coloring Book  ART_AND_DESIGN     4.3   \n",
       "5                         Paper flowers instructions  ART_AND_DESIGN     4.4   \n",
       "6            Smoke Effect Photo Maker - Smoke Editor  ART_AND_DESIGN     3.8   \n",
       "7                                   Infinite Painter  ART_AND_DESIGN     4.1   \n",
       "8                               Garden Coloring Book  ART_AND_DESIGN     4.4   \n",
       "9                      Kids Paint Free - Drawing Fun  ART_AND_DESIGN     4.7   \n",
       "\n",
       "   Size_Mb  Installs  Type  Price Content_Rating  \n",
       "0     19.0     10000  Free    0.0       Everyone  \n",
       "1     14.0    500000  Free    0.0       Everyone  \n",
       "2      8.7   5000000  Free    0.0       Everyone  \n",
       "3     25.0  50000000  Free    0.0           Teen  \n",
       "4      2.8    100000  Free    0.0       Everyone  \n",
       "5      5.6     50000  Free    0.0       Everyone  \n",
       "6     19.0     50000  Free    0.0       Everyone  \n",
       "7     29.0   1000000  Free    0.0       Everyone  \n",
       "8     33.0   1000000  Free    0.0       Everyone  \n",
       "9      3.1     10000  Free    0.0       Everyone  "
      ]
     },
     "execution_count": 1536,
     "metadata": {},
     "output_type": "execute_result"
    }
   ],
   "source": [
    "apps.head(10)"
   ]
  },
  {
   "cell_type": "markdown",
   "id": "d9e793cb",
   "metadata": {},
   "source": [
    "# EDA (Разведочный анализ данных)"
   ]
  },
  {
   "cell_type": "markdown",
   "id": "e2f03e99",
   "metadata": {},
   "source": [
    "## Pairplot для количественных признаков"
   ]
  },
  {
   "cell_type": "code",
   "execution_count": 1537,
   "id": "ba29e189",
   "metadata": {},
   "outputs": [
    {
     "data": {
      "text/plain": [
       "<seaborn.axisgrid.PairGrid at 0x20542ed7790>"
      ]
     },
     "execution_count": 1537,
     "metadata": {},
     "output_type": "execute_result"
    },
    {
     "data": {
      "image/png": "[encoded data removed]",
      "text/plain": [
       "<Figure size 1000x1000 with 14 Axes>"
      ]
     },
     "metadata": {},
     "output_type": "display_data"
    }
   ],
   "source": [
    "sns.pairplot(apps, corner=True, diag_kind='kde')"
   ]
  },
  {
   "cell_type": "markdown",
   "id": "b7577284",
   "metadata": {},
   "source": [
    "##### Как видим, все количественные признаки распределены ненормально"
   ]
  },
  {
   "cell_type": "markdown",
   "id": "7f579407",
   "metadata": {},
   "source": [
    "## Категориальные признаки"
   ]
  },
  {
   "cell_type": "markdown",
   "id": "da1463ef",
   "metadata": {},
   "source": [
    "### Category"
   ]
  },
  {
   "cell_type": "code",
   "execution_count": 1578,
   "id": "a3d9fc2c",
   "metadata": {},
   "outputs": [
    {
     "data": {
      "image/png": "[encoded data removed]",
      "text/plain": [
       "<Figure size 640x480 with 1 Axes>"
      ]
     },
     "metadata": {},
     "output_type": "display_data"
    }
   ],
   "source": [
    "sns.countplot(y=apps.Category, order=apps['Category'].value_counts().index)\n",
    "plt.tight_layout()"
   ]
  },
  {
   "cell_type": "markdown",
   "id": "b2b735ea",
   "metadata": {},
   "source": [
    "##### Больше всего приложений в категориях Family, Game и Tools"
   ]
  },
  {
   "cell_type": "markdown",
   "id": "bfcdfb0a",
   "metadata": {},
   "source": [
    "### Type (Free/Paid)"
   ]
  },
  {
   "cell_type": "code",
   "execution_count": 1539,
   "id": "861d503b",
   "metadata": {
    "scrolled": false
   },
   "outputs": [
    {
     "data": {
      "text/plain": [
       "([<matplotlib.patches.Wedge at 0x20540f848b0>,\n",
       "  <matplotlib.patches.Wedge at 0x20540f55540>],\n",
       " [Text(-1.070651124323107, 0.2524008121731531, 'Free'),\n",
       "  Text(1.0706511361388402, -0.2524007620523571, 'Paid')],\n",
       " [Text(-0.5839915223580582, 0.1376731702762653, '92.6%'),\n",
       "  Text(0.5839915288030038, -0.13767314293764932, '7.4%')])"
      ]
     },
     "execution_count": 1539,
     "metadata": {},
     "output_type": "execute_result"
    },
    {
     "data": {
      "image/png": "[encoded data removed]",
      "text/plain": [
       "<Figure size 640x480 with 1 Axes>"
      ]
     },
     "metadata": {},
     "output_type": "display_data"
    }
   ],
   "source": [
    "plt.pie(apps['Type'].value_counts(sort=True), labels=apps['Type'].value_counts(sort=True).index, autopct='%1.1f%%')"
   ]
  },
  {
   "cell_type": "markdown",
   "id": "53d5cb7e",
   "metadata": {},
   "source": [
    "##### Бесплатные приложения сильно преобладают на рынке"
   ]
  },
  {
   "cell_type": "markdown",
   "id": "e565133f",
   "metadata": {},
   "source": [
    "### Content Rating"
   ]
  },
  {
   "cell_type": "code",
   "execution_count": 1540,
   "id": "21037b6a",
   "metadata": {},
   "outputs": [
    {
     "data": {
      "image/png": "[encoded data removed]",
      "text/plain": [
       "<Figure size 640x480 with 1 Axes>"
      ]
     },
     "metadata": {},
     "output_type": "display_data"
    }
   ],
   "source": [
    "sns.countplot(y=apps.Content_Rating, order=apps['Content_Rating'].value_counts().index)\n",
    "plt.xscale('log')"
   ]
  },
  {
   "cell_type": "markdown",
   "id": "c562b161",
   "metadata": {},
   "source": [
    "##### На рынке преобладают приложения для всех возрастов (Everyone)"
   ]
  },
  {
   "cell_type": "markdown",
   "id": "c0baa2c8",
   "metadata": {},
   "source": [
    "### Installs"
   ]
  },
  {
   "cell_type": "code",
   "execution_count": 1577,
   "id": "6e7b9fe0",
   "metadata": {},
   "outputs": [
    {
     "data": {
      "text/plain": [
       "Text(0, 0.5, '')"
      ]
     },
     "execution_count": 1577,
     "metadata": {},
     "output_type": "execute_result"
    },
    {
     "data": {
      "image/png": "[encoded data removed]",
      "text/plain": [
       "<Figure size 640x480 with 1 Axes>"
      ]
     },
     "metadata": {},
     "output_type": "display_data"
    }
   ],
   "source": [
    "sns.histplot(apps.Installs, bins=15)\n",
    "plt.xscale('log')\n",
    "plt.ylabel(None)"
   ]
  },
  {
   "cell_type": "code",
   "execution_count": 1542,
   "id": "8fd7e893",
   "metadata": {},
   "outputs": [
    {
     "data": {
      "text/plain": [
       "97.16935090287946"
      ]
     },
     "execution_count": 1542,
     "metadata": {},
     "output_type": "execute_result"
    }
   ],
   "source": [
    "# % приложений с кол-вом установок < 10^8\n",
    "100 * apps[apps.Installs < 100000000].App.count() / apps.App.count()"
   ]
  },
  {
   "cell_type": "markdown",
   "id": "468a4f93",
   "metadata": {},
   "source": [
    "##### Большую часть приложений устанавливают менее 10^8 раз"
   ]
  },
  {
   "cell_type": "markdown",
   "id": "54b915be",
   "metadata": {},
   "source": [
    "## Взаимосвязи переменных"
   ]
  },
  {
   "cell_type": "markdown",
   "id": "75fc2de1",
   "metadata": {},
   "source": [
    "### Популярность приложения и его рейтинг"
   ]
  },
  {
   "cell_type": "code",
   "execution_count": 1569,
   "id": "f5fe155d",
   "metadata": {
    "scrolled": false
   },
   "outputs": [
    {
     "data": {
      "image/png": "[encoded data removed]",
      "text/plain": [
       "<Figure size 640x480 with 1 Axes>"
      ]
     },
     "metadata": {},
     "output_type": "display_data"
    }
   ],
   "source": [
    "sns.regplot(x=\"Installs\", y=\"Rating\",data=apps, line_kws={\"color\": \"#372e4b\"})\n",
    "plt.xscale('log')"
   ]
  },
  {
   "cell_type": "markdown",
   "id": "0cdc4c2a",
   "metadata": {},
   "source": [
    "Приложения с большим количеством установок имеют чуть больший рейтинг в среднем"
   ]
  },
  {
   "cell_type": "markdown",
   "id": "86577178",
   "metadata": {},
   "source": [
    "Проверим, как сильно влияет количество установок на рейтинг с помощью коэффициента корреляции Спирмена (коэффициент корреляции Пирсона использовать не можем, т.к. признаки распределены ненормально)"
   ]
  },
  {
   "cell_type": "markdown",
   "id": "1d706a0b",
   "metadata": {},
   "source": [
    "<b>Порог значимости</b>: alpha = 0.05  \n",
    "<b>Нулевая гипотеза</b>: Статистически значимая связь между переменными отсутствует"
   ]
  },
  {
   "cell_type": "code",
   "execution_count": 1544,
   "id": "0a8dc50d",
   "metadata": {},
   "outputs": [
    {
     "data": {
      "text/plain": [
       "SpearmanrResult(correlation=0.027296334350120834, pvalue=0.013463458702114359)"
      ]
     },
     "execution_count": 1544,
     "metadata": {},
     "output_type": "execute_result"
    }
   ],
   "source": [
    "stats.spearmanr(apps.Installs, apps.Rating)"
   ]
  },
  {
   "cell_type": "markdown",
   "id": "8fa0cb8f",
   "metadata": {},
   "source": [
    "Коэффициент корреляции Спирмена показывает статистически значимую, но очень слабую взаимосвязь"
   ]
  },
  {
   "cell_type": "code",
   "execution_count": 1545,
   "id": "38e12c50",
   "metadata": {},
   "outputs": [
    {
     "data": {
      "text/plain": [
       "SpearmanrResult(correlation=0.011482743411910143, pvalue=0.3055485392414167)"
      ]
     },
     "execution_count": 1545,
     "metadata": {},
     "output_type": "execute_result"
    }
   ],
   "source": [
    "# Посчитаем коэф. Спирмена для большинства приложений (Installs < 10^8)\n",
    "stats.spearmanr(apps[apps.Installs < 100000000].Installs, apps[apps.Installs < 100000000].Rating)"
   ]
  },
  {
   "cell_type": "markdown",
   "id": "df9ee507",
   "metadata": {},
   "source": [
    "p-value > alpha (0.05), следовательно, не можем отвергуть нулевую гипотезу об отсутствии статистически значимой связи, но даже если бы эта корреляция была статистически значима, она слишком незначительна, чтобы ее учитывать"
   ]
  },
  {
   "cell_type": "markdown",
   "id": "3809a26b",
   "metadata": {},
   "source": [
    "#### Вывод: Популярность приложения не влияет на его рейтинг"
   ]
  },
  {
   "cell_type": "markdown",
   "id": "08ab0624",
   "metadata": {},
   "source": [
    "### Как отличается рейтинг платных и бесплатных приложений"
   ]
  },
  {
   "cell_type": "code",
   "execution_count": 1576,
   "id": "fb5dc4e8",
   "metadata": {},
   "outputs": [
    {
     "data": {
      "text/plain": [
       "Text(5.569444444444445, 0.5, '')"
      ]
     },
     "execution_count": 1576,
     "metadata": {},
     "output_type": "execute_result"
    },
    {
     "data": {
      "image/png": "[encoded data removed]",
      "text/plain": [
       "<Figure size 500x500 with 1 Axes>"
      ]
     },
     "metadata": {},
     "output_type": "display_data"
    },
    {
     "data": {
      "image/png": "[encoded data removed]",
      "text/plain": [
       "<Figure size 500x500 with 1 Axes>"
      ]
     },
     "metadata": {},
     "output_type": "display_data"
    }
   ],
   "source": [
    "sns.displot(apps[apps.Type == 'Free']['Rating'], bins=15).set(title='Free')\n",
    "plt.axvline(apps[apps.Type == 'Free']['Rating'].mean(), color='#372e4b')\n",
    "plt.ylabel(None)\n",
    "sns.displot(apps[apps.Type == 'Paid']['Rating'], bins=15).set(title='Paid')\n",
    "plt.axvline(apps[apps.Type == 'Paid']['Rating'].mean(), color='#372e4b')\n",
    "plt.ylabel(None)"
   ]
  },
  {
   "cell_type": "code",
   "execution_count": 1547,
   "id": "1f869906",
   "metadata": {},
   "outputs": [
    {
     "data": {
      "text/plain": [
       "(4.166372497365648, 4.259602649006623)"
      ]
     },
     "execution_count": 1547,
     "metadata": {},
     "output_type": "execute_result"
    }
   ],
   "source": [
    "apps[apps.Type == 'Free']['Rating'].mean(), apps[apps.Type == 'Paid']['Rating'].mean()"
   ]
  },
  {
   "cell_type": "markdown",
   "id": "24ae04d7",
   "metadata": {},
   "source": [
    "Средние выборок отличаются, но непонятно, является ли различие статистически значимым. Выборки распределены похожим образом"
   ]
  },
  {
   "cell_type": "code",
   "execution_count": 1548,
   "id": "9ca31223",
   "metadata": {},
   "outputs": [
    {
     "data": {
      "text/plain": [
       "[Text(0.5, 1.0, 'Free')]"
      ]
     },
     "execution_count": 1548,
     "metadata": {},
     "output_type": "execute_result"
    },
    {
     "data": {
      "image/png": "[encoded data removed]",
      "text/plain": [
       "<Figure size 640x480 with 1 Axes>"
      ]
     },
     "metadata": {},
     "output_type": "display_data"
    }
   ],
   "source": [
    "sns.boxplot(apps.loc[apps.Type == 'Free', 'Rating']).set(title='Free')"
   ]
  },
  {
   "cell_type": "code",
   "execution_count": 1574,
   "id": "c65a7d09",
   "metadata": {},
   "outputs": [
    {
     "data": {
      "text/plain": [
       "[Text(0.5, 1.0, 'Paid')]"
      ]
     },
     "execution_count": 1574,
     "metadata": {},
     "output_type": "execute_result"
    },
    {
     "data": {
      "image/png": "[encoded data removed]",
      "text/plain": [
       "<Figure size 640x480 with 1 Axes>"
      ]
     },
     "metadata": {},
     "output_type": "display_data"
    }
   ],
   "source": [
    "sns.boxplot(apps[apps.Type == 'Paid']['Rating'].reset_index(drop=True)).set(title='Paid')"
   ]
  },
  {
   "cell_type": "markdown",
   "id": "10186153",
   "metadata": {},
   "source": [
    "Выборки распределены не нормально, их размеры значительно отличаются, а еще присутствуют выбросы. Для сравнения выборок применим критерий Уилкоксона-Манна-Уитни (устойчив к выбросам)"
   ]
  },
  {
   "cell_type": "markdown",
   "id": "c367ff15",
   "metadata": {},
   "source": [
    "<b>Порог значимости</b>: alpha = 0.05  \n",
    "<b>Нулевая гипотеза</b>: Средние значения рейтинга для платных и бесплатных приложений равны"
   ]
  },
  {
   "cell_type": "code",
   "execution_count": 1550,
   "id": "3235d11c",
   "metadata": {},
   "outputs": [
    {
     "data": {
      "text/plain": [
       "RanksumsResult(statistic=-6.406183218438371, pvalue=1.492076475346005e-10)"
      ]
     },
     "execution_count": 1550,
     "metadata": {},
     "output_type": "execute_result"
    }
   ],
   "source": [
    "stats.ranksums(apps[apps.Type == 'Free']['Rating'], apps[apps.Type == 'Paid']['Rating'])"
   ]
  },
  {
   "cell_type": "markdown",
   "id": "f7168aa9",
   "metadata": {},
   "source": [
    "p-value < 0.05, отвергаем нулевую гипотезу о равенстве средних значений выборок"
   ]
  },
  {
   "cell_type": "markdown",
   "id": "5c02f160",
   "metadata": {},
   "source": [
    "Таким образом, средний рейтинг для платных и бесплатных приложений статистически значимо различается"
   ]
  },
  {
   "cell_type": "code",
   "execution_count": 1551,
   "id": "a3421c85",
   "metadata": {},
   "outputs": [
    {
     "data": {
      "text/plain": [
       "(4.166372497365648, 4.259602649006623)"
      ]
     },
     "execution_count": 1551,
     "metadata": {},
     "output_type": "execute_result"
    }
   ],
   "source": [
    "apps[apps.Type == 'Free']['Rating'].mean(), apps[apps.Type == 'Paid']['Rating'].mean()"
   ]
  },
  {
   "cell_type": "markdown",
   "id": "0148c20e",
   "metadata": {},
   "source": [
    "#### Вывод: Платные приложения в среднем оцениваются выше"
   ]
  },
  {
   "cell_type": "markdown",
   "id": "467ed28e",
   "metadata": {},
   "source": [
    "### Рейтинг приложений по категориям"
   ]
  },
  {
   "cell_type": "code",
   "execution_count": 1571,
   "id": "cfa90b5e",
   "metadata": {},
   "outputs": [
    {
     "data": {
      "image/png": "[encoded data removed]",
      "text/plain": [
       "<Figure size 640x480 with 1 Axes>"
      ]
     },
     "metadata": {},
     "output_type": "display_data"
    }
   ],
   "source": [
    "sns.barplot(x=apps.Rating, y=apps.Category)\n",
    "plt.tight_layout()"
   ]
  },
  {
   "cell_type": "code",
   "execution_count": 1553,
   "id": "b2edcebc",
   "metadata": {},
   "outputs": [
    {
     "data": {
      "text/plain": [
       "Category\n",
       "EVENTS                 4.435556\n",
       "EDUCATION              4.364407\n",
       "ART_AND_DESIGN         4.357377\n",
       "BOOKS_AND_REFERENCE    4.344970\n",
       "PERSONALIZATION        4.332215\n",
       "PARENTING              4.300000\n",
       "BEAUTY                 4.278571\n",
       "GAME                   4.247368\n",
       "SOCIAL                 4.247291\n",
       "WEATHER                4.243056\n",
       "HEALTH_AND_FITNESS     4.243033\n",
       "SHOPPING               4.230000\n",
       "SPORTS                 4.216154\n",
       "AUTO_AND_VEHICLES      4.190411\n",
       "PRODUCTIVITY           4.183389\n",
       "COMICS                 4.181481\n",
       "FAMILY                 4.179664\n",
       "LIBRARIES_AND_DEMO     4.178125\n",
       "FOOD_AND_DRINK         4.172340\n",
       "MEDICAL                4.166552\n",
       "PHOTOGRAPHY            4.157414\n",
       "HOUSE_AND_HOME         4.150000\n",
       "ENTERTAINMENT          4.135294\n",
       "NEWS_AND_MAGAZINES     4.121569\n",
       "COMMUNICATION          4.121484\n",
       "FINANCE                4.115563\n",
       "BUSINESS               4.098479\n",
       "LIFESTYLE              4.093355\n",
       "TRAVEL_AND_LOCAL       4.069519\n",
       "VIDEO_PLAYERS          4.044595\n",
       "TOOLS                  4.039554\n",
       "MAPS_AND_NAVIGATION    4.036441\n",
       "DATING                 3.970149\n",
       "Name: Rating, dtype: float64"
      ]
     },
     "execution_count": 1553,
     "metadata": {},
     "output_type": "execute_result"
    }
   ],
   "source": [
    "apps.groupby('Category')['Rating'].mean().sort_values(ascending=False)"
   ]
  },
  {
   "cell_type": "markdown",
   "id": "2b8bdb37",
   "metadata": {},
   "source": [
    "#### Вывод: Рейтинг приложений значительно отличается по категориям"
   ]
  },
  {
   "cell_type": "markdown",
   "id": "711dc467",
   "metadata": {},
   "source": [
    "#### Выше всего оценивают категории \"События\" и \"Образование\", ниже всего - дейтинговые приложения и карты"
   ]
  },
  {
   "cell_type": "markdown",
   "id": "e43f94de",
   "metadata": {},
   "source": [
    "### Самые популярные категории"
   ]
  },
  {
   "cell_type": "code",
   "execution_count": 1570,
   "id": "adcf1aac",
   "metadata": {},
   "outputs": [
    {
     "data": {
      "image/png": "[encoded data removed]",
      "text/plain": [
       "<Figure size 640x480 with 1 Axes>"
      ]
     },
     "metadata": {},
     "output_type": "display_data"
    }
   ],
   "source": [
    "sns.barplot(x=apps.Installs, y=apps.Category)\n",
    "plt.xscale('log')\n",
    "plt.tight_layout()"
   ]
  },
  {
   "cell_type": "code",
   "execution_count": 1555,
   "id": "ce80b417",
   "metadata": {
    "scrolled": false
   },
   "outputs": [
    {
     "data": {
      "text/plain": [
       "Category\n",
       "COMMUNICATION          4.311813e+07\n",
       "SOCIAL                 2.703370e+07\n",
       "VIDEO_PLAYERS          2.653241e+07\n",
       "ENTERTAINMENT          2.072216e+07\n",
       "PRODUCTIVITY           1.924608e+07\n",
       "PHOTOGRAPHY            1.767735e+07\n",
       "TRAVEL_AND_LOCAL       1.548053e+07\n",
       "GAME                   1.521794e+07\n",
       "NEWS_AND_MAGAZINES     1.161329e+07\n",
       "TOOLS                  1.114168e+07\n",
       "BOOKS_AND_REFERENCE    9.856755e+06\n",
       "SHOPPING               7.779620e+06\n",
       "PERSONALIZATION        5.142124e+06\n",
       "WEATHER                5.015229e+06\n",
       "HEALTH_AND_FITNESS     4.688550e+06\n",
       "MAPS_AND_NAVIGATION    4.264979e+06\n",
       "SPORTS                 4.217044e+06\n",
       "EDUCATION              2.990271e+06\n",
       "FAMILY                 2.753408e+06\n",
       "BUSINESS               2.650259e+06\n",
       "FOOD_AND_DRINK         2.251891e+06\n",
       "ART_AND_DESIGN         1.872674e+06\n",
       "LIFESTYLE              1.673559e+06\n",
       "HOUSE_AND_HOME         1.565839e+06\n",
       "FINANCE                1.507657e+06\n",
       "DATING                 1.051585e+06\n",
       "COMICS                 8.320574e+05\n",
       "LIBRARIES_AND_DEMO     8.137969e+05\n",
       "AUTO_AND_VEHICLES      7.278055e+05\n",
       "BEAUTY                 6.408619e+05\n",
       "PARENTING              6.223222e+05\n",
       "EVENTS                 3.544313e+05\n",
       "MEDICAL                1.315610e+05\n",
       "Name: Installs, dtype: float64"
      ]
     },
     "execution_count": 1555,
     "metadata": {},
     "output_type": "execute_result"
    }
   ],
   "source": [
    "apps.groupby('Category')['Installs'].mean().sort_values(ascending=False)"
   ]
  },
  {
   "cell_type": "markdown",
   "id": "769e7c86",
   "metadata": {},
   "source": [
    "#### Вывод: Больше всего скачивают приложения для общения с другими людьми"
   ]
  },
  {
   "cell_type": "markdown",
   "id": "2906dd24",
   "metadata": {},
   "source": [
    "### Самые популярные возрастные категории"
   ]
  },
  {
   "cell_type": "code",
   "execution_count": 1556,
   "id": "6723705d",
   "metadata": {},
   "outputs": [
    {
     "data": {
      "image/png": "[encoded data removed]",
      "text/plain": [
       "<Figure size 640x480 with 1 Axes>"
      ]
     },
     "metadata": {},
     "output_type": "display_data"
    }
   ],
   "source": [
    "sns.barplot(data=apps, x='Content_Rating', y='Installs')\n",
    "plt.tight_layout()"
   ]
  },
  {
   "cell_type": "markdown",
   "id": "f57e57e2",
   "metadata": {},
   "source": [
    "В среднем больше всего установок у приложений рейтинга Teen"
   ]
  },
  {
   "cell_type": "markdown",
   "id": "4a25c5af",
   "metadata": {},
   "source": [
    "Кол-во установок приложений Everyone и Mature 17+ отличаются не так уж сильно, учитывая, что Everyone составляет б<b>о</b>льшую часть всех приложений, а Mature 17+ совсем незначительную"
   ]
  },
  {
   "cell_type": "markdown",
   "id": "e564e057",
   "metadata": {},
   "source": [
    "#### Вывод: Приложения возрастной категории Teen значительно популярнее остальных"
   ]
  },
  {
   "cell_type": "markdown",
   "id": "06dc6691",
   "metadata": {},
   "source": [
    "### Размер приложения и его рейтинг"
   ]
  },
  {
   "cell_type": "code",
   "execution_count": 1567,
   "id": "e95b1c55",
   "metadata": {},
   "outputs": [
    {
     "data": {
      "text/plain": [
       "<AxesSubplot: xlabel='Size_Mb', ylabel='Rating'>"
      ]
     },
     "execution_count": 1567,
     "metadata": {},
     "output_type": "execute_result"
    },
    {
     "data": {
      "image/png": "[encoded data removed]",
      "text/plain": [
       "<Figure size 640x480 with 1 Axes>"
      ]
     },
     "metadata": {},
     "output_type": "display_data"
    }
   ],
   "source": [
    "sns.regplot(x=\"Size_Mb\", y=\"Rating\",data=apps, line_kws={\"color\": \"#372e4b\"})"
   ]
  },
  {
   "cell_type": "markdown",
   "id": "68669956",
   "metadata": {},
   "source": [
    "<b>Порог значимости</b>: alpha = 0.05  \n",
    "<b>Нулевая гипотеза</b>: Статистически значимая связь между переменными отсутствует"
   ]
  },
  {
   "cell_type": "code",
   "execution_count": 1558,
   "id": "b5c8f3fa",
   "metadata": {},
   "outputs": [
    {
     "data": {
      "text/plain": [
       "SpearmanrResult(correlation=0.04775215256033189, pvalue=1.5260501638443366e-05)"
      ]
     },
     "execution_count": 1558,
     "metadata": {},
     "output_type": "execute_result"
    }
   ],
   "source": [
    "stats.spearmanr(apps.Size_Mb, apps.Rating)"
   ]
  },
  {
   "cell_type": "markdown",
   "id": "288427df",
   "metadata": {},
   "source": [
    "Статистически значимая связь есть, но она, с моей точки зрения, незначительна и не несет никакой пользы (никто не будет искусственно увеличивать размер своего приложения в надежде на то, что рейтинг тоже вырастет)"
   ]
  },
  {
   "cell_type": "markdown",
   "id": "423a2cef",
   "metadata": {},
   "source": [
    "Наиболее полезным замечанием может быть следующее: <b>Если увеличить размер своего приложения, его рейтинг не упадет</b>"
   ]
  },
  {
   "cell_type": "markdown",
   "id": "756f9550",
   "metadata": {},
   "source": [
    "### Размер приложения и его популярность"
   ]
  },
  {
   "cell_type": "code",
   "execution_count": 1568,
   "id": "a4624f6c",
   "metadata": {},
   "outputs": [
    {
     "data": {
      "image/png": "[encoded data removed]",
      "text/plain": [
       "<Figure size 640x480 with 1 Axes>"
      ]
     },
     "metadata": {},
     "output_type": "display_data"
    }
   ],
   "source": [
    "sns.regplot(x=\"Size_Mb\", y=\"Installs\",data=apps, line_kws={\"color\": \"#372e4b\"})\n",
    "plt.yscale('log')"
   ]
  },
  {
   "cell_type": "markdown",
   "id": "11f89d03",
   "metadata": {},
   "source": [
    "<b>Порог значимости</b>: alpha = 0.05  \n",
    "<b>Нулевая гипотеза</b>: Статистически значимая связь между переменными отсутствует"
   ]
  },
  {
   "cell_type": "code",
   "execution_count": 1560,
   "id": "7e10048a",
   "metadata": {},
   "outputs": [
    {
     "data": {
      "text/plain": [
       "SpearmanrResult(correlation=0.3165686800334853, pvalue=3.5420020811099504e-190)"
      ]
     },
     "execution_count": 1560,
     "metadata": {},
     "output_type": "execute_result"
    }
   ],
   "source": [
    "stats.spearmanr(apps.Size_Mb, apps.Installs)"
   ]
  },
  {
   "cell_type": "markdown",
   "id": "76b15c39",
   "metadata": {},
   "source": [
    "#### Вывод: Размер приложения коррелирует с кол-вом его установок. Коэффициент корреляции Спирмена 0.32"
   ]
  },
  {
   "cell_type": "markdown",
   "id": "a82fff8d",
   "metadata": {},
   "source": [
    "## Главные инсайты:  \n",
    "1. Популярность приложения не коррелирует с его рейтингом \n",
    "2. Платные приложения в среднем оцениваются выше  \n",
    "3. Выше всего оценивают приложения категорий \"События\" и \"Образование\", ниже всего - дейтинговые приложения и карты  \n",
    "4. Больше всего скачивают приложения для общения с другими людьми  \n",
    "5. Больше всего скачивают приложения для возрастной категории \"Подростки\"  \n",
    "6. Размер приложения не коррелирует с его рейтингом"
   ]
  }
 ],
 "metadata": {
  "kernelspec": {
   "display_name": "Python 3 (ipykernel)",
   "language": "python",
   "name": "python3"
  },
  "language_info": {
   "codemirror_mode": {
    "name": "ipython",
    "version": 3
   },
   "file_extension": ".py",
   "mimetype": "text/x-python",
   "name": "python",
   "nbconvert_exporter": "python",
   "pygments_lexer": "ipython3",
   "version": "3.10.7"
  }
 },
 "nbformat": 4,
 "nbformat_minor": 5
}
